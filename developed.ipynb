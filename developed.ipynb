{
 "cells": [
  {
   "cell_type": "code",
   "execution_count": null,
   "id": "42a1c230-60c3-4b52-95e0-df949456bad8",
   "metadata": {},
   "outputs": [],
   "source": [
    "developing prompts and code for general information and chat bot thing"
   ]
  }
 ],
 "metadata": {
  "citation-manager": {
   "items": {}
  },
  "kernelspec": {
   "display_name": "",
   "name": ""
  },
  "language_info": {
   "name": ""
  }
 },
 "nbformat": 4,
 "nbformat_minor": 5
}
