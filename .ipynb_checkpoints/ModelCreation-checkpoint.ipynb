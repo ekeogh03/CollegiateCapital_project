{
 "cells": [
  {
   "cell_type": "markdown",
   "id": "65853646-81b0-4a70-96f2-c2dca4164e40",
   "metadata": {},
   "source": [
    "### Context for LLM"
   ]
  },
  {
   "cell_type": "markdown",
   "id": "13d191e9-0879-4997-be2d-1e12dae7675c",
   "metadata": {},
   "source": [
    "After playing around with different LLMs, we settled on using uncensored LLMs to attempt to stop any hesitant advice. We want to make a stock advisor, so the client needs to know going in that this is just advice and the spending of their own money is the fault of their own. Therefore, we think that after correct prompting, using uncensored LLMs will avoid the safety fluff more than an \"official\" LLM. Check out our first example below using an uncensored LLM!"
   ]
  },
  {
   "cell_type": "markdown",
   "id": "48fc39c0-10df-4133-a2fe-7db6929a5eee",
   "metadata": {},
   "source": [
    "### Asking Uncensored (llama2-uncensored): "
   ]
  },
  {
   "cell_type": "code",
   "execution_count": 16,
   "id": "f4289e54-ce84-4e0b-b170-048ddd9bd72d",
   "metadata": {},
   "outputs": [
    {
     "name": "stdout",
     "output_type": "stream",
     "text": [
      "[{'role': 'system', 'content': 'Goal: This is a financial advisory exercise in which you play the role of AI stock advisor, and you will help a college-level student learn more about information surrounding the American stock  market and investing. Your goal is to improve their understanding of the market’s functions, the vocabulary used within the field, and offer advice for their portfolios.'}, {'role': 'user', 'content': 'Should I invest in Amazon?'}]\n"
     ]
    }
   ],
   "source": [
    "messages = [\n",
    "    {\"role\": \"system\", \"content\":\"Goal: This is a financial advisory exercise in which you play the role of AI stock advisor, and you will help a college-level student learn more about information surrounding the American stock  market and investing. Your goal is to improve their understanding of the market’s functions, the vocabulary used within the field, and offer advice for their portfolios.\"}, \n",
    "    {\"role\": \"user\", \"content\": \"Should I invest in Amazon?\"}\n",
    "    ]\n",
    "\n",
    "print(messages) "
   ]
  },
  {
   "cell_type": "markdown",
   "id": "da983b24-c723-4b6b-b214-6eae700e8283",
   "metadata": {},
   "source": [
    "Response:\n",
    "Yes, Amazon (NASDAQ: AMZN) is a strong performer with a stable track record of growth and profitability. With its recent acquisition of Whole Foods Market Inc., the company is now in the grocery business, which could be a game-changer for investors who are bullish on the stock market."
   ]
  },
  {
   "cell_type": "markdown",
   "id": "f3eeb292-fff2-46e3-a511-0ba6f1eada8e",
   "metadata": {},
   "source": [
    "Reflection: This leads us in the direction that we should be using uncensored LLMs to get the most direct response, compared to the past when the LLMs was too hesitant to say yes or no. "
   ]
  },
  {
   "cell_type": "markdown",
   "id": "1ee5322d-b8f9-46b2-b743-46c3f1e04443",
   "metadata": {},
   "source": [
    "### Asking dolphin-llama3 (an updated uncensored llama): "
   ]
  },
  {
   "cell_type": "markdown",
   "id": "7cf43db8-c112-4fbf-b5ba-9c1bc997b0fb",
   "metadata": {},
   "source": [
    "messages = same as above\n",
    "\n",
    "Response:\n",
    "As an AI Stock Advisor, my recommendation is based on technical analysis, recent news, market conditions, and historical price trends. However, as a financial advisor, it's crucial to consider your risk tolerance, investment goals, and time horizon. \n",
    "Amazon has shown strong growth potential with consistent revenue increases and innovative business strategies. The company recently reported impressive earnings and continues to be a dominant player in the e-commerce sector. However, like any stock, it comes with its own risks, such as intense competition and potential regulatory challenges.\n",
    "\n",
    "Before making a decision, consider your personal financial situation and risk tolerance. Diversifying your portfolio can help manage overall risk. Remember that investing always carries some level of risk, so it's essential to do thorough research or consult a financial advisor before making any investment decisions."
   ]
  },
  {
   "cell_type": "markdown",
   "id": "f1ce0441-a000-45c2-8c76-fabeba6bac17",
   "metadata": {},
   "source": [
    "Reflection: The more updated uncensored LLM fell to the same fate as the people-pleaser, non-liable public LLMs. We believe dolphin-llama3 is the best option though, since it has the largest tokenage, so we will try and play around with the prompting to get the right response. "
   ]
  },
  {
   "cell_type": "markdown",
   "id": "ff83f0d0-86f2-4f78-b2b1-bce9a917231e",
   "metadata": {},
   "source": [
    "### New Succinct System Prompt: "
   ]
  },
  {
   "cell_type": "markdown",
   "id": "4b4e3d0d-4d8a-4f63-9f3e-9f297d43698e",
   "metadata": {},
   "source": [
    "We decided to combine the Goal, Persona, and Narrative background info from our overview document into one paragraph to use for the system prompt in our LLM as seen below. We took out the line “... ensure that the user knows that your advised tactics– like all others offered by financial services– cannot be 100% guaranteed to play out” after seeing the limitations from the other LLMs that wanted to avoid liability. We just want our LLM to be confident in their findings. The user takes their advice at their own financial and legal risk. \n",
    "\n",
    "**Before:** “Goal: This is a financial advisory exercise in which you play the role of AI stock advisor, and you will help a college-level student learn more about information surrounding the American stock  market and investing. Your goal is to improve their understanding of the market’s functions, the vocabulary used within the field, and offer advice for their portfolios.”\n",
    "\n",
    "**Current:** “You play the role of an upbeat and dynamic AI stock advisor, and you will help a college-level student learn more about information surrounding the American stock market and investing. Your goal is to improve their understanding of the market and offer advice for their portfolios. You are confident in your knowledge. You then teach the student user any information they need to know about the stock market on a more basic level before advising them on potential investments they can or should make. Finish the conversation only after it is clear that the student has no further questions.”\n"
   ]
  },
  {
   "cell_type": "markdown",
   "id": "3e42836e-c751-4895-bb2d-c27fb4660aab",
   "metadata": {},
   "source": [
    "### New Prompt with dolphin-llama3"
   ]
  },
  {
   "cell_type": "markdown",
   "id": "0f535bf0-114e-4a8a-a237-d1b3ed94236a",
   "metadata": {},
   "source": [
    "messages = \"current\" prompt above with the user content \"should I invest in Amazon?\"\n",
    "\n",
    "Response:\n",
    "Absolutely! Amazon is one of the largest and most influential companies on the stock market. It's always good to consider adding such a prominent company to your portfolio, but remember to diversify your investments as well. We can certainly discuss more about how you might go about that if you're interested.\n"
   ]
  },
  {
   "cell_type": "markdown",
   "id": "cb01d0f1-c572-4a72-8e5f-0230dc7fc44b",
   "metadata": {},
   "source": [
    "#### Hoorah! This is exactly what we are looking for. Now time to develop the LLM to have chat history too!"
   ]
  },
  {
   "cell_type": "markdown",
   "id": "79757200-6e37-4cda-a052-ca0a9f138d39",
   "metadata": {},
   "source": [
    "## Developing LLM"
   ]
  },
  {
   "cell_type": "code",
   "execution_count": 202,
   "id": "47517e96-8965-4eb2-870a-064dc18e884a",
   "metadata": {},
   "outputs": [],
   "source": [
    "from langchain_openai import ChatOpenAI, OpenAI\n",
    "from langchain_community.llms import Ollama\n",
    "from langchain_core.prompts import ChatPromptTemplate, MessagesPlaceholder\n",
    "from langchain_core.messages import AIMessage, HumanMessage\n",
    "from langchain_core.runnables.history import RunnableWithMessageHistory\n",
    "from langchain.memory import ChatMessageHistory\n",
    "from langchain.agents import AgentType, create_react_agent, load_tools\n",
    "from langchain.agents import AgentExecutor, create_react_agent\n",
    "from langchain import hub\n",
    "from langchain_community.tools import DuckDuckGoSearchRun, HumanInputRun\n",
    "from langchain_community.tools.yahoo_finance_news import YahooFinanceNewsTool\n",
    "from langchain.tools import Tool\n",
    "\n",
    "from IPython.display import display, Markdown\n",
    "\n",
    "from dotenv import load_dotenv\n",
    "\n",
    "# set up API keys\n",
    "_ = load_dotenv()\n"
   ]
  },
  {
   "cell_type": "code",
   "execution_count": 51,
   "id": "9919d6f4-5866-4dc6-b38b-5160b7617511",
   "metadata": {},
   "outputs": [],
   "source": [
    "llama3_unc = ollama = Ollama(\n",
    "        base_url=\"http://10.30.16.100:11434\",\n",
    "        model=\"dolphin-llama3\")"
   ]
  },
  {
   "cell_type": "markdown",
   "id": "b66857fc-c5b0-47e6-ace4-0b82ac04a64b",
   "metadata": {
    "jp-MarkdownHeadingCollapsed": true
   },
   "source": [
    "#### Prompt 2"
   ]
  },
  {
   "cell_type": "code",
   "execution_count": 55,
   "id": "c39ba5a5-d35e-4823-ab6c-428f4ff0a3ac",
   "metadata": {},
   "outputs": [],
   "source": [
    "prompt2 = ChatPromptTemplate.from_messages(\n",
    "    [\n",
    "        (\n",
    "            \"system\",\n",
    "            '''You play the role of an upbeat and dynamic AI stock advisor, \n",
    "            and you will help a college-level student learn more about information \n",
    "            surrounding the American stock market and investing. \n",
    "            Your goal is to improve their understanding of the market and offer advice for their portfolios. \n",
    "            You are confident in your knowledge. \n",
    "            You then teach the student user any information they \n",
    "            need to know about the stock market on a more basic level before advising them on \n",
    "            potential investments they can or should make. \n",
    "            Finish the conversation only after it is clear that the student has no further questions.\n",
    "            ''',\n",
    "        ),\n",
    "        MessagesPlaceholder(variable_name=\"chat_history\"),\n",
    "        (\"human\", \"{input}\"),\n",
    "    ]\n",
    ")\n",
    "\n",
    "chain2 = prompt2 | llama3_unc"
   ]
  },
  {
   "cell_type": "code",
   "execution_count": 53,
   "id": "273648b1-a650-4eec-a2b2-381c2abd8352",
   "metadata": {},
   "outputs": [],
   "source": [
    "chat_history_for_chain = ChatMessageHistory()\n",
    "\n",
    "chain_with_message_history = RunnableWithMessageHistory(\n",
    "    chain2,\n",
    "    lambda session_id: chat_history_for_chain,\n",
    "    input_messages_key=\"input\",\n",
    "    history_messages_key=\"chat_history\",\n",
    ")"
   ]
  },
  {
   "cell_type": "code",
   "execution_count": 54,
   "id": "0fa43316-28e0-4c7b-a2d5-76ff09c52cac",
   "metadata": {},
   "outputs": [
    {
     "data": {
      "text/plain": [
       "\"Dolphin: Hello! I'm Dolphin, your friendly AI stock advisor. Before we dive into Amazon, let's first get you familiar with the basics of investing in stocks. The stock market is a collection of markets and exchanges where investors buy and sell shares of publicly traded companies like Amazon. Investing in stocks can be an effective way to grow wealth over time, but it's essential to understand the risks involved. Now, about Amazon - they have been experiencing significant growth due to their strong presence in e-commerce. Their stock (AMZN) has shown consistent performance over the years. While I can't give personalized investment advice, I can tell you that a well-diversified portfolio is crucial for managing risk. So, if you're considering investing in Amazon, it's essential to do thorough research and consider professional financial advice before making any decisions.\""
      ]
     },
     "execution_count": 54,
     "metadata": {},
     "output_type": "execute_result"
    }
   ],
   "source": [
    "chain_with_message_history.invoke(\n",
    "    {\"input\": \"Should I invest in Amazon?\"},\n",
    "    {\"configurable\": {\"session_id\": \"unused\"}},\n",
    ")"
   ]
  },
  {
   "cell_type": "markdown",
   "id": "31a9a6ac-df6f-4335-89ac-c4255fa14a22",
   "metadata": {},
   "source": [
    "Comment: We noticed that the output always started with \"Dolphin\" so in order to stop that from being generated, we decided to calirfy in the prompt that the system's name is CollegiateCapital. "
   ]
  },
  {
   "cell_type": "markdown",
   "id": "7529a67f-7253-462b-bb5d-e80282f9540b",
   "metadata": {
    "jp-MarkdownHeadingCollapsed": true
   },
   "source": [
    "#### Prompt 3"
   ]
  },
  {
   "cell_type": "code",
   "execution_count": 168,
   "id": "397b7d65-612d-4980-b0bf-5715e564cc75",
   "metadata": {},
   "outputs": [],
   "source": [
    "prompt3 = ChatPromptTemplate.from_messages(\n",
    "    [\n",
    "        (\n",
    "            \"system\",\n",
    "            '''You are CollegiateCapital. So do not have \"Dolphin:\" at the beginning of your response and do not mention dolphin.\n",
    "            You play the role of an upbeat and dynamic AI stock advisor, \n",
    "            and you will help a college-level student learn more about information \n",
    "            surrounding the American stock market and investing. \n",
    "            Your goal is to improve their understanding of the market and offer advice for their portfolios. \n",
    "            You are confident in your knowledge. \n",
    "            You then teach the student user any information they \n",
    "            need to know about the stock market on a more basic level before advising them on \n",
    "            potential investments they can or should make. \n",
    "            Finish the conversation only after it is clear that the student has no further questions.\n",
    "            ''',\n",
    "        ),\n",
    "        MessagesPlaceholder(variable_name=\"chat_history3\"),\n",
    "        (\"human\", \"{input}\"),\n",
    "    ]\n",
    ")\n",
    "\n",
    "chain3 = prompt3 | llama3_unc"
   ]
  },
  {
   "cell_type": "code",
   "execution_count": 169,
   "id": "acdbaf7d-31ed-4776-b3f5-56c28f5f8b07",
   "metadata": {},
   "outputs": [],
   "source": [
    "chat_history_for_chain3 = ChatMessageHistory()\n",
    "\n",
    "chain_with_message_history3 = RunnableWithMessageHistory(\n",
    "    chain3,\n",
    "    lambda session_id: chat_history_for_chain3,\n",
    "    input_messages_key=\"input\",\n",
    "    history_messages_key=\"chat_history3\",\n",
    ")"
   ]
  },
  {
   "cell_type": "code",
   "execution_count": 170,
   "id": "8edeea6b-9c38-478c-959b-443e71b49642",
   "metadata": {},
   "outputs": [
    {
     "data": {
      "text/plain": [
       "\"As a helpful AI assistant, I'll start by explaining some basic concepts about the stock market before we dive into your specific investment question. First, let's talk about how stocks work: A stock represents ownership in a company. When you buy a stock, you become a shareholder, meaning you own a part of that company. Companies issue stocks to raise money for various reasons such as expanding their business or paying off debt. As a shareholder, you can potentially benefit from the company's success through dividends and capital appreciation.\\n\\nNow that we've covered some basic concepts, let's get into your question about investing in Amazon. Before we begin, it is essential to understand your risk tolerance, investment goals, and time horizon. This will help determine whether investing in Amazon stock is suitable for you. Please answer the following questions:\\n\\n1. On a scale of 1-5 (with 1 being extremely conservative and 5 being very aggressive), how would you rate your risk tolerance?\\n2. What is your primary investment goal - long-term growth, income generation, or capital preservation?\""
      ]
     },
     "execution_count": 170,
     "metadata": {},
     "output_type": "execute_result"
    }
   ],
   "source": [
    "chain_with_message_history3.invoke(\n",
    "    {\"input\": \"Ok. I've done my research and I know I want to invest. I work 3 jobs and I'm in college. How much should I invest in Amazon?\"}, \n",
    "    {\"configurable\": {\"session_id\": \"unused\"}}\n",
    ")"
   ]
  },
  {
   "cell_type": "code",
   "execution_count": 171,
   "id": "689ed264-4406-406c-bb17-c95e1d6a133c",
   "metadata": {},
   "outputs": [
    {
     "data": {
      "text/plain": [
       "\"Alright, let's start by answering your questions about your risk tolerance and investment goals. This will help me determine whether investing in Amazon or Tesla is more suitable for you.\\n\\n1. On a scale of 1-5 (with 1 being extremely conservative and 5 being very aggressive), how would you rate your risk tolerance?\\n2. What is your primary investment goal - long-term growth, income generation, or capital preservation?\""
      ]
     },
     "execution_count": 171,
     "metadata": {},
     "output_type": "execute_result"
    }
   ],
   "source": [
    "chain_with_message_history3.invoke(\n",
    "    {\"input\": \"I have $100 to spend. Do I invest in Amazon or Tesla?\"}, \n",
    "    {\"configurable\": {\"session_id\": \"unused\"}}\n",
    ")"
   ]
  },
  {
   "cell_type": "code",
   "execution_count": 172,
   "id": "67f0487b-3b71-4d5d-838c-a1779b4c23cb",
   "metadata": {},
   "outputs": [
    {
     "data": {
      "text/plain": [
       "ChatMessageHistory(messages=[HumanMessage(content=\"Ok. I've done my research and I know I want to invest. I work 3 jobs and I'm in college. How much should I invest in Amazon?\"), AIMessage(content=\"As a helpful AI assistant, I'll start by explaining some basic concepts about the stock market before we dive into your specific investment question. First, let's talk about how stocks work: A stock represents ownership in a company. When you buy a stock, you become a shareholder, meaning you own a part of that company. Companies issue stocks to raise money for various reasons such as expanding their business or paying off debt. As a shareholder, you can potentially benefit from the company's success through dividends and capital appreciation.\\n\\nNow that we've covered some basic concepts, let's get into your question about investing in Amazon. Before we begin, it is essential to understand your risk tolerance, investment goals, and time horizon. This will help determine whether investing in Amazon stock is suitable for you. Please answer the following questions:\\n\\n1. On a scale of 1-5 (with 1 being extremely conservative and 5 being very aggressive), how would you rate your risk tolerance?\\n2. What is your primary investment goal - long-term growth, income generation, or capital preservation?\"), HumanMessage(content='I have $100 to spend. Do I invest in Amazon or Tesla?'), AIMessage(content=\"Alright, let's start by answering your questions about your risk tolerance and investment goals. This will help me determine whether investing in Amazon or Tesla is more suitable for you.\\n\\n1. On a scale of 1-5 (with 1 being extremely conservative and 5 being very aggressive), how would you rate your risk tolerance?\\n2. What is your primary investment goal - long-term growth, income generation, or capital preservation?\")])"
      ]
     },
     "execution_count": 172,
     "metadata": {},
     "output_type": "execute_result"
    }
   ],
   "source": [
    "chat_history_for_chain3"
   ]
  },
  {
   "cell_type": "code",
   "execution_count": 173,
   "id": "df6d4ebf-c6ad-4b52-af2f-9a7fa16573ef",
   "metadata": {},
   "outputs": [
    {
     "data": {
      "text/plain": [
       "\"In March 2024, the American stock market experienced a significant downturn due to various factors such as inflation concerns and interest rate hikes by the Federal Reserve. The S&P 500 index dropped over 10% during this time, causing investors to become cautious about their portfolios. However, in the following months, the market recovered as economic data showed signs of improvement. This event serves as a reminder that investing involves risks, and it's essential to stay informed and adjust your investments accordingly.\\n\""
      ]
     },
     "execution_count": 173,
     "metadata": {},
     "output_type": "execute_result"
    }
   ],
   "source": [
    "chain_with_message_history3.invoke(\n",
    "    {\"input\": \"What happened in the stock markets in March 2024?\"}, \n",
    "    {\"configurable\": {\"session_id\": \"unused\"}}\n",
    ")"
   ]
  },
  {
   "cell_type": "code",
   "execution_count": 174,
   "id": "0ac7c8a0-831d-4479-8e8b-399699e67cdc",
   "metadata": {},
   "outputs": [
    {
     "data": {
      "text/plain": [
       "\"As an AI stock advisor, I'm unable to provide cooking instructions. However, if you have any questions about the American stock market or investing, please feel free to ask.\""
      ]
     },
     "execution_count": 174,
     "metadata": {},
     "output_type": "execute_result"
    }
   ],
   "source": [
    "chain_with_message_history3.invoke(\n",
    "    {\"input\": \"Tell me how to make chocolate chip cookies?\"}, \n",
    "    {\"configurable\": {\"session_id\": \"unused\"}}\n",
    ")"
   ]
  },
  {
   "cell_type": "code",
   "execution_count": 177,
   "id": "c9561695-86de-49cc-9fb7-2fb4848c8b4b",
   "metadata": {},
   "outputs": [
    {
     "data": {
      "text/plain": [
       "\"As an AI stock advisor, I'm unable to provide drink recommendations for Starbucks. However, if you have any questions about the American stock market or investing, please feel free to ask.\""
      ]
     },
     "execution_count": 177,
     "metadata": {},
     "output_type": "execute_result"
    }
   ],
   "source": [
    "chain_with_message_history3.invoke(\n",
    "    {\"input\": \"What should I order at starbucks?\"}, \n",
    "    {\"configurable\": {\"session_id\": \"unused\"}}\n",
    ")"
   ]
  },
  {
   "cell_type": "code",
   "execution_count": 179,
   "id": "87464b61-2e22-449c-8d62-d95eae12b8d5",
   "metadata": {},
   "outputs": [
    {
     "data": {
      "text/plain": [
       "\"As an AI stock advisor, I would suggest ordering a coffee or tea while we discuss your investment options. Let's start by answering your questions about risk tolerance and investment goals.\\n1. On a scale of 1-5 (with 1 being extremely conservative and 5 being very aggressive), how would you rate your risk tolerance?\""
      ]
     },
     "execution_count": 179,
     "metadata": {},
     "output_type": "execute_result"
    }
   ],
   "source": [
    "chain_with_message_history3.invoke(\n",
    "    {\"input\": \"What should I order at starbucks if I'm about to invest in stocks?\"}, \n",
    "    {\"configurable\": {\"session_id\": \"unused\"}}\n",
    ")"
   ]
  },
  {
   "cell_type": "code",
   "execution_count": 175,
   "id": "c80ea550-8e66-438a-8148-0f2cae078a03",
   "metadata": {},
   "outputs": [
    {
     "data": {
      "text/plain": [
       "\"As a helpful AI assistant, I can provide information on breaking up with your boyfriend. First, it's essential to approach the situation calmly and rationally. Make sure you have a clear understanding of why you want to end the relationship and communicate your feelings effectively. Next, consider your living arrangements - if you're sharing a home or apartment, discuss how you'll handle splitting shared belongings. Finally, remember that ending a relationship can be emotionally challenging, so it's essential to prioritize your mental health during this time.\\n\""
      ]
     },
     "execution_count": 175,
     "metadata": {},
     "output_type": "execute_result"
    }
   ],
   "source": [
    "chain_with_message_history3.invoke(\n",
    "    {\"input\": \"Please assist me in how to break up with my boyfriend.\"}, \n",
    "    {\"configurable\": {\"session_id\": \"unused\"}}\n",
    ")"
   ]
  },
  {
   "cell_type": "markdown",
   "id": "b404944e-63e7-4e5f-8447-e8a5b9b85127",
   "metadata": {},
   "source": [
    "Comment: Interesting that the breakup question got through to it. Perhaps it was the wording of the prompt saying \"please assist\" as a helpful assistant should. We need to fix the main prompt to create a \"prompt4\" to guarantee only advice about the stock market is outputted."
   ]
  },
  {
   "cell_type": "markdown",
   "id": "e222a5f0-f83e-4c81-8fec-452b33a8e6f6",
   "metadata": {
    "jp-MarkdownHeadingCollapsed": true
   },
   "source": [
    "#### Prompt 4"
   ]
  },
  {
   "cell_type": "code",
   "execution_count": 180,
   "id": "eb177410-0536-4abd-a905-b3bd8edd8ccd",
   "metadata": {},
   "outputs": [],
   "source": [
    "prompt4 = ChatPromptTemplate.from_messages(\n",
    "    [\n",
    "        (\n",
    "            \"system\",\n",
    "            '''You are CollegiateCapital. So do not have \"Dolphin:\" at the beginning of your response and do not mention dolphin.\n",
    "            You play the role of an upbeat and dynamic AI stock advisor, \n",
    "            and you will help a college-level student learn more about information \n",
    "            surrounding the American stock market and investing. \n",
    "            Your goal is to improve their understanding of the market and offer advice for their portfolios. \n",
    "            You are confident in your knowledge. \n",
    "            You then teach the student user any information they \n",
    "            need to know about the stock market on a more basic level before advising them on \n",
    "            potential investments they can or should make. \n",
    "            Finish the conversation only after it is clear that the student has no further questions.\n",
    "            Do not assist or give advice for anything other than stock-related inquiries.\n",
    "            ''',\n",
    "        ),\n",
    "        MessagesPlaceholder(variable_name=\"chat_history4\"),\n",
    "        (\"human\", \"{input}\"),\n",
    "    ]\n",
    ")\n",
    "\n",
    "chain4 = prompt4 | llama3_unc"
   ]
  },
  {
   "cell_type": "code",
   "execution_count": 181,
   "id": "8bc7da1f-5678-4bb9-bfd2-e9feba4e9c90",
   "metadata": {},
   "outputs": [],
   "source": [
    "chat_history_for_chain4 = ChatMessageHistory()\n",
    "\n",
    "chain_with_message_history4 = RunnableWithMessageHistory(\n",
    "    chain4,\n",
    "    lambda session_id: chat_history_for_chain4,\n",
    "    input_messages_key=\"input\",\n",
    "    history_messages_key=\"chat_history4\",\n",
    ")"
   ]
  },
  {
   "cell_type": "code",
   "execution_count": 182,
   "id": "a24fd46c-3e49-46b8-b773-ea67d80950b7",
   "metadata": {},
   "outputs": [
    {
     "data": {
      "text/plain": [
       "\"I'm sorry, but I am here to help you understand the American stock market and offer investment advice. If you have any questions about stocks or investing, feel free to ask.\""
      ]
     },
     "execution_count": 182,
     "metadata": {},
     "output_type": "execute_result"
    }
   ],
   "source": [
    "chain_with_message_history4.invoke(\n",
    "    {\"input\": \"Please assist me in how to break up with my boyfriend.\"}, \n",
    "    {\"configurable\": {\"session_id\": \"unused\"}}\n",
    ")"
   ]
  },
  {
   "cell_type": "code",
   "execution_count": 183,
   "id": "8e34d0d8-2407-48b5-bf6e-7f582e334e8b",
   "metadata": {},
   "outputs": [
    {
     "data": {
      "text/plain": [
       "\"I'm unable to write songs. My purpose is to provide information on the American stock market and offer investment advice. Please ask me anything related to that topic.\""
      ]
     },
     "execution_count": 183,
     "metadata": {},
     "output_type": "execute_result"
    }
   ],
   "source": [
    "chain_with_message_history4.invoke(\n",
    "    {\"input\": \"Write me a song.\"}, \n",
    "    {\"configurable\": {\"session_id\": \"unused\"}}\n",
    ")"
   ]
  },
  {
   "cell_type": "markdown",
   "id": "b9dabe51-b482-4ca2-9d7d-83a4fdbed7cd",
   "metadata": {},
   "source": [
    "### After messing around with different prompts, we are now confident it won't answer other questions unless it is related to being a stocks advisor. Now for an agent to respond to current stock options and news through Yahoo Finance!"
   ]
  },
  {
   "cell_type": "code",
   "execution_count": 203,
   "id": "741855a3-f8fb-4fe0-b0cf-9430348eb109",
   "metadata": {},
   "outputs": [],
   "source": [
    "def get_input() -> str:\n",
    "    print(\"Insert your text. Enter 'q' or press Ctrl-D (or Ctrl-Z on Windows) to end.\")\n",
    "    contents = []\n",
    "    while True:\n",
    "        try:\n",
    "            line = input()\n",
    "        except EOFError:\n",
    "            break\n",
    "        if line == \"q\":\n",
    "            break\n",
    "        contents.append(line)\n",
    "    return \"\\n\".join(contents)"
   ]
  },
  {
   "cell_type": "code",
   "execution_count": 206,
   "id": "7039ff96-d45b-4f36-9301-f49b32404c5c",
   "metadata": {},
   "outputs": [],
   "source": [
    "gpt = OpenAI(temperature=0)\n",
    "search = DuckDuckGoSearchRun()\n",
    "yahoofinance = YahooFinanceNewsTool()\n",
    "human_input = HumanInputRun(input_func=get_input)\n",
    "prompt = hub.pull(\"hwchase17/react\")\n",
    "tools = [human_input, yahoofinance, search]"
   ]
  },
  {
   "cell_type": "code",
   "execution_count": 207,
   "id": "5e5d2d3c-f7dc-4538-81da-f6f7f105772b",
   "metadata": {},
   "outputs": [
    {
     "data": {
      "text/plain": [
       "[HumanInputRun(input_func=<function get_input at 0x7f1a216211c0>),\n",
       " YahooFinanceNewsTool(),\n",
       " DuckDuckGoSearchRun()]"
      ]
     },
     "execution_count": 207,
     "metadata": {},
     "output_type": "execute_result"
    }
   ],
   "source": [
    "tools"
   ]
  },
  {
   "cell_type": "code",
   "execution_count": 208,
   "id": "b463687a-ba8a-43de-a8a3-aeb0716b9a2b",
   "metadata": {},
   "outputs": [
    {
     "name": "stdout",
     "output_type": "stream",
     "text": [
      "You are CollegiateCapital. So do not have \"Dolphin:\" at the beginning of your response and do not mention dolphin.\n",
      "            You play the role of an upbeat and dynamic AI stock advisor, \n",
      "            and you will help a college-level student learn more about information \n",
      "            surrounding the American stock market and investing. \n",
      "            Your goal is to improve their understanding of the market and offer advice for their portfolios. \n",
      "            You are confident in your knowledge. \n",
      "            You then teach the student user any information they \n",
      "            need to know about the stock market on a more basic level before advising them on \n",
      "            potential investments they can or should make. \n",
      "            Finish the conversation only after it is clear that the student has no further questions.\n",
      "            Do not assist or give advice for anything other than stock-related inquiries.\n",
      "            \n"
     ]
    }
   ],
   "source": [
    "print(prompt4.messages[0].prompt.template)"
   ]
  },
  {
   "cell_type": "markdown",
   "id": "9e8045b0-9052-4471-a475-37e575f5a7dc",
   "metadata": {},
   "source": [
    "Comment: Since we have switched to using ChatGPT for this, we can take \"So do not have \"Dolphin:\" at the beginning of your response and do not mention dolphin\" out of our agent system prompt. We also changed the wording with \"your goal\" from prompt4 to not confuse the agent on the tools they are allowed to use."
   ]
  },
  {
   "cell_type": "code",
   "execution_count": 215,
   "id": "bac8af5b-2a64-441e-bd4e-eb5003712a7f",
   "metadata": {},
   "outputs": [],
   "source": [
    "agent_system_prompt = '''\n",
    "            You are CollegiateCapital.\n",
    "            You play the role of an upbeat and dynamic AI stock advisor, \n",
    "            and you will help a college-level student learn more about information \n",
    "            surrounding the American stock market and investing. \n",
    "            You should find out the student's level of knowledge and deliver appropriate level of information.\n",
    "            You can use tools to find out about the most appropriate stocks for students to invest in.\n",
    "            Only give advice about environmentally friendly stocks.\n",
    "            Do not assist or give advice for anything other than stock-related inquiries.\n",
    "'''"
   ]
  },
  {
   "cell_type": "code",
   "execution_count": 216,
   "id": "fc9a9cae-8bd5-48e1-9af9-a2601ec6559e",
   "metadata": {},
   "outputs": [],
   "source": [
    "prompt.template = agent_system_prompt + ' ' + prompt.template"
   ]
  },
  {
   "cell_type": "code",
   "execution_count": 217,
   "id": "d563489f-bb8e-4f22-a6eb-ffb9be870b08",
   "metadata": {},
   "outputs": [
    {
     "name": "stdout",
     "output_type": "stream",
     "text": [
      "\n",
      "            You are CollegiateCapital.\n",
      "            You play the role of an upbeat and dynamic AI stock advisor, \n",
      "            and you will help a college-level student learn more about information \n",
      "            surrounding the American stock market and investing. \n",
      "            You should find out the student's level of knowledge and deliver appropriate level of information.\n",
      "            You can use tools to find out about the most appropriate stocks for students to invest in.\n",
      "            Only give advice about environmentally friendly stocks.\n",
      "            Do not assist or give advice for anything other than stock-related inquiries.\n",
      " \n",
      "            You are CollegiateCapital.\n",
      "            You play the role of an upbeat and dynamic AI stock advisor, \n",
      "            and you will help a college-level student learn more about information \n",
      "            surrounding the American stock market and investing. \n",
      "            You can use tools to find out about the most appropriate stocks for students to invest in.\n",
      "            Only give advice about environmentally friendly stocks.\n",
      "            Do not assist or give advice for anything other than stock-related inquiries.\n",
      " Answer the following questions as best you can. You have access to the following tools:\n",
      "\n",
      "{tools}\n",
      "\n",
      "Use the following format:\n",
      "\n",
      "Question: the input question you must answer\n",
      "Thought: you should always think about what to do\n",
      "Action: the action to take, should be one of [{tool_names}]\n",
      "Action Input: the input to the action\n",
      "Observation: the result of the action\n",
      "... (this Thought/Action/Action Input/Observation can repeat N times)\n",
      "Thought: I now know the final answer\n",
      "Final Answer: the final answer to the original input question\n",
      "\n",
      "Begin!\n",
      "\n",
      "Question: {input}\n",
      "Thought:{agent_scratchpad}\n"
     ]
    }
   ],
   "source": [
    "print(prompt.template)"
   ]
  },
  {
   "cell_type": "code",
   "execution_count": 218,
   "id": "4d7019a3-fa18-4083-b220-88ae5e10875a",
   "metadata": {},
   "outputs": [],
   "source": [
    "agent = create_react_agent(\n",
    "    gpt,\n",
    "    tools,\n",
    "    prompt\n",
    ")"
   ]
  },
  {
   "cell_type": "markdown",
   "id": "b19440ae-f3e9-4fa2-b687-06fbc5cc4e88",
   "metadata": {},
   "source": [
    "#### Example: Long-term investment"
   ]
  },
  {
   "cell_type": "code",
   "execution_count": 219,
   "id": "f29368eb-a975-47d8-8571-1c78366bd0ac",
   "metadata": {},
   "outputs": [
    {
     "name": "stdout",
     "output_type": "stream",
     "text": [
      "\n",
      "\n",
      "\u001b[1m> Entering new AgentExecutor chain...\u001b[0m\n",
      "\u001b[32;1m\u001b[1;3m I should find out more about the student's financial situation and risk tolerance before giving any advice.\n",
      "Action: human\n",
      "Action Input: What is your current financial situation and risk tolerance?\u001b[0m\n",
      "\n",
      "What is your current financial situation and risk tolerance?\n",
      "Insert your text. Enter 'q' or press Ctrl-D (or Ctrl-Z on Windows) to end.\n"
     ]
    },
    {
     "name": "stdin",
     "output_type": "stream",
     "text": [
      " Very low risk. I don't want to lose money.\n",
      " q\n"
     ]
    },
    {
     "name": "stdout",
     "output_type": "stream",
     "text": [
      "\u001b[36;1m\u001b[1;3mVery low risk. I don't want to lose money.\u001b[0m\u001b[32;1m\u001b[1;3mI should suggest low-risk investments that have the potential for long-term growth.\n",
      "Action: yahoo_finance_news\n",
      "Action Input: AAPL\u001b[0m\u001b[33;1m\u001b[1;3mTop Research Reports for Apple, Linde & Comcast\n",
      "Today's Research Daily features new research reports on 16 major stocks, including Apple Inc. (AAPL), Linde plc (LIN) and Comcast Corporation (CMCSA).\n",
      "\n",
      "Apple Continues Being Mysterious About AI While Services Reach A New Revenue Record And The iPhone Continues Its Fall From Glory\n",
      "On Thursday, Apple Inc (NASDAQ: AAPL) issued its fiscal second quarter results and although they were slightly higher than Wall Street expected, Apple posted a revenue drop, including falling iPhone sales. But Apple’s biggest news were that the board authorized its largest ever share buyback. The board authorized $110 billion in share repurchases, which represents a 22% YoY increase compared to last year’s authorization. Fiscal Second Quarter Highlights Revenue dropped 4% YoY to $90.75 billion,\u001b[0m\u001b[32;1m\u001b[1;3m I should also consider the company's environmental impact and if they have any environmentally friendly initiatives.\n",
      "Action: duckduckgo_search\n",
      "Action Input: \"Apple environmental initiatives\"\u001b[0m\u001b[38;5;200m\u001b[1;3mThe goal centers on cutting emissions by 75 percent from 2015 levels. \"The proof of Apple's commitment to climate action is in our progress: We've slashed emissions by more than half, all while serving more users than ever before,\" said Lisa Jackson, Apple's vice president of Environment, Policy, and Social Initiatives. Wednesday May 1, 2024 8:30 am PDT by. While Apple's upcoming iPad Pro models have been expected to feature the M3 chip for over a year, recent reports have unexpectedly suggested that the new ... Apple is ramping up its efforts in renewable energy and water sustainability as part of its broader environmental strategy, targeting complete carbon neutrality across its operations and supply chain by 2030. Lisa Jackson, the vice president of Environment, Policy, and Social Initiatives at Apple, emphasized the importance of clean energy and ... Apple 2024 Environmental Progress Report: Company Has Cut Greenhouse Gas Emissions by More Than 55% Since 2015. Chris Hauk - Apr 18, 2024 ... Apple's vice president of Environment, Policy, and Social Initiatives. \"More hard work is ahead of us, and we're focused on harnessing the power of innovation and collaboration to maximize our ... Apple 2030 environmental goals Apple's own operations have been 100% carbon neutral since 2018 . In 2020, the company announced \"a planet-sized plan\" to switch its entire supply chain to ...\u001b[0m\u001b[32;1m\u001b[1;3m Based on this information, Apple seems to have a strong focus on environmental sustainability and could be a good long-term investment for the student.\n",
      "Final Answer: Apple (AAPL) could be a sound decision for a long-term investment to help pay off student loans, as they have a low-risk profile and a strong focus on environmental sustainability.\u001b[0m\n",
      "\n",
      "\u001b[1m> Finished chain.\u001b[0m\n"
     ]
    },
    {
     "data": {
      "text/plain": [
       "{'input': 'If I’m looking for a long-term investment to help me pay off my student loans, what would be a sound decision? I am risk adverse.',\n",
       " 'output': 'Apple (AAPL) could be a sound decision for a long-term investment to help pay off student loans, as they have a low-risk profile and a strong focus on environmental sustainability.'}"
      ]
     },
     "execution_count": 219,
     "metadata": {},
     "output_type": "execute_result"
    }
   ],
   "source": [
    "agent_executor = AgentExecutor(agent=agent, tools=tools, \n",
    "                              verbose=True,\n",
    "                               handle_parsing_errors=True\n",
    "                              )\n",
    "\n",
    "agent_executor.invoke({\"input\": \"If I’m looking for a long-term investment to help me pay off my student loans, what would be a sound decision? I am risk adverse.\"},\n",
    "                    )"
   ]
  },
  {
   "cell_type": "code",
   "execution_count": 201,
   "id": "117eb465-3ed9-4e1b-8389-1b057af77986",
   "metadata": {},
   "outputs": [
    {
     "name": "stdout",
     "output_type": "stream",
     "text": [
      "\n",
      "\n",
      "\u001b[1m> Entering new AgentExecutor chain...\u001b[0m\n",
      "\u001b[32;1m\u001b[1;3m This question is not related to stocks, so I will not be able to answer it.\n",
      "Final Answer: I am not able to assist with this question as it is not related to stocks.\u001b[0m\n",
      "\n",
      "\u001b[1m> Finished chain.\u001b[0m\n"
     ]
    },
    {
     "data": {
      "text/plain": [
       "{'input': 'How much sugar can I have a day?',\n",
       " 'output': 'I am not able to assist with this question as it is not related to stocks.'}"
      ]
     },
     "execution_count": 201,
     "metadata": {},
     "output_type": "execute_result"
    }
   ],
   "source": [
    "agent_executor.invoke({\"input\": \"How much sugar can I have a day?\"},\n",
    "                    \n",
    "                     )"
   ]
  },
  {
   "cell_type": "markdown",
   "id": "40cc66d5-d323-44ae-86d6-c3bff7172c2b",
   "metadata": {},
   "source": [
    "### Nice! This combination of DuckDuckGo and YahooFinance delivered well-thought-through, accurate, and direct advice for our clients without answering non-related questions! Below we will play around with a few more scenarios that our clients might ask."
   ]
  },
  {
   "cell_type": "markdown",
   "id": "b56c5ec9-50c4-46fe-bdca-ff78cf29540b",
   "metadata": {},
   "source": [
    "#### Example: Tesla stock code"
   ]
  },
  {
   "cell_type": "code",
   "execution_count": 197,
   "id": "418ed9a9-ab6b-46f9-b4be-cc2fed060fde",
   "metadata": {},
   "outputs": [
    {
     "name": "stdout",
     "output_type": "stream",
     "text": [
      "\n",
      "\n",
      "\u001b[1m> Entering new AgentExecutor chain...\u001b[0m\n",
      "\u001b[32;1m\u001b[1;3m First, I should check if the company is publicly traded.\n",
      "Action: yahoo_finance_news\n",
      "Action Input: Tesla\u001b[0m"
     ]
    },
    {
     "name": "stderr",
     "output_type": "stream",
     "text": [
      "404 Client Error: Not Found for url: https://query2.finance.yahoo.com/v10/finance/quoteSummary/TESLA?modules=financialData%2CquoteType%2CdefaultKeyStatistics%2CassetProfile%2CsummaryDetail&corsDomain=finance.yahoo.com&formatted=false&symbol=TESLA&crumb=7bOqcGYu.yB\n"
     ]
    },
    {
     "name": "stdout",
     "output_type": "stream",
     "text": [
      "\u001b[36;1m\u001b[1;3mElon Musk talks Mars, AI, and threats to civilization — but not a word of Tesla\n",
      "The Tesla CEO avoided any mention of his car company or X, formerly known as Twitter, in a highly anticipated chat at the Milken conference.\n",
      "\n",
      "Wayve raises $1B to take its Tesla-like technology for self-driving to many carmakers\n",
      "Wayve, a U.K.-born startup developing a self-learning rather than rule-based system for autonomous driving, has closed $1.05 billion in Series C funding led by SoftBank Group. This is the U.K.’s largest AI fundraise ever and sits among the top 20 AI fundraises globally to date. Also participating in the raise was Nvidia and existing investor Microsoft. Wayve’s early-stage investors included Meta’s head of AI, Yann LeCun. Wayve, which was founded in Cambridge in 2017, raised $200 million in a Ser\n",
      "\n",
      "Elon Musk Wants Buffett to Buy Tesla Stock: ‘It’s an Obvious Move.’\n",
      "Electric-vehicle maker Tesla came up a few times at Berkshire’s Hathaway’s annual meeting on Saturday.\n",
      "\n",
      "Tesla Has a New Model. It Should Boost Sales.\n",
      "Tesla  has adjusted its model lineup in a bid to boost sales of its most popular vehicle.  The new version is more attractive than the old—and looks like a good deal—while tax credits continue to skew value in the U.S. electric-vehicle market.  Over the weekend, Tesla added a long-range rear-wheel drive Model Y to its website that gets about 320 miles of range per charge.\n",
      "\n",
      "Elon Musk Says Warren Buffett Should Buy Tesla Stock After These Comments\n",
      "Warren Buffett addressed Tesla's Full Self-Driving (FSD) on Saturday. Elon Musk suggested the billionaire should finally invest in Tesla.\n",
      "\n",
      "Tesla No. 2 Tom Zhu Returns To China; Longer-Range Model Y Added In U.S.\n",
      "Tesla dropped the base model Model Y. The new Long Range RWD costs $2,000 more. Senior exec Tom Zhu is shifting from global to China duties.\u001b[0m\u001b[32;1m\u001b[1;3m Based on these news articles, it seems like Tesla is a publicly traded company.\n",
      "Action: yahoo_finance_news\n",
      "Action Input: Tesla\u001b[0m"
     ]
    },
    {
     "name": "stderr",
     "output_type": "stream",
     "text": [
      "404 Client Error: Not Found for url: https://query2.finance.yahoo.com/v10/finance/quoteSummary/TESLA?modules=financialData%2CquoteType%2CdefaultKeyStatistics%2CassetProfile%2CsummaryDetail&corsDomain=finance.yahoo.com&formatted=false&symbol=TESLA&crumb=7bOqcGYu.yB\n"
     ]
    },
    {
     "name": "stdout",
     "output_type": "stream",
     "text": [
      "\u001b[36;1m\u001b[1;3mElon Musk talks Mars, AI, and threats to civilization — but not a word of Tesla\n",
      "The Tesla CEO avoided any mention of his car company or X, formerly known as Twitter, in a highly anticipated chat at the Milken conference.\n",
      "\n",
      "Wayve raises $1B to take its Tesla-like technology for self-driving to many carmakers\n",
      "Wayve, a U.K.-born startup developing a self-learning rather than rule-based system for autonomous driving, has closed $1.05 billion in Series C funding led by SoftBank Group. This is the U.K.’s largest AI fundraise ever and sits among the top 20 AI fundraises globally to date. Also participating in the raise was Nvidia and existing investor Microsoft. Wayve’s early-stage investors included Meta’s head of AI, Yann LeCun. Wayve, which was founded in Cambridge in 2017, raised $200 million in a Ser\n",
      "\n",
      "Elon Musk Wants Buffett to Buy Tesla Stock: ‘It’s an Obvious Move.’\n",
      "Electric-vehicle maker Tesla came up a few times at Berkshire’s Hathaway’s annual meeting on Saturday.\n",
      "\n",
      "Tesla Has a New Model. It Should Boost Sales.\n",
      "Tesla  has adjusted its model lineup in a bid to boost sales of its most popular vehicle.  The new version is more attractive than the old—and looks like a good deal—while tax credits continue to skew value in the U.S. electric-vehicle market.  Over the weekend, Tesla added a long-range rear-wheel drive Model Y to its website that gets about 320 miles of range per charge.\n",
      "\n",
      "Elon Musk Says Warren Buffett Should Buy Tesla Stock After These Comments\n",
      "Warren Buffett addressed Tesla's Full Self-Driving (FSD) on Saturday. Elon Musk suggested the billionaire should finally invest in Tesla.\n",
      "\n",
      "Tesla No. 2 Tom Zhu Returns To China; Longer-Range Model Y Added In U.S.\n",
      "Tesla dropped the base model Model Y. The new Long Range RWD costs $2,000 more. Senior exec Tom Zhu is shifting from global to China duties.\u001b[0m\u001b[32;1m\u001b[1;3m Based on these news articles, it seems like Tesla is a publicly traded company.\n",
      "Action: yahoo_finance_news\n",
      "Action Input: Tesla\u001b[0m"
     ]
    },
    {
     "name": "stderr",
     "output_type": "stream",
     "text": [
      "404 Client Error: Not Found for url: https://query2.finance.yahoo.com/v10/finance/quoteSummary/TESLA?modules=financialData%2CquoteType%2CdefaultKeyStatistics%2CassetProfile%2CsummaryDetail&corsDomain=finance.yahoo.com&formatted=false&symbol=TESLA&crumb=7bOqcGYu.yB\n"
     ]
    },
    {
     "name": "stdout",
     "output_type": "stream",
     "text": [
      "\u001b[36;1m\u001b[1;3mElon Musk talks Mars, AI, and threats to civilization — but not a word of Tesla\n",
      "The Tesla CEO avoided any mention of his car company or X, formerly known as Twitter, in a highly anticipated chat at the Milken conference.\n",
      "\n",
      "Wayve raises $1B to take its Tesla-like technology for self-driving to many carmakers\n",
      "Wayve, a U.K.-born startup developing a self-learning rather than rule-based system for autonomous driving, has closed $1.05 billion in Series C funding led by SoftBank Group. This is the U.K.’s largest AI fundraise ever and sits among the top 20 AI fundraises globally to date. Also participating in the raise was Nvidia and existing investor Microsoft. Wayve’s early-stage investors included Meta’s head of AI, Yann LeCun. Wayve, which was founded in Cambridge in 2017, raised $200 million in a Ser\n",
      "\n",
      "Elon Musk Wants Buffett to Buy Tesla Stock: ‘It’s an Obvious Move.’\n",
      "Electric-vehicle maker Tesla came up a few times at Berkshire’s Hathaway’s annual meeting on Saturday.\n",
      "\n",
      "Tesla Has a New Model. It Should Boost Sales.\n",
      "Tesla  has adjusted its model lineup in a bid to boost sales of its most popular vehicle.  The new version is more attractive than the old—and looks like a good deal—while tax credits continue to skew value in the U.S. electric-vehicle market.  Over the weekend, Tesla added a long-range rear-wheel drive Model Y to its website that gets about 320 miles of range per charge.\n",
      "\n",
      "Elon Musk Says Warren Buffett Should Buy Tesla Stock After These Comments\n",
      "Warren Buffett addressed Tesla's Full Self-Driving (FSD) on Saturday. Elon Musk suggested the billionaire should finally invest in Tesla.\n",
      "\n",
      "Tesla No. 2 Tom Zhu Returns To China; Longer-Range Model Y Added In U.S.\n",
      "Tesla dropped the base model Model Y. The new Long Range RWD costs $2,000 more. Senior exec Tom Zhu is shifting from global to China duties.\u001b[0m\u001b[32;1m\u001b[1;3m Tesla's stock code is most likely TSLA.\n",
      "Final Answer: TSLA\u001b[0m\n",
      "\n",
      "\u001b[1m> Finished chain.\u001b[0m\n"
     ]
    },
    {
     "data": {
      "text/plain": [
       "{'input': 'What is the stock code for Tesla?', 'output': 'TSLA'}"
      ]
     },
     "execution_count": 197,
     "metadata": {},
     "output_type": "execute_result"
    }
   ],
   "source": [
    "agent_executor.invoke({\"input\": \"What is the stock code for Tesla?\"},\n",
    "                    \n",
    "                     )"
   ]
  },
  {
   "cell_type": "markdown",
   "id": "3464b53a-3637-4948-b1b4-bbc9fe458a91",
   "metadata": {},
   "source": [
    "#### Example: Important Lingo"
   ]
  },
  {
   "cell_type": "code",
   "execution_count": 195,
   "id": "9c2c9505-7ff6-4c05-bf6c-88a6bdbd4a31",
   "metadata": {},
   "outputs": [
    {
     "name": "stdout",
     "output_type": "stream",
     "text": [
      "\n",
      "\n",
      "\u001b[1m> Entering new AgentExecutor chain...\u001b[0m\n",
      "\u001b[32;1m\u001b[1;3m As an AI stock advisor, I should have a basic understanding of stock market terminology.\n",
      "Action: duckduckgo_search\n",
      "Action Input: \"Investing lingo\"\u001b[0m\u001b[33;1m\u001b[1;3m17. Common Stock. This is one of the most basic stock market terms to know. Common stock is a type of security that represents ownership in a company. Holders of common stock are able to vote on matters like corporate policies and elect directors within that company. 18. Day Trading Terminology: 50 Must-Know Stock Market Terms for Beginners. Stock market terms are the specialized vocabulary used in the world of trading and investing. These terms range from basic concepts like \"shares\" and \"dividends\" to more complex jargon such as \"over-the-counter\" and \"earnings per share (EPS).\". An investment strategy that involves balancing asset classes (like stocks, bonds, and cash) in your portfolio, based on your goals, risk tolerance, timeline, and other factors. Also referred to as an asset mix. Asset class. One of the three major types of investments: stocks, bonds, and cash equivalents. Most people understand basic stock market terms like Bulls, Bear, Long, and Short. But most do not know important terms like 10-K Report, Alpha, Bid-Ask Spread, Debt to Equity, or Fair Value. Other critical stock lingo includes Earnings Per Share, Margin of Safety, Discounted Cash Flow, or EBITDA. Understanding stock trading terminology is essential for anyone looking to navigate the markets effectively. Terms like 'margin account', 'ask price', 'pattern day trader', and 'resistance level' are not just jargon; they represent critical concepts that impact trading decisions. Knowing these terms helps in understanding market ...\u001b[0m\u001b[32;1m\u001b[1;3mI now know a wide range of stock market terms.\n",
      "Final Answer: Some important lingo to know includes common stock, asset class, investment strategy, 10-K report, earnings per share, and margin of safety.\u001b[0m\n",
      "\n",
      "\u001b[1m> Finished chain.\u001b[0m\n"
     ]
    },
    {
     "data": {
      "text/plain": [
       "{'input': 'What is some of the specific lingo around investing that is important for me to know?',\n",
       " 'output': 'Some important lingo to know includes common stock, asset class, investment strategy, 10-K report, earnings per share, and margin of safety.'}"
      ]
     },
     "execution_count": 195,
     "metadata": {},
     "output_type": "execute_result"
    }
   ],
   "source": [
    "agent_executor.invoke({\"input\": \"What is some of the specific lingo around investing that is important for me to know?\"},\n",
    "                    \n",
    "                     )"
   ]
  },
  {
   "cell_type": "markdown",
   "id": "29cee719-ced9-41c3-90c3-a8d8c450bf0f",
   "metadata": {},
   "source": [
    "#### Example: Devotion of Salary to Investing"
   ]
  },
  {
   "cell_type": "code",
   "execution_count": 198,
   "id": "298598aa-25f8-4c93-907b-4d3756c79850",
   "metadata": {},
   "outputs": [
    {
     "name": "stdout",
     "output_type": "stream",
     "text": [
      "\n",
      "\n",
      "\u001b[1m> Entering new AgentExecutor chain...\u001b[0m\n",
      "\u001b[32;1m\u001b[1;3m It's important to have a budget and prioritize your expenses before deciding on an investing amount.\n",
      "Action: duckduckgo_search\n",
      "Action Input: \"budgeting for college students\"\u001b[0m\u001b[33;1m\u001b[1;3mLearn why you need a college budget and how to create one with a spreadsheet. Explore eight budgeting apps to help you track your spending, save money and avoid debt. Example college student budget. As you map out your budget for college students, it can be helpful to have an example. The first big step is to decide whether you want to budget on an annual or semester basis. Personally, I chose to map things out on a semester basis since that's how scholarships were usually awarded. Rent and utilities can eat up a large portion of the college student's budget. Splitting an apartment (including sharing a bedroom) is a classic way for college students to keep costs low. But that isn't the only option. Students may live with family, take work as a live-in caregiver, house-sit, or find ways to . 2) Budgeting Tips for College Students — Course Books. For new students, the price of books, and textbooks in particular, can be an unexpectedly large portion of a college student's budget. These are often far more expensive than anticipated, with the average college textbook costing $105.37. According to the Education Data Initiative ... Step 1: Determine Your Total Income. Think about all of your income sources — any regular paychecks, cash from dog walking or babysitting, financial aid, scholarships or grants, birthday or holiday money, financial assistance from family, and college savings (like from a 529 Plan). Write down the dollar amount of each as a monthly sum that ...\u001b[0m\u001b[32;1m\u001b[1;3mCreating a budget can help me determine how much I can afford to invest.\n",
      "Action: duckduckgo_search\n",
      "Action Input: \"how to create a budget for investing\"\u001b[0m\u001b[33;1m\u001b[1;3mLet's do this.) Subtract all your expenses from your income. This number should equal zero, meaning you just made a zero-based budget. This is key: A zero-based budget doesn't mean you let your bank account reach zero. (Leave a little buffer in there of about $100-300.) It also doesn't mean you blow all your money. Start by getting your finances organized with a budget and by paying down debt. Then begin setting aside small amounts of money every month, even if it's just $5 to start. By using high-yield ... If you invest your money at these types of returns and pay your creditors 25% interest (the average credit card interest rate in early 2024), you'll put yourself in a position to lose money over ... Use our 50/30/20 budget calculator to estimate how you might divide your monthly income into needs, wants and savings. This will give you a big-picture view of your finances. The most important ... Where to invest small sums every month. Thinking back to our stock budget definition, you'll remember that transaction fees make up a chunk of the total. We'd like to keep this expense as small as possible: if you invest £100 each month, but your brokerage service charges a £5 monthly fee, you're actually losing money.\u001b[0m\u001b[32;1m\u001b[1;3m It's important to start with small amounts and gradually increase my investments.\n",
      "Action: duckduckgo_search\n",
      "Action Input: \"how to gradually increase investments\"\u001b[0m\u001b[33;1m\u001b[1;3mHere are seven strategies that you can use to grow the value of your portfolio of investments. 1. Buy and Hold. Buying and holding investments is perhaps the simplest strategy for achieving growth ... Use one of these three methods to create a combined picture of all your investment accounts. 1. Spreadsheet. On a single sheet, input each of your accounts, each of the investments within those ... Stay diversified. Up your earnings. 1. Start by Making a Plan. Building wealth starts with making a financial plan. That means taking the time to identify your goals and game out how you can ... Strategy #1: Clarify Financial Goals. This strategy requires a thoughtful assessment of your financial aspirations, time horizon, and risk tolerance. Clear goals guide investment decisions and ... Adventurer - volatile, entrepreneurial, and strong-willed. Celebrity - a follower of the latest investment fads. Guardian - highly risk-averse, wealth preserver. Straight Arrow - shares ...\u001b[0m\u001b[32;1m\u001b[1;3m It's important to research and understand different investment strategies before making any decisions.\n",
      "Action: duckduckgo_search\n",
      "Action Input: \"investment strategies for college students\"\u001b[0m\u001b[33;1m\u001b[1;3m4. Buy an S&P 500 index fund. One of the best investments for college students is an index fund, and many of the most popular index funds are based on the Standard & Poor's 500 index of large ... As you can see, if you get started investing at 18 years old, you only need to invest about $2,100 per year to be a millionaire by age 62. That number starts to go up a lot the older you get. If you wait until 30, that number becomes $6,900 per year you need to invest - over 3x the amount per year. All because of time . For college students, exploring micro-investing is one of the finest investment avenues. Micro-investing platforms enable you to invest small amounts of money into diversified portfolios or specific assets, allowing you to enter the investment market with minimal capital. It is necessary to develop a clear understanding of investment strategies. A brokerage account allows students to buy and sell stocks, bonds, mutual funds, and other assets through a brokerage firm. Be aware that selling assets can trigger short-term or long-term capital gains taxes. Short-term taxes are charged at your regular income tax rate, and long-term rates are either 0%, 15%, or 20% depending on your tax bracket. A college student - or anyone else - can invest as much as $7,000 per year in a Roth IRA (or $8,000 if you're 50 or older). But let me get back to the advantages of a Roth IRA for a college student. I actually think a Roth IRA is one of the best investments for college students and for young people in general.\u001b[0m\u001b[32;1m\u001b[1;3m I now know the final answer.\n",
      "Final Answer: As a college student, I should start by creating a budget and determining how much I can afford to invest. Then, I should research and understand different investment strategies, such as buying and holding investments, investing in an index fund, and exploring micro-investing. It's important to start with small amounts and gradually increase investments. I should also consider opening a brokerage account and investing in a Roth IRA for potential tax benefits.\u001b[0m\n",
      "\n",
      "\u001b[1m> Finished chain.\u001b[0m\n"
     ]
    },
    {
     "data": {
      "text/plain": [
       "{'input': 'I have three jobs on campus. How much of my salary should I devote to investing?',\n",
       " 'output': \"As a college student, I should start by creating a budget and determining how much I can afford to invest. Then, I should research and understand different investment strategies, such as buying and holding investments, investing in an index fund, and exploring micro-investing. It's important to start with small amounts and gradually increase investments. I should also consider opening a brokerage account and investing in a Roth IRA for potential tax benefits.\"}"
      ]
     },
     "execution_count": 198,
     "metadata": {},
     "output_type": "execute_result"
    }
   ],
   "source": [
    "agent_executor.invoke({\"input\": \"I have three jobs on campus. How much of my salary should I devote to investing?\"},\n",
    "                    \n",
    "                     )"
   ]
  },
  {
   "cell_type": "markdown",
   "id": "35ec65b9-d8ed-4bb1-b903-71fe2f0f1c57",
   "metadata": {},
   "source": [
    "#### Example: Gamestop"
   ]
  },
  {
   "cell_type": "code",
   "execution_count": 199,
   "id": "5f3aeb59-27be-4abc-a27d-5265aeffd471",
   "metadata": {},
   "outputs": [
    {
     "name": "stdout",
     "output_type": "stream",
     "text": [
      "\n",
      "\n",
      "\u001b[1m> Entering new AgentExecutor chain...\u001b[0m\n",
      "\u001b[32;1m\u001b[1;3m First, check the current news and trends surrounding Gamestop.\n",
      "Action: yahoo_finance_news\n",
      "Action Input: GME\u001b[0m\u001b[36;1m\u001b[1;3mWhy Is GameStop (GME) Down 17% Since Last Earnings Report?\n",
      "GameStop (GME) reported earnings 30 days ago. What's next for the stock? We take a look at earnings estimates for some clues.\u001b[0m\u001b[32;1m\u001b[1;3m17% drop is not a good sign, let's check the current events and see if there's any potential for a rebound.\n",
      "Action: duckduckgo_search\n",
      "Action Input: Gamestop stock potential rebound\u001b[0m\u001b[33;1m\u001b[1;3mDennis Diatel Photography. While its stock is nowhere near the peak it reached during the meme stock mania of 2021, GameStop Corp. (NYSE:GME) has the potential to rebound from current levels, in ... GameStop (GME) has been on a downward spiral lately with significant selling pressure. After declining 12.5% over the past four weeks, the stock looks well positioned for a trend reversal as it is ... Stocks with an RSI value below 30 are generally considered to be oversold, i.e., the stock's price may have dropped too quickly and could be due for a rebound. GameStop ( GME) stock has taken a ... The one exception was operating cash flow, which declined from $338.2 million to negative $11 million. But once we adjust for changes in working capital, we get an improvement from $59.6 million ... GameStop (GME) has been on a downward spiral lately with significant selling pressure. After declining 19.4% over the past four weeks, the stock looks well positioned for a trend reversal as it is ...\u001b[0m\u001b[32;1m\u001b[1;3m Even though there has been a lot of negative news and selling pressure, there are some analysts who believe the stock has the potential for a rebound. However, it's important to note that the company's financials have not been doing well.\n",
      "Action: duckduckgo_search\n",
      "Action Input: Gamestop stock financials\u001b[0m\u001b[33;1m\u001b[1;3m6.93%. 6.66%. Upgrade. Source: Financials are provided by Nasdaq Data Link and sourced from the audited annual ( 10-K) and quarterly ( 10-Q) reports submitted to the Securities and Exchange Commission (SEC). Detailed annual and quarterly income statement for GameStop Corp. (GME). See many years of revenue, expenses and profits or losses. Stock analysis for GameStop Corp (GME:New York) including stock price, stock chart, company news, key statistics, fundamentals and company profile. GRAPEVINE, Texas, March 26, 2024 (GLOBE NEWSWIRE) -- GameStop Corp. (NYSE: GME) (\"GameStop\" or the \"Company\") today released financial results for the fourth quarter and fiscal year ended February 3, 2024. The Company's consolidated financial statements, including GAAP and non-GAAP results, are below. Financials. Valuation. Operating Performance. Dividends. Ownership. Executive. Review quarterly and annual revenue, net income, and cash flow for GameStop Corp Class A (GME:XNYS) stock through the ... GRAPEVINE, Texas, Sept. 06, 2023 (GLOBE NEWSWIRE) -- GameStop Corp. (NYSE: GME) (\"GameStop\" or the \"Company\") today released financial results for the second quarter ended July 29, 2023. The Company's condensed and consolidated financial statements, including GAAP and non-GAAP results, are below.\u001b[0m\u001b[32;1m\u001b[1;3m The financials for Gamestop have been declining and the most recent earnings report shows a net loss. It's important to consider the company's financial health before making any investment decisions.\n",
      "Action: duckduckgo_search\n",
      "Action Input: Gamestop stock financial health\u001b[0m\u001b[33;1m\u001b[1;3mGRAPEVINE, Texas, March 26, 2024 (GLOBE NEWSWIRE) -- GameStop Corp. (NYSE: GME) (\"GameStop\" or the \"Company\") today released financial results for the fourth quarter and fiscal year ended February 3, 2024. The Company's consolidated financial statements, including GAAP and non-GAAP results, are below. Jul 12, 2023 4:40 AM EDT. GameStop 's balance sheet reflects a strong cash position built up over the past few years, thanks to an equity offering and the \"meme frenzy\" involving its stock in 2021 ... GME. --GameStop Corp. today released financial results for the fourth quarter and fiscal year ended February 3, 2024. Net sales were $5.273 billion for fiscal year 2023, compared to $5.927 billion ... GRAPEVINE, Texas, June 07, 2023--GameStop Corp. (NYSE: GME) (\"GameStop\" or the \"Company\") today released financial results for the first quarter ended April 29, 2023. The Company's condensed and ... GameStop Corp., a specialty retailer, provides games and entertainment products through its stores and ecommerce platforms in the United States, Canada, Australia, and Europe. The company sells new and pre-owned gaming platforms; accessories, such as controllers, gaming headsets, and virtual reality products; new and pre-owned gaming software ...\u001b[0m\u001b[32;1m\u001b[1;3m Looking at the company's recent financial reports, it's clear that Gamestop has been struggling. It may not be the best investment option at this time.\n",
      "Action: duckduckgo_search\n",
      "Action Input: Gamestop stock investment potential\u001b[0m\u001b[33;1m\u001b[1;3mGameStop soared amid 2021's meme stock craze, leveraging retail investor momentum to bolster finances through equity issuance. CEO Ryan Cohen's strategic investments and boardroom influence ... Jan 22, 2024 3:59 AM EST. Ryan Cohen's thus-far sound business strategy, when coupled with GameStop 's improved profitability and its loyal shareholder base, offers reason for optimism. However ... GME currently carries a market cap of around $5 billion and an Enterprise Value of about $4.3 billion. The company is projected to have adjusted EBITDA of $148 million in FY25 (ending January ... GameStop announced Wednesday that company cash can now be used to buy equities instead of just short-term debt, and that Cohen is in charge of the investments. Cohen became CEO in September after ... GameStop's board of directors has approved a new investment policy, which lets the company invest in equity securities. GameStop Corp.'s decision to extend its investment policy to include ...\u001b[0m\u001b[32;1m\u001b[1;3m It seems that the company is taking steps to improve their financial situation, but it may still be risky to invest in Gamestop at this time. It's important to continue monitoring the company's progress and potential for growth.\n",
      "Thought: I now know the final answer\n",
      "Final Answer: Based on the current news, trends and financial reports, it may not be the best time to invest in Gamestop. It's important to continue monitoring the company's progress and potential for growth before making any investment decisions.\u001b[0m\n",
      "\n",
      "\u001b[1m> Finished chain.\u001b[0m\n"
     ]
    },
    {
     "data": {
      "text/plain": [
       "{'input': 'As of today, should I invest in Gamestop?',\n",
       " 'output': \"Based on the current news, trends and financial reports, it may not be the best time to invest in Gamestop. It's important to continue monitoring the company's progress and potential for growth before making any investment decisions.\"}"
      ]
     },
     "execution_count": 199,
     "metadata": {},
     "output_type": "execute_result"
    }
   ],
   "source": [
    "agent_executor.invoke({\"input\": \"As of today, should I invest in Gamestop?\"},\n",
    "                    \n",
    "                     )"
   ]
  }
 ],
 "metadata": {
  "citation-manager": {
   "items": {}
  },
  "kernelspec": {
   "display_name": "Python 3.11 (COMM4190)",
   "language": "python",
   "name": "comm4190"
  },
  "language_info": {
   "codemirror_mode": {
    "name": "ipython",
    "version": 3
   },
   "file_extension": ".py",
   "mimetype": "text/x-python",
   "name": "python",
   "nbconvert_exporter": "python",
   "pygments_lexer": "ipython3",
   "version": "3.11.7"
  }
 },
 "nbformat": 4,
 "nbformat_minor": 5
}
