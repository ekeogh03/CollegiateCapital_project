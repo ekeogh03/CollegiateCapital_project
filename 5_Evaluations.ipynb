{
 "cells": [
  {
   "cell_type": "markdown",
   "id": "659e758d-60b8-4f3e-a1d0-e9ab07616f4c",
   "metadata": {},
   "source": [
    "### Evaluations!"
   ]
  },
  {
   "cell_type": "markdown",
   "id": "96baf2bf-4502-455f-a55d-b49339f9131a",
   "metadata": {},
   "source": [
    "**Cons:** \n",
    "* When using llama3_unc, when we would generate more responses early on the output would say \"I am not Dolphin: If you are interested in risk-averse stocks...\" instead of just ignoring the dolphin altogether as the prompt says.\n",
    "* We also had difficulties with the consistency. Sometimes when we would run all cells, the outputs would be perfect-- direct, correct, and well-written. Then, if we would rerun all cells without changing anything, all of a sudden the \"bad\" prompts like \"how do I make cookies\" would work. It seemed the more we reran the cells, the more confused and base-level it got, not taking into account our prompts. No many how many guardrails we tried to put in place, the consistency wasn't there to prove it working. And, sometimes when using the uncensored LLM, it would give \"current\" information, and other times it would shut down the request.\n",
    "* We also found that towards the end, the kernel couldn't keep up with how much input was being added and my computer froze multiple times.\n",
    "* On top of that, we reached our hourly usage rate for DuckDuckGo Search, so it's not unlimited.\n",
    "* Also, the time it takes for the agents to load is pretty slow compared to ChatGPT etc, but it's a good start!"
   ]
  },
  {
   "cell_type": "markdown",
   "id": "5312cef7-3b36-45b3-9e73-e9888e0785cf",
   "metadata": {},
   "source": [
    "**Pros:** For all the cons, there were plenty of pros! \n",
    "* The final project delivered exactly what we wanted.\n",
    "* The tools feature with agents brought our whole project together, especially having human input as an option as well as searching the web for current information.\n",
    "* The LLM knows which tool to use in the right order, like if it needs more human input or if it needs to just jump to Yahoo Finance immediately.\n",
    "* The LLM can answer both education and applicable questions.\n",
    "* The LLM likes to ask questions to further clarify and interact with the client."
   ]
  },
  {
   "cell_type": "markdown",
   "id": "ae09b378-9a64-4db4-9e80-982aa50ca8d4",
   "metadata": {},
   "source": [
    "**Future Endeavors:**\n",
    "* use Gradio to have a more formal chatbot model"
   ]
  }
 ],
 "metadata": {
  "citation-manager": {
   "items": {}
  },
  "kernelspec": {
   "display_name": "Python 3.11 (COMM4190)",
   "language": "python",
   "name": "comm4190"
  },
  "language_info": {
   "codemirror_mode": {
    "name": "ipython",
    "version": 3
   },
   "file_extension": ".py",
   "mimetype": "text/x-python",
   "name": "python",
   "nbconvert_exporter": "python",
   "pygments_lexer": "ipython3",
   "version": "3.11.7"
  }
 },
 "nbformat": 4,
 "nbformat_minor": 5
}
