{
 "cells": [
  {
   "cell_type": "markdown",
   "id": "6ca42f91-8973-4945-bb6e-881273252f2f",
   "metadata": {},
   "source": [
    "## Diagrams to explain the system\n",
    "\n",
    "In order to map out some of our use cases, we created several flowcharts using mermaid! They should offer insights into the manner in which our platform will work and examples of potential students experiences.\n",
    "\n",
    "Here, the User represents our student, the Agent is CollegiateCapital, Tool1 is a DuckDuckGo search, and Tool2 is a YahooFinance search."
   ]
  },
  {
   "cell_type": "code",
   "execution_count": 5,
   "id": "42b07f49-405a-4595-bd1d-323ffa2f0cde",
   "metadata": {},
   "outputs": [],
   "source": [
    "dia1 = '''\n",
    "sequenceDiagram\n",
    "    User->>Agent: What stocks should I invest in?\n",
    "    Agent-->>User: What is your risk tolerance for investing?\n",
    "    User->>Agent: Medium to High\n",
    "    Agent-->>User: What are your investing goals?\n",
    "    User->>Agent: Pay off my loans and retire at 42\n",
    "    Agent->>Tool1: What stocks give high returns?\n",
    "    Tool1->>Agent: APPL\n",
    "    Agent->>Tool2: What is the recent behavior of APPL?\n",
    "    Tool2-->>Agent: Consistent growth\n",
    "    Agent-->>User: I suggest investing in Apple and looking for an tropical island to buy in 20 years time!\n",
    "    '''"
   ]
  },
  {
   "cell_type": "code",
   "execution_count": null,
   "id": "7c6df782-17f9-4d37-b5a8-11016c98d761",
   "metadata": {},
   "outputs": [],
   "source": [
    "dia2 = '''\n",
    "sequenceDiagram;\n",
    "    User->>Agent: What platforms should I use to execute my buy/sells?\n",
    "    Agent->>Tool1: Best college-level investing apps?\n",
    "    Tool1->>Agent: Acorn, Robinhood, Vanguard. \n",
    "    Agent-->>User: Here are three platforms that are great for college students to buy and sell stock in the stock market. 1) Acorn. Acorn takes the change you accure during transactions and automatically invests it for you. [cont.]\n",
    "    '''\n"
   ]
  },
  {
   "cell_type": "code",
   "execution_count": 25,
   "id": "4cd4b30c-0960-46dc-9367-7c31021bec28",
   "metadata": {},
   "outputs": [],
   "source": [
    "dia3 = '''\n",
    "\n",
    "sequenceDiagram\n",
    "    User->>Agent: How has Amazon stock been doing?\n",
    "    Agent->>Tool1: What are the recent trends in Amazon stock?\n",
    "    Tool1->>Agent: Amazon (AMZN) has been facing some fluctuation given new leadership. \n",
    "    Agent->>Tool2: How has AMZN been performing recently?\n",
    "    Tool2-->>Agent: Shaky growth recently, but positive trends overall.\n",
    "    Agent-->>User: Amazon stock has been experiecing slight fluctuations in performance recently due to changing leadership. Overall, the stock remains a strong and consistent performer.\n",
    "'''\n",
    "\n"
   ]
  },
  {
   "cell_type": "code",
   "execution_count": 26,
   "id": "ed9719a5-b216-4ce5-be94-85b504a3f7ae",
   "metadata": {},
   "outputs": [],
   "source": [
    "dia4 = '''\n",
    "\n",
    "sequenceDiagram;\n",
    "    User->>Agent: What platforms should I use to execute my buy/sells?\n",
    "    Agent->>Tool1: Best college-level investing apps?\n",
    "    Tool1->>Agent: Acorn, Robinhood, Vanguard. \n",
    "    Agent-->>User: Here are three platforms that are great for college students to buy and sell stock in the stock market. 1) Acorn. Acorn takes the change you accure during transactions and automatically invests it for you. [cont.]\n",
    "'''\n",
    "\n"
   ]
  },
  {
   "cell_type": "markdown",
   "id": "bbe01ac1-8dab-46ec-9902-f0e485cc7c7b",
   "metadata": {},
   "source": [
    "![](https://mermaid.ink/svg/pako:eNp1kk1PwkAQhv_KuGdItPFUEwjRgySSkKjx0svQTrcbtju4H5iG8N-dFhCM2Ms2u_O873ztVMkVqVwF-kzkSnoyqD22D4UD-d4D-fFkMtPkYg4fDUYIkct1gNBwshXMwbgthSjH9IAMsWOBevbImAAdJw_ehDVEtuRRrKBmf8SN09NrjguqTGoFgWejm_8N0NPB4UcONKMNV0WX2AHXNbQdWEYXAF0FnqIREdG6zy59JpM3Znv3u3httgSNZNRjybuTzxB6Npotly9_tbJzU2JDolDKG6yowa2RhnA9cBeK2fgs-cgumBB7Qnv-itd7MoeQtD6M5dQP42C22VgaqrXM6_6ynwA6iJ43pkQrOdn-Wfq9Sl2PZLfQEXpJ1bR0Uzg1Ui35Fk0lO7PrzQslVbRUqFx-K_TrQhVuL3GYIr92rlR59IlGKm0qjKf9Unkt45FbGXBkvzgs4bCL-28USt08)"
   ]
  },
  {
   "cell_type": "code",
   "execution_count": null,
   "id": "9d4cd100-a35b-4041-895c-4e3f0d7f8a98",
   "metadata": {},
   "outputs": [],
   "source": []
  },
  {
   "cell_type": "code",
   "execution_count": 29,
   "id": "69206da7-9096-42b9-b71a-bb97f875e4a2",
   "metadata": {},
   "outputs": [
    {
     "name": "stdout",
     "output_type": "stream",
     "text": [
      "b'eNp1kcFOwzAMhu97CvMAk6DixKHTBAcmgbQDiLPXuanVNB5xMtS3x-kGBTF6idTk-37nz0LpPVNo6IHRRRwWYN-rUlzW9dpRSHfw1mECTdL0CtpJ9nvYAIcjabJlNRHT0aUxBT0jrDBKjhBZe0jiKaLlQCvxTHNwqwt5z7TnPBgBj-y6f_UY6eT_loET9HpJucURpG1hGMELBgUMe4iU2Bymuq1-pNT1i4i_-X1vx0eCzsYpVI7hnDKdnGPW2-3TH1M115E6Mr6xPdhRh0e2KqSdsNlXLWfhvQRlTQVwUT7SxTY2oNm502t8NcEB1oeDp-miXqQvP0vzGCBFOXCD3ibyZduK3uWxINU1jITRBuWBrqasT-LAsRQ='\n"
     ]
    }
   ],
   "source": [
    "import sys\n",
    "import base64\n",
    "import zlib\n",
    "dia1b=dia1.encode()\n",
    "print(base64.urlsafe_b64encode(zlib.compress(dia1b, 9)))"
   ]
  },
  {
   "cell_type": "markdown",
   "id": "a5d90e09-58af-4f86-9e11-48aef4b36a62",
   "metadata": {},
   "source": [
    "![](https://kroki.io/mermaid/svg/eNp1kcFOwzAMhu97CvMAk6DixKHTBAcmgbQDiLPXuanVNB5xMtS3x-kGBTF6idTk-37nz0LpPVNo6IHRRRwWYN-rUlzW9dpRSHfw1mECTdL0CtpJ9nvYAIcjabJlNRHT0aUxBT0jrDBKjhBZe0jiKaLlQCvxTHNwqwt5z7TnPBgBj-y6f_UY6eT_loET9HpJucURpG1hGMELBgUMe4iU2Bymuq1-pNT1i4i_-X1vx0eCzsYpVI7hnDKdnGPW2-3TH1M115E6Mr6xPdhRh0e2KqSdsNlXLWfhvQRlTQVwUT7SxTY2oNm502t8NcEB1oeDp-miXqQvP0vzGCBFOXCD3ibyZduK3uWxINU1jITRBuWBrqasT-LAsRQ=)"
   ]
  },
  {
   "cell_type": "markdown",
   "id": "f6645f1b-d17f-4cb9-bb6b-e2feb0672521",
   "metadata": {},
   "source": [
    "## Head to our Next Notebook:\n",
    "\n",
    "* [Evaluating existing LLMs](Exploration.ipynb)"
   ]
  },
  {
   "cell_type": "code",
   "execution_count": null,
   "id": "ad374559-afcb-4c5b-a555-fdea574fd48b",
   "metadata": {},
   "outputs": [],
   "source": []
  }
 ],
 "metadata": {
  "citation-manager": {
   "items": {}
  },
  "kernelspec": {
   "display_name": "Python 3.11 (COMM4190)",
   "language": "python",
   "name": "comm4190"
  },
  "language_info": {
   "codemirror_mode": {
    "name": "ipython",
    "version": 3
   },
   "file_extension": ".py",
   "mimetype": "text/x-python",
   "name": "python",
   "nbconvert_exporter": "python",
   "pygments_lexer": "ipython3",
   "version": "3.11.7"
  }
 },
 "nbformat": 4,
 "nbformat_minor": 5
}
