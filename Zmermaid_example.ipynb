{
 "cells": [
  {
   "cell_type": "markdown",
   "id": "6ca42f91-8973-4945-bb6e-881273252f2f",
   "metadata": {},
   "source": [
    "## Diagrams to explain the system\n",
    "\n",
    "* Can use mermaid.js in a notebook for various kinds of charts\n",
    "  - https://mermaid.js.org/syntax/flowchart.html\n",
    "  - https://mermaid.js.org/syntax/sequenceDiagram.html"
   ]
  },
  {
   "cell_type": "markdown",
   "id": "59061788-123d-48ed-a642-5d3603e86833",
   "metadata": {},
   "source": [
    "```mermaid\n",
    "\n",
    "sequenceDiagram\n",
    "    User->>Agent: What stocks should I invest in?\n",
    "    Agent-->>User: What is your risk tolerance for investing?\n",
    "    User->>Agent: Medium to High\n",
    "    Agent-->>User: What are your investing goals?\n",
    "    User->>Agent: Pay off my loans and retire at 42\n",
    "    Agent->>Tool1: What stocks give high returns?\n",
    "    Tool1->>Agent: APPL\n",
    "    Agent->>Tool2: What is the recent behavior of APPL?\n",
    "    Tool2-->>Agent: Consistent growth\n",
    "    Agent-->>User: I suggest investing in Apple and looking for an tropic island to buy in 20 years time!\n",
    "```"
   ]
  },
  {
   "cell_type": "code",
   "execution_count": null,
   "id": "78370306-c479-49a1-8063-170e627163fa",
   "metadata": {},
   "outputs": [],
   "source": []
  }
 ],
 "metadata": {
  "citation-manager": {
   "items": {}
  },
  "kernelspec": {
   "display_name": "Python 3.11 (COMM4190)",
   "language": "python",
   "name": "comm4190"
  },
  "language_info": {
   "codemirror_mode": {
    "name": "ipython",
    "version": 3
   },
   "file_extension": ".py",
   "mimetype": "text/x-python",
   "name": "python",
   "nbconvert_exporter": "python",
   "pygments_lexer": "ipython3",
   "version": "3.11.7"
  }
 },
 "nbformat": 4,
 "nbformat_minor": 5
}
