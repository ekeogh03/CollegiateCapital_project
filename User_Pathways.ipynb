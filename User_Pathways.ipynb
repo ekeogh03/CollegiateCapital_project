{
 "cells": [
  {
   "cell_type": "markdown",
   "id": "6ca42f91-8973-4945-bb6e-881273252f2f",
   "metadata": {},
   "source": [
    "## Diagrams to explain the system\n",
    "\n",
    "In order to map out some of our use cases, we created several flowcharts using mermaid! They should offer insights into the manner in which our platform will work and examples of potential students experiences.\n",
    "\n",
    "Here, the User represents our student, the Agent is CollegiateCapital, Tool1 is a DuckDuckGo search, and Tool2 is a YahooFinance search."
   ]
  },
  {
   "cell_type": "code",
   "execution_count": 27,
   "id": "b5c4f12f-cb4c-459a-97e4-b73e1435c2e3",
   "metadata": {},
   "outputs": [],
   "source": [
    "from mermaid import Mermaid"
   ]
  },
  {
   "cell_type": "code",
   "execution_count": 30,
   "id": "42b07f49-405a-4595-bd1d-323ffa2f0cde",
   "metadata": {},
   "outputs": [],
   "source": [
    "dia1 = '''\n",
    "sequenceDiagram\n",
    "    User->>Agent: What stocks should I invest in?\n",
    "    Agent-->>User: What is your risk tolerance for investing?\n",
    "    User->>Agent: Medium to High\n",
    "    Agent-->>User: What are your investing goals?\n",
    "    User->>Agent: Pay off my loans and retire at 42\n",
    "    Agent->>Tool1: What stocks give high returns?\n",
    "    Tool1->>Agent: APPL\n",
    "    Agent->>Tool2: What is the recent behavior of APPL?\n",
    "    Tool2-->>Agent: Consistent growth\n",
    "    Agent-->>User: I suggest investing in Apple and looking for an tropical island to buy in 20 years time!\n",
    "    '''"
   ]
  },
  {
   "cell_type": "code",
   "execution_count": 31,
   "id": "5ece9397-f88c-4a32-b4fd-85730d2bab76",
   "metadata": {},
   "outputs": [
    {
     "data": {
      "text/html": [
       "\n",
       "        <div class=\"mermaid-6c623eb9-86b9-4492-8b64-86d0eb3ca410\"></div>\n",
       "        <script type=\"module\">\n",
       "            import mermaid from 'https://cdn.jsdelivr.net/npm/mermaid@10.1.0/+esm'\n",
       "            const graphDefinition = 'sequenceDiagram\\n    User->>Agent: What stocks should I invest in?\\n    Agent-->>User: What is your risk tolerance for investing?\\n    User->>Agent: Medium to High\\n    Agent-->>User: What are your investing goals?\\n    User->>Agent: Pay off my loans and retire at 42\\n    Agent->>Tool1: What stocks give high returns?\\n    Tool1->>Agent: APPL\\n    Agent->>Tool2: What is the recent behavior of APPL?\\n    Tool2-->>Agent: Consistent growth\\n    Agent-->>User: I suggest investing in Apple and looking for an tropical island to buy in 20 years time!\\n    ';\n",
       "            const element = document.querySelector('.mermaid-6c623eb9-86b9-4492-8b64-86d0eb3ca410');\n",
       "            const { svg } = await mermaid.render('graphDiv-6c623eb9-86b9-4492-8b64-86d0eb3ca410', graphDefinition);\n",
       "            element.innerHTML = svg;\n",
       "        </script>\n",
       "        "
      ],
      "text/plain": [
       "<mermaid.mermaid.Mermaid at 0x7f1ee2780310>"
      ]
     },
     "execution_count": 31,
     "metadata": {},
     "output_type": "execute_result"
    }
   ],
   "source": [
    "Mermaid(dia1)"
   ]
  },
  {
   "cell_type": "code",
   "execution_count": 33,
   "id": "7c6df782-17f9-4d37-b5a8-11016c98d761",
   "metadata": {},
   "outputs": [
    {
     "data": {
      "text/html": [
       "\n",
       "        <div class=\"mermaid-e1969ff7-9998-4fba-845e-d0e93c8ecd77\"></div>\n",
       "        <script type=\"module\">\n",
       "            import mermaid from 'https://cdn.jsdelivr.net/npm/mermaid@10.1.0/+esm'\n",
       "            const graphDefinition = 'sequenceDiagram;\\n    User->>Agent: What platforms should I use to execute my buy/sells?\\n    Agent->>Tool1: Best college-level investing apps?\\n    Tool1->>Agent: Acorn, Robinhood, Vanguard. \\n    Agent-->>User: Here are three platforms that are great for college students to buy and sell stock in the stock market. 1) Acorn. Acorn takes the change you accure during transactions and automatically invests it for you. [cont.]\\n    ';\n",
       "            const element = document.querySelector('.mermaid-e1969ff7-9998-4fba-845e-d0e93c8ecd77');\n",
       "            const { svg } = await mermaid.render('graphDiv-e1969ff7-9998-4fba-845e-d0e93c8ecd77', graphDefinition);\n",
       "            element.innerHTML = svg;\n",
       "        </script>\n",
       "        "
      ],
      "text/plain": [
       "<mermaid.mermaid.Mermaid at 0x7f1ee27814d0>"
      ]
     },
     "execution_count": 33,
     "metadata": {},
     "output_type": "execute_result"
    }
   ],
   "source": [
    "dia2 = '''\n",
    "sequenceDiagram;\n",
    "    User->>Agent: What platforms should I use to execute my buy/sells?\n",
    "    Agent->>Tool1: Best college-level investing apps?\n",
    "    Tool1->>Agent: Acorn, Robinhood, Vanguard. \n",
    "    Agent-->>User: Here are three platforms that are great for college students to buy and sell stock in the stock market. 1) Acorn. Acorn takes the change you accure during transactions and automatically invests it for you. [cont.]\n",
    "    '''\n",
    "\n",
    "Mermaid(dia2)"
   ]
  },
  {
   "cell_type": "code",
   "execution_count": 34,
   "id": "4cd4b30c-0960-46dc-9367-7c31021bec28",
   "metadata": {},
   "outputs": [
    {
     "data": {
      "text/html": [
       "\n",
       "        <div class=\"mermaid-4ca86109-9b8a-4022-b81c-07826aba8c78\"></div>\n",
       "        <script type=\"module\">\n",
       "            import mermaid from 'https://cdn.jsdelivr.net/npm/mermaid@10.1.0/+esm'\n",
       "            const graphDefinition = 'sequenceDiagram\\n    User->>Agent: How has Amazon stock been doing?\\n    Agent->>Tool1: What are the recent trends in Amazon stock?\\n    Tool1->>Agent: Amazon (AMZN) has been facing some fluctuation given new leadership. \\n    Agent->>Tool2: How has AMZN been performing recently?\\n    Tool2-->>Agent: Shaky growth recently, but positive trends overall.\\n    Agent-->>User: Amazon stock has been experiecing slight fluctuations in performance recently due to changing leadership. Overall, the stock remains a strong and consistent performer.\\n';\n",
       "            const element = document.querySelector('.mermaid-4ca86109-9b8a-4022-b81c-07826aba8c78');\n",
       "            const { svg } = await mermaid.render('graphDiv-4ca86109-9b8a-4022-b81c-07826aba8c78', graphDefinition);\n",
       "            element.innerHTML = svg;\n",
       "        </script>\n",
       "        "
      ],
      "text/plain": [
       "<mermaid.mermaid.Mermaid at 0x7f1ee27825d0>"
      ]
     },
     "execution_count": 34,
     "metadata": {},
     "output_type": "execute_result"
    }
   ],
   "source": [
    "dia3 = '''\n",
    "\n",
    "sequenceDiagram\n",
    "    User->>Agent: How has Amazon stock been doing?\n",
    "    Agent->>Tool1: What are the recent trends in Amazon stock?\n",
    "    Tool1->>Agent: Amazon (AMZN) has been facing some fluctuation given new leadership. \n",
    "    Agent->>Tool2: How has AMZN been performing recently?\n",
    "    Tool2-->>Agent: Shaky growth recently, but positive trends overall.\n",
    "    Agent-->>User: Amazon stock has been experiecing slight fluctuations in performance recently due to changing leadership. Overall, the stock remains a strong and consistent performer.\n",
    "'''\n",
    "\n",
    "Mermaid(dia3)"
   ]
  },
  {
   "cell_type": "code",
   "execution_count": 35,
   "id": "ed9719a5-b216-4ce5-be94-85b504a3f7ae",
   "metadata": {},
   "outputs": [
    {
     "data": {
      "text/html": [
       "\n",
       "        <div class=\"mermaid-2e279e9a-6de0-4555-926b-af06b5bd908f\"></div>\n",
       "        <script type=\"module\">\n",
       "            import mermaid from 'https://cdn.jsdelivr.net/npm/mermaid@10.1.0/+esm'\n",
       "            const graphDefinition = 'sequenceDiagram;\\n    User->>Agent: What platforms should I use to execute my buy/sells?\\n    Agent->>Tool1: Best college-level investing apps?\\n    Tool1->>Agent: Acorn, Robinhood, Vanguard. \\n    Agent-->>User: Here are three platforms that are great for college students to buy and sell stock in the stock market. 1) Acorn. Acorn takes the change you accure during transactions and automatically invests it for you. [cont.]\\n';\n",
       "            const element = document.querySelector('.mermaid-2e279e9a-6de0-4555-926b-af06b5bd908f');\n",
       "            const { svg } = await mermaid.render('graphDiv-2e279e9a-6de0-4555-926b-af06b5bd908f', graphDefinition);\n",
       "            element.innerHTML = svg;\n",
       "        </script>\n",
       "        "
      ],
      "text/plain": [
       "<mermaid.mermaid.Mermaid at 0x7f1ee2783210>"
      ]
     },
     "execution_count": 35,
     "metadata": {},
     "output_type": "execute_result"
    }
   ],
   "source": [
    "dia4 = '''\n",
    "\n",
    "sequenceDiagram;\n",
    "    User->>Agent: What platforms should I use to execute my buy/sells?\n",
    "    Agent->>Tool1: Best college-level investing apps?\n",
    "    Tool1->>Agent: Acorn, Robinhood, Vanguard. \n",
    "    Agent-->>User: Here are three platforms that are great for college students to buy and sell stock in the stock market. 1) Acorn. Acorn takes the change you accure during transactions and automatically invests it for you. [cont.]\n",
    "'''\n",
    "\n",
    "Mermaid(dia4)"
   ]
  },
  {
   "cell_type": "markdown",
   "id": "f6645f1b-d17f-4cb9-bb6b-e2feb0672521",
   "metadata": {},
   "source": [
    "## Head to our Next Notebook:\n",
    "\n",
    "* [Evaluating existing LLMs](Exploration.ipynb)"
   ]
  }
 ],
 "metadata": {
  "citation-manager": {
   "items": {}
  },
  "kernelspec": {
   "display_name": "Python 3.11 (COMM4190)",
   "language": "python",
   "name": "comm4190"
  },
  "language_info": {
   "codemirror_mode": {
    "name": "ipython",
    "version": 3
   },
   "file_extension": ".py",
   "mimetype": "text/x-python",
   "name": "python",
   "nbconvert_exporter": "python",
   "pygments_lexer": "ipython3",
   "version": "3.11.7"
  }
 },
 "nbformat": 4,
 "nbformat_minor": 5
}
