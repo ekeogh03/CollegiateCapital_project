{
 "cells": [
  {
   "cell_type": "markdown",
   "id": "6ca42f91-8973-4945-bb6e-881273252f2f",
   "metadata": {},
   "source": [
    "## Diagrams to explain the system\n",
    "\n",
    "In order to map out some of our use cases, we created several flowcharts using mermaid! They should offer insights into the manner in which our platform will work and examples of potential students experiences.\n",
    "\n",
    "Here, the User represents our student, the Agent is CollegiateCapital, Tool1 is a DuckDuckGo search, and Tool2 is a YahooFinance search."
   ]
  },
  {
   "cell_type": "code",
   "execution_count": 53,
   "id": "56640e79-65af-43aa-8aef-0f5a0c384810",
   "metadata": {},
   "outputs": [],
   "source": [
    "import sys\n",
    "import base64\n",
    "import zlib\n",
    "from IPython.display import Image,display,SVG"
   ]
  },
  {
   "cell_type": "code",
   "execution_count": 76,
   "id": "309194fb-a0ed-480a-aa7d-9226782e5d43",
   "metadata": {},
   "outputs": [],
   "source": [
    "def mm(diagram):\n",
    "    encoded_diagram = base64.urlsafe_b64encode(zlib.compress(diagram.encode('utf-8'), 9)).decode('ascii')\n",
    "    dia_url = f'https://kroki.io/mermaid/svg/{encoded_diagram}'\n",
    "    display(Image(url=dia_url))"
   ]
  },
  {
   "cell_type": "markdown",
   "id": "a3fc4b42-8e16-45cf-b0ce-2aeb5ddab148",
   "metadata": {},
   "source": [
    "### User and Agent Scenario using web search and Yahoo Finance News search tools"
   ]
  },
  {
   "cell_type": "code",
   "execution_count": 77,
   "id": "42b07f49-405a-4595-bd1d-323ffa2f0cde",
   "metadata": {
    "scrolled": true
   },
   "outputs": [
    {
     "data": {
      "text/html": [
       "<img src=\"https://kroki.io/mermaid/svg/eNp1kcFOwzAMhu97CvMAk6DixKHTBAcmgbQDiLPXuanVNB5xMtS3x-kGBTF6idTk-37nz0LpPVNo6IHRRRwWYN-rUlzW9dpRSHfw1mECTdL0CtpJ9nvYAIcjabJlNRHT0aUxBT0jrDBKjhBZe0jiKaLlQCvxTHNwqwt5z7TnPBgBj-y6f_UY6eT_loET9HpJucURpG1hGMELBgUMe4iU2Bymuq1-pNT1i4i_-X1vx0eCzsYpVI7hnDKdnGPW2-3TH1M115E6Mr6xPdhRh0e2KqSdsNlXLWfhvQRlTQVwUT7SxTY2oNm502t8NcEB1oeDp-miXqQvP0vzGCBFOXCD3ibyZduK3uWxINU1jITRBuWBrqasT-LAsRQ=\"/>"
      ],
      "text/plain": [
       "<IPython.core.display.Image object>"
      ]
     },
     "metadata": {},
     "output_type": "display_data"
    }
   ],
   "source": [
    "dia1 = '''\n",
    "sequenceDiagram\n",
    "    User->>Agent: What stocks should I invest in?\n",
    "    Agent-->>User: What is your risk tolerance for investing?\n",
    "    User->>Agent: Medium to High\n",
    "    Agent-->>User: What are your investing goals?\n",
    "    User->>Agent: Pay off my loans and retire at 42\n",
    "    Agent->>Tool1: What stocks give high returns?\n",
    "    Tool1->>Agent: APPL\n",
    "    Agent->>Tool2: What is the recent behavior of APPL?\n",
    "    Tool2-->>Agent: Consistent growth\n",
    "    Agent-->>User: I suggest investing in Apple and looking for an tropical island to buy in 20 years time!\n",
    "    '''\n",
    "\n",
    "mm(dia1)"
   ]
  },
  {
   "cell_type": "code",
   "execution_count": 79,
   "id": "7c6df782-17f9-4d37-b5a8-11016c98d761",
   "metadata": {},
   "outputs": [
    {
     "data": {
      "text/html": [
       "<img src=\"https://kroki.io/mermaid/svg/eNpNUEtPwzAMvvMrvivSVrTrkIaGOMAV8TggDl5q2mhpPGJnov8etxtikaIktr9XrpS_K-fAD5G6QsPtFXy9KpflZrPtONsa7z0ZDonsS8qg0F5qavGEqgwT8A-HaoxhxK6ON8op6d1MM-Od50Ukrda4ZzUESYk7XiY-ckLMRy_G3IEOhzNqnv5X3wYpeYFn2cXci7QLvFHuKpW2wYWKAybXazxyYZBv6wvzhW-bYkyNrrDfvPhnBmq1dRKd4ngGUG4x5fCGhL27dDCfHwOVPVuD1fXJWnM6YLRnnedC7wYZo1RQCNUV21qmjFYoKwWLknXWoGoykMVAKY3nz1DEkznHN_gIkq35nIP-Ap4vkv4=\"/>"
      ],
      "text/plain": [
       "<IPython.core.display.Image object>"
      ]
     },
     "metadata": {},
     "output_type": "display_data"
    }
   ],
   "source": [
    "dia2 = '''\n",
    "sequenceDiagram;\n",
    "    User->>Agent: What platforms should I use to execute my buy/sells?\n",
    "    Agent->>Tool1: Best college-level investing apps?\n",
    "    Tool1->>Agent: Acorn, Robinhood, Vanguard. \n",
    "    Agent-->>User: Here are three platforms that are great for college students to buy and sell stock in the stock market. 1) Acorn. Acorn takes the change you accure during transactions and automatically invests it for you. [cont.]\n",
    "    '''\n",
    "\n",
    "mm(dia2)"
   ]
  },
  {
   "cell_type": "code",
   "execution_count": 80,
   "id": "4cd4b30c-0960-46dc-9367-7c31021bec28",
   "metadata": {},
   "outputs": [
    {
     "data": {
      "text/html": [
       "<img src=\"https://kroki.io/mermaid/svg/eNplUb1OwzAQ3vMUN4LUVqJjhqJKDCzAAAiJ7epcbauOr5ydlvL0XJySpsKbdd_vXVUl-uooGnrwaAXbCvS9J5L5arW2FHMNj3wEhwnWLf5whJTZ7GBDFKFhH-19oRSsct6Yw10NHw4zoBBkRyBkdAhZKDYJfLxSGuiFdrE8A27WT5_Pt8W8-G3RqCEkbgm2oTO5w-wVZ_1Bp5GOEAgbkuT8fgH_ci0nXVR40NyTbFnaXnfIGU6XSMv5JdOrw90JrPAxuxE6g02XYc_JZ83wV5EPJBjCYpJAdfqt1tdbHJvRt-bwNNQL3ro8LViWdg6KeqvRHppOTRmMw2h77rT_y5BiVm4w-Am16FUO9S-seIwNGDXwKfcnOnuQLKpfmMq5SQ==\"/>"
      ],
      "text/plain": [
       "<IPython.core.display.Image object>"
      ]
     },
     "metadata": {},
     "output_type": "display_data"
    }
   ],
   "source": [
    "dia3 = '''\n",
    "\n",
    "sequenceDiagram\n",
    "    User->>Agent: How has Amazon stock been doing?\n",
    "    Agent->>Tool1: What are the recent trends in Amazon stock?\n",
    "    Tool1->>Agent: Amazon (AMZN) has been facing some fluctuation given new leadership. \n",
    "    Agent->>Tool2: How has AMZN been performing recently?\n",
    "    Tool2-->>Agent: Shaky growth recently, but positive trends overall.\n",
    "    Agent-->>User: Amazon stock has been experiecing slight fluctuations in performance recently due to changing leadership. Overall, the stock remains a strong and consistent performer.\n",
    "'''\n",
    "\n",
    "mm(dia3)"
   ]
  },
  {
   "cell_type": "code",
   "execution_count": 81,
   "id": "ed9719a5-b216-4ce5-be94-85b504a3f7ae",
   "metadata": {},
   "outputs": [
    {
     "data": {
      "text/html": [
       "<img src=\"https://kroki.io/mermaid/svg/eNpNUEtPwzAMvvdXfFekrWjXIQ0NcRhXxOOAOHipaaul8Yidif573G6IRYqS2P5eqSrl78Ip8GNPbabhroKvV-W83Gy2LSdb470jwzGSfUkeFNpJiQ2eUJRhAv7hUIwxjNiX8VY5Rr2faWa887yIxNUaD6yGIDFyy8vIJ47o08mLfWpBx-MFNU__q2-D5LTAs-z71Ik0C7xRagvlpsaVigMm12vsODPIt3WZ-cq3TTGmRpvZb178MwO10jiJTnE8Ayg1mHJ4Q8LBXTqYL4-B8oGtxurmbK0-HzA6sM5zoXODjFEKKITiik3JU0bLlJSC9ZJ01qBiMpD1gWIcL5-h6M_mHF_jI0iy-rP6BWN0kog=\"/>"
      ],
      "text/plain": [
       "<IPython.core.display.Image object>"
      ]
     },
     "metadata": {},
     "output_type": "display_data"
    }
   ],
   "source": [
    "dia4 = '''\n",
    "\n",
    "sequenceDiagram;\n",
    "    User->>Agent: What platforms should I use to execute my buy/sells?\n",
    "    Agent->>Tool1: Best college-level investing apps?\n",
    "    Tool1->>Agent: Acorn, Robinhood, Vanguard. \n",
    "    Agent-->>User: Here are three platforms that are great for college students to buy and sell stock in the stock market. 1) Acorn. Acorn takes the change you accure during transactions and automatically invests it for you. [cont.]\n",
    "'''\n",
    "\n",
    "mm(dia4)"
   ]
  },
  {
   "cell_type": "markdown",
   "id": "f6645f1b-d17f-4cb9-bb6b-e2feb0672521",
   "metadata": {},
   "source": [
    "## Head to our Next Notebook:\n",
    "\n",
    "* [Evaluating existing LLMs](3_Exploration.ipynb)"
   ]
  },
  {
   "cell_type": "code",
   "execution_count": null,
   "id": "cd13bc12-e94f-44b5-9125-869b0dbb01f3",
   "metadata": {},
   "outputs": [],
   "source": []
  }
 ],
 "metadata": {
  "citation-manager": {
   "items": {}
  },
  "kernelspec": {
   "display_name": "Python 3.11 (COMM4190)",
   "language": "python",
   "name": "comm4190"
  },
  "language_info": {
   "codemirror_mode": {
    "name": "ipython",
    "version": 3
   },
   "file_extension": ".py",
   "mimetype": "text/x-python",
   "name": "python",
   "nbconvert_exporter": "python",
   "pygments_lexer": "ipython3",
   "version": "3.11.7"
  }
 },
 "nbformat": 4,
 "nbformat_minor": 5
}
