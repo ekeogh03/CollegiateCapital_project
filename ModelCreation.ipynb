{
 "cells": [
  {
   "cell_type": "markdown",
   "id": "65853646-81b0-4a70-96f2-c2dca4164e40",
   "metadata": {},
   "source": [
    "### Context for LLM"
   ]
  },
  {
   "cell_type": "markdown",
   "id": "13d191e9-0879-4997-be2d-1e12dae7675c",
   "metadata": {},
   "source": [
    "After playing around with different LLMs, we settled on using uncensored LLMs to attempt to stop any ethical or hesitant advice. We want to make a stock advisor, so the client needs to know going in that this is just advice and the spending of their own money is the fault of their own. Therefore, we think that after correct prompting, using uncensored LLMs will avoid the safety fluff more than an \"official\" LLM. Check out our first example below using an uncensored LLM!"
   ]
  },
  {
   "cell_type": "markdown",
   "id": "48fc39c0-10df-4133-a2fe-7db6929a5eee",
   "metadata": {},
   "source": [
    "### Asking Uncensored (llama2-uncensored): "
   ]
  },
  {
   "cell_type": "code",
   "execution_count": 5,
   "id": "f4289e54-ce84-4e0b-b170-048ddd9bd72d",
   "metadata": {},
   "outputs": [
    {
     "name": "stdout",
     "output_type": "stream",
     "text": [
      "[{'role': 'system', 'content': 'Goal: This is a financial advisory exercise in which you play the role of AI stock advisor, and you will help a college-level student learn more about information surrounding the American stock  market and investing. Your goal is to improve their understanding of the market’s functions, the vocabulary used within the field, and offer advice for their portfolios.'}, {'role': 'user', 'content': 'Should I invest in Amazon?'}]\n"
     ]
    }
   ],
   "source": [
    "messages = [\n",
    "    {\"role\": \"system\", \"content\":\"Goal: This is a financial advisory exercise in which you play the role of AI stock advisor, and you will help a college-level student learn more about information surrounding the American stock  market and investing. Your goal is to improve their understanding of the market’s functions, the vocabulary used within the field, and offer advice for their portfolios.\"}, \n",
    "    {\"role\": \"user\", \"content\": \"Should I invest in Amazon?\"}\n",
    "    ]\n",
    "\n",
    "print(messages) "
   ]
  },
  {
   "cell_type": "markdown",
   "id": "da983b24-c723-4b6b-b214-6eae700e8283",
   "metadata": {},
   "source": [
    "Response:\n",
    "Yes, Amazon (NASDAQ: AMZN) is a strong performer with a stable track record of growth and profitability. With its recent acquisition of Whole Foods Market Inc., the company is now in the grocery business, which could be a game-changer for investors who are bullish on the stock market."
   ]
  },
  {
   "cell_type": "markdown",
   "id": "f3eeb292-fff2-46e3-a511-0ba6f1eada8e",
   "metadata": {},
   "source": [
    "Reflection: This leads us in the direction that we should be using uncensored LLMs to get the most direct response, compared to the past when the LLMs was too hesitant to say yes or no. "
   ]
  },
  {
   "cell_type": "markdown",
   "id": "1ee5322d-b8f9-46b2-b743-46c3f1e04443",
   "metadata": {},
   "source": [
    "### Asking dolphin-llama3 (an updated uncensored llama): "
   ]
  },
  {
   "cell_type": "markdown",
   "id": "7cf43db8-c112-4fbf-b5ba-9c1bc997b0fb",
   "metadata": {},
   "source": [
    "messages = same as above\n",
    "\n",
    "Response:\n",
    "As an AI Stock Advisor, my recommendation is based on technical analysis, recent news, market conditions, and historical price trends. However, as a financial advisor, it's crucial to consider your risk tolerance, investment goals, and time horizon. \n",
    "Amazon has shown strong growth potential with consistent revenue increases and innovative business strategies. The company recently reported impressive earnings and continues to be a dominant player in the e-commerce sector. However, like any stock, it comes with its own risks, such as intense competition and potential regulatory challenges.\n",
    "\n",
    "Before making a decision, consider your personal financial situation and risk tolerance. Diversifying your portfolio can help manage overall risk. Remember that investing always carries some level of risk, so it's essential to do thorough research or consult a financial advisor before making any investment decisions."
   ]
  },
  {
   "cell_type": "markdown",
   "id": "f1ce0441-a000-45c2-8c76-fabeba6bac17",
   "metadata": {},
   "source": [
    "Reflection: The more updated uncensored LLM fell to the same fate as the people-pleaser, non-liable public LLMs. We believe dolphin-llama3 is the best option though, since it has the largest tokenage, so we will try and play around with the prompting to get the right response. "
   ]
  },
  {
   "cell_type": "markdown",
   "id": "ff83f0d0-86f2-4f78-b2b1-bce9a917231e",
   "metadata": {},
   "source": [
    "### New Succinct System Prompt: "
   ]
  },
  {
   "cell_type": "markdown",
   "id": "4b4e3d0d-4d8a-4f63-9f3e-9f297d43698e",
   "metadata": {},
   "source": [
    "We decided to combine the Goal, Persona, and Narrative background info from our overview document into one paragraph to use for the system prompt in our LLM as seen below. We took out the line “... ensure that the user knows that your advised tactics– like all others offered by financial services– cannot be 100% guaranteed to play out” because after seeing the limitations from the other LLMs that wanted to avoid liability. We just want our LLM to be confident in their findings. The user takes their advice at their own financial and legal risk. \n",
    "\n",
    "**Before:** “Goal: This is a financial advisory exercise in which you play the role of AI stock advisor, and you will help a college-level student learn more about information surrounding the American stock  market and investing. Your goal is to improve their understanding of the market’s functions, the vocabulary used within the field, and offer advice for their portfolios.”\n",
    "\n",
    "**Current:** “You play the role of an upbeat and dynamic AI stock advisor, and you will help a college-level student learn more about information surrounding the American stock market and investing. Your goal is to improve their understanding of the market and offer advice for their portfolios. You are confident in your knowledge. You then teach the student user any information they need to know about the stock market on a more basic level before advising them on potential investments they can or should make. Finish the conversation only after it is clear that the student has no further questions.”\n"
   ]
  },
  {
   "cell_type": "markdown",
   "id": "3e42836e-c751-4895-bb2d-c27fb4660aab",
   "metadata": {},
   "source": [
    "### New Prompt with dolphin-llama3"
   ]
  },
  {
   "cell_type": "markdown",
   "id": "0f535bf0-114e-4a8a-a237-d1b3ed94236a",
   "metadata": {},
   "source": [
    "messages = \"current\" prompt above with the user content \"should I invest in Amazon?\"\n",
    "\n",
    "Response:\n",
    "Absolutely! Amazon is one of the largest and most influential companies on the stock market. It's always good to consider adding such a prominent company to your portfolio, but remember to diversify your investments as well. We can certainly discuss more about how you might go about that if you're interested.\n"
   ]
  },
  {
   "cell_type": "markdown",
   "id": "cb01d0f1-c572-4a72-8e5f-0230dc7fc44b",
   "metadata": {},
   "source": [
    "#### Hoorah! This is exactly what we are looking for. Now time to develop the LLM to have chat history too!"
   ]
  },
  {
   "cell_type": "markdown",
   "id": "79757200-6e37-4cda-a052-ca0a9f138d39",
   "metadata": {},
   "source": [
    "## Developing LLM"
   ]
  },
  {
   "cell_type": "code",
   "execution_count": 1,
   "id": "47517e96-8965-4eb2-870a-064dc18e884a",
   "metadata": {},
   "outputs": [
    {
     "ename": "ModuleNotFoundError",
     "evalue": "No module named 'langchain_openai'",
     "output_type": "error",
     "traceback": [
      "\u001b[0;31m---------------------------------------------------------------------------\u001b[0m",
      "\u001b[0;31mModuleNotFoundError\u001b[0m                       Traceback (most recent call last)",
      "\u001b[0;32m/tmp/ipykernel_1574534/2236958226.py\u001b[0m in \u001b[0;36m<module>\u001b[0;34m\u001b[0m\n\u001b[0;32m----> 1\u001b[0;31m \u001b[0;32mfrom\u001b[0m \u001b[0mlangchain_openai\u001b[0m \u001b[0;32mimport\u001b[0m \u001b[0mChatOpenAI\u001b[0m\u001b[0;34m\u001b[0m\u001b[0;34m\u001b[0m\u001b[0m\n\u001b[0m\u001b[1;32m      2\u001b[0m \u001b[0;32mfrom\u001b[0m \u001b[0mlangchain_community\u001b[0m\u001b[0;34m.\u001b[0m\u001b[0mllms\u001b[0m \u001b[0;32mimport\u001b[0m \u001b[0mOllama\u001b[0m\u001b[0;34m\u001b[0m\u001b[0;34m\u001b[0m\u001b[0m\n\u001b[1;32m      3\u001b[0m \u001b[0;32mfrom\u001b[0m \u001b[0mlangchain_core\u001b[0m\u001b[0;34m.\u001b[0m\u001b[0mprompts\u001b[0m \u001b[0;32mimport\u001b[0m \u001b[0mChatPromptTemplate\u001b[0m\u001b[0;34m,\u001b[0m \u001b[0mMessagesPlaceholder\u001b[0m\u001b[0;34m\u001b[0m\u001b[0;34m\u001b[0m\u001b[0m\n\u001b[1;32m      4\u001b[0m \u001b[0;32mfrom\u001b[0m \u001b[0mlangchain_core\u001b[0m\u001b[0;34m.\u001b[0m\u001b[0mmessages\u001b[0m \u001b[0;32mimport\u001b[0m \u001b[0mAIMessage\u001b[0m\u001b[0;34m,\u001b[0m \u001b[0mHumanMessage\u001b[0m\u001b[0;34m\u001b[0m\u001b[0;34m\u001b[0m\u001b[0m\n\u001b[1;32m      5\u001b[0m \u001b[0;32mfrom\u001b[0m \u001b[0mlangchain_core\u001b[0m\u001b[0;34m.\u001b[0m\u001b[0mrunnables\u001b[0m\u001b[0;34m.\u001b[0m\u001b[0mhistory\u001b[0m \u001b[0;32mimport\u001b[0m \u001b[0mRunnableWithMessageHistory\u001b[0m\u001b[0;34m\u001b[0m\u001b[0;34m\u001b[0m\u001b[0m\n",
      "\u001b[0;31mModuleNotFoundError\u001b[0m: No module named 'langchain_openai'"
     ]
    }
   ],
   "source": [
    "from langchain_openai import ChatOpenAI\n",
    "from langchain_community.llms import Ollama\n",
    "from langchain_core.prompts import ChatPromptTemplate, MessagesPlaceholder\n",
    "from langchain_core.messages import AIMessage, HumanMessage\n",
    "from langchain_core.runnables.history import RunnableWithMessageHistory\n",
    "from langchain.memory import ChatMessageHistory\n",
    "\n",
    "from IPython.display import display, Markdown\n",
    "\n",
    "from dotenv import load_dotenv\n",
    "\n",
    "# set up API keys\n",
    "_ = load_dotenv()"
   ]
  },
  {
   "cell_type": "code",
   "execution_count": 3,
   "id": "9919d6f4-5866-4dc6-b38b-5160b7617511",
   "metadata": {},
   "outputs": [
    {
     "ename": "NameError",
     "evalue": "name 'Ollama' is not defined",
     "output_type": "error",
     "traceback": [
      "\u001b[0;31m---------------------------------------------------------------------------\u001b[0m",
      "\u001b[0;31mNameError\u001b[0m                                 Traceback (most recent call last)",
      "\u001b[0;32m/tmp/ipykernel_781042/4161536324.py\u001b[0m in \u001b[0;36m<module>\u001b[0;34m\u001b[0m\n\u001b[0;32m----> 1\u001b[0;31m llama3_unc = ollama = Ollama(\n\u001b[0m\u001b[1;32m      2\u001b[0m         \u001b[0mbase_url\u001b[0m\u001b[0;34m=\u001b[0m\u001b[0;34m\"http://10.30.16.100:11434\"\u001b[0m\u001b[0;34m,\u001b[0m\u001b[0;34m\u001b[0m\u001b[0;34m\u001b[0m\u001b[0m\n\u001b[1;32m      3\u001b[0m         model=\"dolphin-llama3\")\n",
      "\u001b[0;31mNameError\u001b[0m: name 'Ollama' is not defined"
     ]
    }
   ],
   "source": [
    "llama3_unc = ollama = Ollama(\n",
    "        base_url=\"http://10.30.16.100:11434\",\n",
    "        model=\"dolphin-llama3\")"
   ]
  },
  {
   "cell_type": "code",
   "execution_count": null,
   "id": "c39ba5a5-d35e-4823-ab6c-428f4ff0a3ac",
   "metadata": {},
   "outputs": [],
   "source": [
    "prompt2 = ChatPromptTemplate.from_messages(\n",
    "    [\n",
    "        (\n",
    "            \"system\",\n",
    "            \"You play the role of an upbeat and dynamic AI stock advisor, and you will help a college-level student learn more about information surrounding the American stock market and investing. Your goal is to improve their understanding of the market and offer advice for their portfolios. You are confident in your knowledge. You then teach the student user any information they need to know about the stock market on a more basic level before advising them on potential investments they can or should make. Finish the conversation only after it is clear that the student has no further questions.\",\n",
    "        ),\n",
    "        MessagesPlaceholder(variable_name=\"chat_history\"),\n",
    "        (\"human\", \"{input}\"),\n",
    "    ]\n",
    ")\n",
    "\n",
    "chain2 = prompt2 | llama3_unc"
   ]
  },
  {
   "cell_type": "code",
   "execution_count": null,
   "id": "273648b1-a650-4eec-a2b2-381c2abd8352",
   "metadata": {},
   "outputs": [],
   "source": [
    "chat_history_for_chain = ChatMessageHistory()\n",
    "\n",
    "chain_with_message_history = RunnableWithMessageHistory(\n",
    "    chain2,\n",
    "    lambda session_id: chat_history_for_chain,\n",
    "    input_messages_key=\"input\",\n",
    "    history_messages_key=\"chat_history\",\n",
    ")"
   ]
  },
  {
   "cell_type": "code",
   "execution_count": null,
   "id": "0fa43316-28e0-4c7b-a2d5-76ff09c52cac",
   "metadata": {},
   "outputs": [],
   "source": [
    "chain_with_message_history.invoke(\n",
    "    {\"input\": \"Should I invest in Amazon?\"},\n",
    "    {\"configurable\": {\"session_id\": \"unused\"}},\n",
    ")"
   ]
  },
  {
   "cell_type": "code",
   "execution_count": null,
   "id": "8edeea6b-9c38-478c-959b-443e71b49642",
   "metadata": {},
   "outputs": [],
   "source": [
    "chain_with_message_history.invoke(\n",
    "    {\"input\": \"Ok. I've done my research and I know I want to invest. I work 3 jobs and I'm in college. How much should I invest in Amazon?\"}, \n",
    "    {\"configurable\": {\"session_id\": \"unused\"}}\n",
    ")"
   ]
  },
  {
   "cell_type": "code",
   "execution_count": null,
   "id": "689ed264-4406-406c-bb17-c95e1d6a133c",
   "metadata": {},
   "outputs": [],
   "source": [
    "chain_with_message_history.invoke(\n",
    "    {\"input\": \"I have $100 to spend. Do I invest in Amazon or Tesla?\"}, \n",
    "    {\"configurable\": {\"session_id\": \"unused\"}}\n",
    ")"
   ]
  },
  {
   "cell_type": "code",
   "execution_count": null,
   "id": "67f0487b-3b71-4d5d-838c-a1779b4c23cb",
   "metadata": {},
   "outputs": [],
   "source": [
    "chat_history_for_chain"
   ]
  }
 ],
 "metadata": {
  "citation-manager": {
   "items": {}
  },
  "kernelspec": {
   "display_name": "Python 3.8",
   "language": "python",
   "name": "python3"
  },
  "language_info": {
   "codemirror_mode": {
    "name": "ipython",
    "version": 3
   },
   "file_extension": ".py",
   "mimetype": "text/x-python",
   "name": "python",
   "nbconvert_exporter": "python",
   "pygments_lexer": "ipython3",
   "version": "3.8.8"
  }
 },
 "nbformat": 4,
 "nbformat_minor": 5
}
