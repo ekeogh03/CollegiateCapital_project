{
 "cells": [
  {
   "cell_type": "markdown",
   "id": "6ca42f91-8973-4945-bb6e-881273252f2f",
   "metadata": {},
   "source": [
    "## Diagrams to explain the system\n",
    "\n",
    "In order to map out some of our use cases, we created several flowcharts using mermaid! They should offer insights into the manner in which our platform will work and examples of potential students experiences.\n",
    "\n",
    "Here, the User represents our student, the Agent is CollegiateCapital, Tool1 is a DuckDuckGo search, and Tool2 is a YahooFinance search."
   ]
  },
  {
   "cell_type": "markdown",
   "id": "59061788-123d-48ed-a642-5d3603e86833",
   "metadata": {},
   "source": [
    "```mermaid\n",
    "\n",
    "sequenceDiagram\n",
    "    User->>Agent: What stocks should I invest in?\n",
    "    Agent-->>User: What is your risk tolerance for investing?\n",
    "    User->>Agent: Medium to High\n",
    "    Agent-->>User: What are your investing goals?\n",
    "    User->>Agent: Pay off my loans and retire at 42\n",
    "    Agent->>Tool1: What stocks give high returns?\n",
    "    Tool1->>Agent: APPL\n",
    "    Agent->>Tool2: What is the recent behavior of APPL?\n",
    "    Tool2-->>Agent: Consistent growth\n",
    "    Agent-->>User: I suggest investing in Apple and looking for an tropic island to buy in 20 years time!\n",
    "```"
   ]
  },
  {
   "cell_type": "markdown",
   "id": "7622423e-98fb-4be7-b5a8-ebbba435261e",
   "metadata": {},
   "source": [
    "```mermaid\n",
    "\n",
    "sequenceDiagram\n",
    "    User->>Agent: How has Amazon stock been doing?\n",
    "    Agent->>Tool1: What are the recent trends in Amazon stock?\n",
    "    Tool1->>Agent: Amazon (AMZN) has been facing some fluctuation given new leadership. \n",
    "    Agent->>Tool2: How has AMZN been performing recently?\n",
    "    Tool2-->>Agent: Shaky growth recently, but positive trends overall.\n",
    "    Agent-->>User: Amazon stock has been experiecing slight fluctuations in performance recently due to changing leadership. Overall, the stock remains a strong and consistent performer.\n",
    "```"
   ]
  },
  {
   "cell_type": "markdown",
   "id": "8c736812-a871-4778-a738-851a3a81fbff",
   "metadata": {},
   "source": [
    "```mermaid\n",
    "\n",
    "sequenceDiagram\n",
    "    User->>Agent: What is some important lingo for me to know regarding the stock market?\n",
    "    Agent-->>User: What is your current knowledge of the stock market and investing?\n",
    "    User->>Agent: I have only some knowledge currently. \n",
    "    Agent->>Tool1: Key terms for entry-level investors to know?\n",
    "    Tool1->>Agent: Bullish, opening-price, IPO, portfolio, ETF, mutual fund. \n",
    "    Agent-->>User: Here are key terms for you to know. 1) Bullish. This refers to a positive outlook or sentiment about the direction of a particular stock, sector, or the overall market. [cont.]\n",
    "```"
   ]
  },
  {
   "cell_type": "markdown",
   "id": "55642a96-a79c-4bf6-8cfa-136ca3e98e26",
   "metadata": {},
   "source": [
    "```mermaid\n",
    "\n",
    "sequenceDiagram\n",
    "    User->>Agent: What platforms should I use to execute my buy/sells?\n",
    "    Agent->>Tool1: Best college-level investing apps?\n",
    "    Tool1->>Agent: Acorn, Robinhood, Vanguard. \n",
    "    Agent-->>User: Here are three platforms that are great for college students to buy and sell stock in the stock market. 1) Acorn. Acorn takes the change you accure during transactions and automatically invests it for you. [cont.]\n",
    "```"
   ]
  },
  {
   "cell_type": "markdown",
   "id": "f6645f1b-d17f-4cb9-bb6b-e2feb0672521",
   "metadata": {},
   "source": [
    "## Head to our Next Notebook:\n",
    "\n",
    "* [Evaluating existing LLMs](Exploration.ipynb)"
   ]
  }
 ],
 "metadata": {
  "citation-manager": {
   "items": {}
  },
  "kernelspec": {
   "display_name": "Python 3.11 (COMM4190)",
   "language": "python",
   "name": "comm4190"
  },
  "language_info": {
   "codemirror_mode": {
    "name": "ipython",
    "version": 3
   },
   "file_extension": ".py",
   "mimetype": "text/x-python",
   "name": "python",
   "nbconvert_exporter": "python",
   "pygments_lexer": "ipython3",
   "version": "3.11.7"
  }
 },
 "nbformat": 4,
 "nbformat_minor": 5
}
