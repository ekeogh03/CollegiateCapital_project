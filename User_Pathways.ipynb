{
 "cells": [
  {
   "cell_type": "markdown",
   "id": "6ca42f91-8973-4945-bb6e-881273252f2f",
   "metadata": {},
   "source": [
    "## Diagrams to explain the system\n",
    "\n",
    "In order to map out some of our use cases, we created several flowcharts using mermaid! They should offer insights into the manner in which our platform will work and examples of potential students experiences.\n",
    "\n",
    "Here, the User represents our student, the Agent is CollegiateCapital, Tool1 is a DuckDuckGo search, and Tool2 is a YahooFinance search."
   ]
  },
  {
   "cell_type": "code",
   "execution_count": 13,
   "id": "b5c4f12f-cb4c-459a-97e4-b73e1435c2e3",
   "metadata": {},
   "outputs": [
    {
     "ename": "ImportError",
     "evalue": "cannot import name 'Mermaid' from 'IPython' (/usr/local/anaconda3/share/jupyter/venv/py3-11_comm4190/lib/python3.11/site-packages/IPython/__init__.py)",
     "output_type": "error",
     "traceback": [
      "\u001b[0;31m---------------------------------------------------------------------------\u001b[0m",
      "\u001b[0;31mImportError\u001b[0m                               Traceback (most recent call last)",
      "Cell \u001b[0;32mIn[13], line 4\u001b[0m\n\u001b[1;32m      2\u001b[0m \u001b[38;5;28;01mimport\u001b[39;00m \u001b[38;5;21;01mmermaid\u001b[39;00m \u001b[38;5;28;01mas\u001b[39;00m \u001b[38;5;21;01mmd\u001b[39;00m\n\u001b[1;32m      3\u001b[0m \u001b[38;5;28;01mfrom\u001b[39;00m \u001b[38;5;21;01mmermaid\u001b[39;00m\u001b[38;5;21;01m.\u001b[39;00m\u001b[38;5;21;01mgraph\u001b[39;00m \u001b[38;5;28;01mimport\u001b[39;00m Graph\n\u001b[0;32m----> 4\u001b[0m \u001b[38;5;28;01mfrom\u001b[39;00m \u001b[38;5;21;01mIPython\u001b[39;00m \u001b[38;5;28;01mimport\u001b[39;00m Mermaid\n",
      "\u001b[0;31mImportError\u001b[0m: cannot import name 'Mermaid' from 'IPython' (/usr/local/anaconda3/share/jupyter/venv/py3-11_comm4190/lib/python3.11/site-packages/IPython/__init__.py)"
     ]
    }
   ],
   "source": [
    "from mermaid import Mermaid\n",
    "import mermaid as md\n",
    "from mermaid.graph import Graph"
   ]
  },
  {
   "cell_type": "code",
   "execution_count": 5,
   "id": "42b07f49-405a-4595-bd1d-323ffa2f0cde",
   "metadata": {},
   "outputs": [],
   "source": [
    "dia1 = '''\n",
    "sequenceDiagram\n",
    "    User->>Agent: What stocks should I invest in?\n",
    "    Agent-->>User: What is your risk tolerance for investing?\n",
    "    User->>Agent: Medium to High\n",
    "    Agent-->>User: What are your investing goals?\n",
    "    User->>Agent: Pay off my loans and retire at 42\n",
    "    Agent->>Tool1: What stocks give high returns?\n",
    "    Tool1->>Agent: APPL\n",
    "    Agent->>Tool2: What is the recent behavior of APPL?\n",
    "    Tool2-->>Agent: Consistent growth\n",
    "    Agent-->>User: I suggest investing in Apple and looking for an tropical island to buy in 20 years time!\n",
    "    '''"
   ]
  },
  {
   "cell_type": "code",
   "execution_count": 7,
   "id": "5ece9397-f88c-4a32-b4fd-85730d2bab76",
   "metadata": {},
   "outputs": [],
   "source": [
    "#Mermaid(dia1)"
   ]
  },
  {
   "cell_type": "code",
   "execution_count": null,
   "id": "7c6df782-17f9-4d37-b5a8-11016c98d761",
   "metadata": {},
   "outputs": [],
   "source": [
    "dia2 = '''\n",
    "sequenceDiagram;\n",
    "    User->>Agent: What platforms should I use to execute my buy/sells?\n",
    "    Agent->>Tool1: Best college-level investing apps?\n",
    "    Tool1->>Agent: Acorn, Robinhood, Vanguard. \n",
    "    Agent-->>User: Here are three platforms that are great for college students to buy and sell stock in the stock market. 1) Acorn. Acorn takes the change you accure during transactions and automatically invests it for you. [cont.]\n",
    "    '''\n",
    "\n",
    "Mermaid(dia2)"
   ]
  },
  {
   "cell_type": "code",
   "execution_count": null,
   "id": "4cd4b30c-0960-46dc-9367-7c31021bec28",
   "metadata": {},
   "outputs": [],
   "source": [
    "dia3 = '''\n",
    "\n",
    "sequenceDiagram\n",
    "    User->>Agent: How has Amazon stock been doing?\n",
    "    Agent->>Tool1: What are the recent trends in Amazon stock?\n",
    "    Tool1->>Agent: Amazon (AMZN) has been facing some fluctuation given new leadership. \n",
    "    Agent->>Tool2: How has AMZN been performing recently?\n",
    "    Tool2-->>Agent: Shaky growth recently, but positive trends overall.\n",
    "    Agent-->>User: Amazon stock has been experiecing slight fluctuations in performance recently due to changing leadership. Overall, the stock remains a strong and consistent performer.\n",
    "'''\n",
    "\n",
    "Mermaid(dia3)"
   ]
  },
  {
   "cell_type": "code",
   "execution_count": null,
   "id": "ed9719a5-b216-4ce5-be94-85b504a3f7ae",
   "metadata": {},
   "outputs": [],
   "source": [
    "dia4 = '''\n",
    "\n",
    "sequenceDiagram;\n",
    "    User->>Agent: What platforms should I use to execute my buy/sells?\n",
    "    Agent->>Tool1: Best college-level investing apps?\n",
    "    Tool1->>Agent: Acorn, Robinhood, Vanguard. \n",
    "    Agent-->>User: Here are three platforms that are great for college students to buy and sell stock in the stock market. 1) Acorn. Acorn takes the change you accure during transactions and automatically invests it for you. [cont.]\n",
    "'''\n",
    "\n",
    "Mermaid(dia4)"
   ]
  },
  {
   "cell_type": "markdown",
   "id": "f6645f1b-d17f-4cb9-bb6b-e2feb0672521",
   "metadata": {},
   "source": [
    "## Head to our Next Notebook:\n",
    "\n",
    "* [Evaluating existing LLMs](Exploration.ipynb)"
   ]
  },
  {
   "cell_type": "code",
   "execution_count": 10,
   "id": "42ea54ff-c460-4855-ace2-b4f6e1e7f8d6",
   "metadata": {},
   "outputs": [
    {
     "data": {
      "text/plain": [
       "Graph(title='dia1', script='\\nsequenceDiagram\\n    User->>Agent: What stocks should I invest in?\\n    Agent-->>User: What is your risk tolerance for investing?\\n    User->>Agent: Medium to High\\n    Agent-->>User: What are your investing goals?\\n    User->>Agent: Pay off my loans and retire at 42\\n    Agent->>Tool1: What stocks give high returns?\\n    Tool1->>Agent: APPL\\n    Agent->>Tool2: What is the recent behavior of APPL?\\n    Tool2-->>Agent: Consistent growth\\n    Agent-->>User: I suggest investing in Apple and looking for an tropical island to buy in 20 years time!\\n    ', config=None)"
      ]
     },
     "execution_count": 10,
     "metadata": {},
     "output_type": "execute_result"
    }
   ],
   "source": [
    "Graph(\"dia1\", dia1)"
   ]
  },
  {
   "cell_type": "code",
   "execution_count": null,
   "id": "ff652e2b-67ff-4773-b3e9-7e634f74f4c8",
   "metadata": {},
   "outputs": [],
   "source": []
  },
  {
   "cell_type": "code",
   "execution_count": null,
   "id": "8db9e656-1828-4ff4-95c4-720b8ab66b15",
   "metadata": {},
   "outputs": [],
   "source": [
    "\n",
    "graph: Graph = Graph('example-flowchart',\"\"\"\n",
    "flowchart TD\n",
    "    A[Christmas] -->|Get money| B(Go shopping)\n",
    "    B --> C{Let me think}\n",
    "    C -->|One| D[Laptop]\n",
    "    C -->|Two| E[iPhone]\n",
    "    C -->|Three| F[fa:fa-car Car]\n",
    "\"\"\")\n",
    "graphe: md.Mermaid = md.Mermaid(graph)\n",
    "graphe # !! note this work just in notbooke that render html."
   ]
  },
  {
   "cell_type": "markdown",
   "id": "05f2e3b2-a559-4407-892f-b6cd20939df1",
   "metadata": {},
   "source": [
    "```mermaid\n",
    "sequenceDiagram\n",
    "    participant dotcom\n",
    "    participant iframe\n",
    "    participant viewscreen\n",
    "    dotcom->>iframe: loads html w/ iframe url\n",
    "    iframe->>viewscreen: request template\n",
    "    viewscreen->>iframe: html & javascript\n",
    "    iframe->>dotcom: iframe ready\n",
    "    dotcom->>iframe: set mermaid data on iframe\n",
    "    iframe->>iframe: render mermaid\n",
    "```"
   ]
  },
  {
   "cell_type": "code",
   "execution_count": null,
   "id": "0beeb78b-a8cc-42de-b8cb-708afc10b1c8",
   "metadata": {},
   "outputs": [],
   "source": []
  }
 ],
 "metadata": {
  "citation-manager": {
   "items": {}
  },
  "kernelspec": {
   "display_name": "Python 3.11 (COMM4190)",
   "language": "python",
   "name": "comm4190"
  },
  "language_info": {
   "codemirror_mode": {
    "name": "ipython",
    "version": 3
   },
   "file_extension": ".py",
   "mimetype": "text/x-python",
   "name": "python",
   "nbconvert_exporter": "python",
   "pygments_lexer": "ipython3",
   "version": "3.11.7"
  }
 },
 "nbformat": 4,
 "nbformat_minor": 5
}
