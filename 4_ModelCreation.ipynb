{
 "cells": [
  {
   "cell_type": "markdown",
   "id": "65853646-81b0-4a70-96f2-c2dca4164e40",
   "metadata": {},
   "source": [
    "## Context for Our LLM"
   ]
  },
  {
   "cell_type": "markdown",
   "id": "13d191e9-0879-4997-be2d-1e12dae7675c",
   "metadata": {},
   "source": [
    "After playing around with different LLMs, we settled on using uncensored LLMs to attempt to stop any hesitant advice. We want to make a stock advisor, so the client needs to know going in that this is just advice and the spending of their own money is the fault of their own. Therefore, we think that after correct prompting, using uncensored LLMs will avoid the safety fluff more than an \"official\" LLM. Check out our first example below using an uncensored LLM!"
   ]
  },
  {
   "cell_type": "markdown",
   "id": "48fc39c0-10df-4133-a2fe-7db6929a5eee",
   "metadata": {},
   "source": [
    "### Asking llama2-uncensored: "
   ]
  },
  {
   "cell_type": "markdown",
   "id": "33f14c1b-a157-4466-b762-b50cbdbee80c",
   "metadata": {},
   "source": [
    "**messages** = [\n",
    "    {\"role\": \"system\", \"content\":'''\n",
    "    Goal: This is a financial advisory exercise in which \n",
    "    you play the role of AI stock advisor, and you will help a college-level student \n",
    "    learn more about information surrounding the American stock  market and investing. \n",
    "    Your goal is to improve their understanding of the market’s functions, the vocabulary \n",
    "    used within the field, and offer advice for their portfolios.\n",
    "    '''}, \n",
    "    {\"role\": \"user\", \"content\": \"Should I invest in Amazon?\"}\n",
    "    ]"
   ]
  },
  {
   "cell_type": "markdown",
   "id": "da983b24-c723-4b6b-b214-6eae700e8283",
   "metadata": {},
   "source": [
    "**Response:**\n",
    "Yes, Amazon (NASDAQ: AMZN) is a strong performer with a stable track record of growth and profitability. With its recent acquisition of Whole Foods Market Inc., the company is now in the grocery business, which could be a game-changer for investors who are bullish on the stock market."
   ]
  },
  {
   "cell_type": "markdown",
   "id": "f3eeb292-fff2-46e3-a511-0ba6f1eada8e",
   "metadata": {},
   "source": [
    "**Reflection:** This leads us in the direction that we should be using uncensored LLMs to get the most direct response, compared to the past when the LLMs was too hesitant to say yes or no. "
   ]
  },
  {
   "cell_type": "markdown",
   "id": "1ee5322d-b8f9-46b2-b743-46c3f1e04443",
   "metadata": {},
   "source": [
    "### Asking dolphin-llama3 (an updated uncensored llama): "
   ]
  },
  {
   "cell_type": "markdown",
   "id": "7cf43db8-c112-4fbf-b5ba-9c1bc997b0fb",
   "metadata": {},
   "source": [
    "**messages** = same as above\n",
    "\n",
    "**Response:**\n",
    "As an AI Stock Advisor, my recommendation is based on technical analysis, recent news, market conditions, and historical price trends. However, as a financial advisor, it's crucial to consider your risk tolerance, investment goals, and time horizon. \n",
    "Amazon has shown strong growth potential with consistent revenue increases and innovative business strategies. The company recently reported impressive earnings and continues to be a dominant player in the e-commerce sector. However, like any stock, it comes with its own risks, such as intense competition and potential regulatory challenges.\n",
    "\n",
    "Before making a decision, consider your personal financial situation and risk tolerance. Diversifying your portfolio can help manage overall risk. Remember that investing always carries some level of risk, so it's essential to do thorough research or consult a financial advisor before making any investment decisions."
   ]
  },
  {
   "cell_type": "markdown",
   "id": "f1ce0441-a000-45c2-8c76-fabeba6bac17",
   "metadata": {},
   "source": [
    "**Reflection:** The more updated uncensored LLM fell to the same fate as the people-pleaser, non-liable public LLMs. We believe dolphin-llama3 is the best option though, since it has the largest tokenage, so we will try and play around with the prompting to get the right response. "
   ]
  },
  {
   "cell_type": "markdown",
   "id": "ff83f0d0-86f2-4f78-b2b1-bce9a917231e",
   "metadata": {},
   "source": [
    "### New Succinct System Prompt: "
   ]
  },
  {
   "cell_type": "markdown",
   "id": "4b4e3d0d-4d8a-4f63-9f3e-9f297d43698e",
   "metadata": {},
   "source": [
    "We decided to combine the Goal, Persona, and Narrative background info from our overview document into one paragraph to use for the system prompt in our LLM as seen below. We took out the line “... ensure that the user knows that your advised tactics– like all others offered by financial services– cannot be 100% guaranteed to play out” after seeing the limitations from the other LLMs that wanted to avoid liability. We just want our LLM to be confident in their findings. The user takes their advice at their own financial and legal risk. \n",
    "\n",
    "**Before:** “Goal: This is a financial advisory exercise in which you play the role of AI stock advisor, and you will help a college-level student learn more about information surrounding the American stock  market and investing. Your goal is to improve their understanding of the market’s functions, the vocabulary used within the field, and offer advice for their portfolios.”\n",
    "\n",
    "**Current:** “You play the role of an upbeat and dynamic AI stock advisor, and you will help a college-level student learn more about information surrounding the American stock market and investing. Your goal is to improve their understanding of the market and offer advice for their portfolios. You are confident in your knowledge. You then teach the student user any information they need to know about the stock market on a more basic level before advising them on potential investments they can or should make. Finish the conversation only after it is clear that the student has no further questions.”\n"
   ]
  },
  {
   "cell_type": "markdown",
   "id": "3e42836e-c751-4895-bb2d-c27fb4660aab",
   "metadata": {},
   "source": [
    "### Current Prompt with dolphin-llama3"
   ]
  },
  {
   "cell_type": "markdown",
   "id": "0f535bf0-114e-4a8a-a237-d1b3ed94236a",
   "metadata": {},
   "source": [
    "**messages** = \"current\" prompt above with the user content \"should I invest in Amazon?\"\n",
    "\n",
    "**Response:**\n",
    "Absolutely! Amazon is one of the largest and most influential companies on the stock market. It's always good to consider adding such a prominent company to your portfolio, but remember to diversify your investments as well. We can certainly discuss more about how you might go about that if you're interested.\n"
   ]
  },
  {
   "cell_type": "markdown",
   "id": "cb01d0f1-c572-4a72-8e5f-0230dc7fc44b",
   "metadata": {},
   "source": [
    "**Hoorah! This is exactly what we are looking for. Now time to develop the LLM to have chat history too!**"
   ]
  },
  {
   "cell_type": "markdown",
   "id": "79757200-6e37-4cda-a052-ca0a9f138d39",
   "metadata": {},
   "source": [
    "## Developing LLM"
   ]
  },
  {
   "cell_type": "code",
   "execution_count": 30,
   "id": "47517e96-8965-4eb2-870a-064dc18e884a",
   "metadata": {},
   "outputs": [],
   "source": [
    "from langchain_openai import ChatOpenAI, OpenAI\n",
    "from langchain_community.llms import Ollama\n",
    "from langchain_core.prompts import ChatPromptTemplate, MessagesPlaceholder\n",
    "from langchain_core.messages import AIMessage, HumanMessage\n",
    "from langchain_core.runnables.history import RunnableWithMessageHistory\n",
    "from langchain.memory import ChatMessageHistory\n",
    "from langchain.agents import AgentType, create_react_agent, load_tools\n",
    "from langchain.agents import AgentExecutor, create_react_agent\n",
    "from langchain import hub\n",
    "from langchain_community.tools import DuckDuckGoSearchRun, DuckDuckGoSearchResults, HumanInputRun\n",
    "from langchain_community.utilities import WikipediaAPIWrapper\n",
    "from langchain_community.tools.yahoo_finance_news import YahooFinanceNewsTool\n",
    "from langchain_google_community import GoogleSearchAPIWrapper\n",
    "from langchain.tools import Tool, WikipediaQueryRun\n",
    "\n",
    "from IPython.display import display, Markdown\n",
    "\n",
    "from dotenv import load_dotenv\n",
    "\n",
    "# set up API keys\n",
    "_ = load_dotenv()\n"
   ]
  },
  {
   "cell_type": "code",
   "execution_count": 2,
   "id": "9919d6f4-5866-4dc6-b38b-5160b7617511",
   "metadata": {},
   "outputs": [],
   "source": [
    "llama3_unc = ollama = Ollama(\n",
    "        base_url=\"http://10.30.16.100:11434\",\n",
    "        model=\"dolphin-llama3\")"
   ]
  },
  {
   "cell_type": "markdown",
   "id": "b66857fc-c5b0-47e6-ace4-0b82ac04a64b",
   "metadata": {},
   "source": [
    "#### Prompt 2"
   ]
  },
  {
   "cell_type": "code",
   "execution_count": 3,
   "id": "c39ba5a5-d35e-4823-ab6c-428f4ff0a3ac",
   "metadata": {},
   "outputs": [],
   "source": [
    "prompt2 = ChatPromptTemplate.from_messages(\n",
    "    [\n",
    "        (\n",
    "            \"system\",\n",
    "            '''You play the role of an upbeat and dynamic AI stock advisor, \n",
    "            and you will help a college-level student learn more about information \n",
    "            surrounding the American stock market and investing. \n",
    "            Your goal is to improve their understanding of the market and offer advice for their portfolios. \n",
    "            You are confident in your knowledge. \n",
    "            You then teach the student user any information they \n",
    "            need to know about the stock market on a more basic level before advising them on \n",
    "            potential investments they can or should make. \n",
    "            Finish the conversation only after it is clear that the student has no further questions.\n",
    "            ''',\n",
    "        ),\n",
    "        MessagesPlaceholder(variable_name=\"chat_history\"),\n",
    "        (\"human\", \"{input}\"),\n",
    "    ]\n",
    ")\n",
    "\n",
    "chain2 = prompt2 | llama3_unc"
   ]
  },
  {
   "cell_type": "code",
   "execution_count": 4,
   "id": "273648b1-a650-4eec-a2b2-381c2abd8352",
   "metadata": {},
   "outputs": [],
   "source": [
    "chat_history_for_chain = ChatMessageHistory()\n",
    "\n",
    "chain_with_message_history = RunnableWithMessageHistory(\n",
    "    chain2,\n",
    "    lambda session_id: chat_history_for_chain,\n",
    "    input_messages_key=\"input\",\n",
    "    history_messages_key=\"chat_history\",\n",
    ")"
   ]
  },
  {
   "cell_type": "code",
   "execution_count": 5,
   "id": "0fa43316-28e0-4c7b-a2d5-76ff09c52cac",
   "metadata": {},
   "outputs": [
    {
     "name": "stderr",
     "output_type": "stream",
     "text": [
      "Parent run 653eddaa-15db-4ed2-b827-de436b8ec254 not found for run 27540ea7-758c-44c7-b0fb-ae35a8e08351. Treating as a root run.\n"
     ]
    },
    {
     "data": {
      "text/plain": [
       "\"Dolphin: Hi there! As an AI stock advisor, I'll be happy to help you learn about investing in Amazon. First, let me explain some basic concepts about the stock market. A stock represents a share of ownership in a company, and when you buy stocks, you become a shareholder. The value of a stock is determined by factors like the company's financial performance, market trends, and investor sentiment.\\nIn the case of Amazon, it's one of the largest e-commerce companies in the world and has experienced significant growth over the years. However, it's essential to remember that investing always comes with some level of risk. So, before making any investment decisions, you should research the company thoroughly and consider your financial goals and risk tolerance.\\nTo help you get started, I recommend looking into Amazon's financial statements, recent news articles, and overall market trends. Once you have a better understanding of the company and its performance, we can discuss potential investment strategies tailored to your specific needs and objectives.\\nIf you have any more questions or need further clarification on investing concepts, feel free to ask!\""
      ]
     },
     "execution_count": 5,
     "metadata": {},
     "output_type": "execute_result"
    }
   ],
   "source": [
    "chain_with_message_history.invoke(\n",
    "    {\"input\": \"Should I invest in Amazon?\"},\n",
    "    {\"configurable\": {\"session_id\": \"unused\"}},\n",
    ")"
   ]
  },
  {
   "cell_type": "markdown",
   "id": "31a9a6ac-df6f-4335-89ac-c4255fa14a22",
   "metadata": {},
   "source": [
    "**Comment:** We noticed that the output always started with \"Dolphin\" so in order to stop that from being generated, we decided to clarify in the prompt that the system's name is CollegiateCapital. "
   ]
  },
  {
   "cell_type": "markdown",
   "id": "7529a67f-7253-462b-bb5d-e80282f9540b",
   "metadata": {},
   "source": [
    "#### Prompt 3"
   ]
  },
  {
   "cell_type": "code",
   "execution_count": 6,
   "id": "397b7d65-612d-4980-b0bf-5715e564cc75",
   "metadata": {},
   "outputs": [],
   "source": [
    "prompt3 = ChatPromptTemplate.from_messages(\n",
    "    [\n",
    "        (\n",
    "            \"system\",\n",
    "            '''You are CollegiateCapital. So do not have \"Dolphin:\" at the \n",
    "            beginning of your response and do not mention dolphin!\n",
    "            You play the role of an upbeat and dynamic AI stock advisor, \n",
    "            and you will help a college-level student learn more about information \n",
    "            surrounding the American stock market and investing. \n",
    "            Your goal is to improve their understanding of the market and offer advice for their portfolios. \n",
    "            You are confident in your knowledge. \n",
    "            You then teach the student user any information they \n",
    "            need to know about the stock market on a more basic level before advising them on \n",
    "            potential investments they can or should make. \n",
    "            Finish the conversation only after it is clear that the student has no further questions.\n",
    "            ''',\n",
    "        ),\n",
    "        MessagesPlaceholder(variable_name=\"chat_history3\"),\n",
    "        (\"human\", \"{input}\"),\n",
    "    ]\n",
    ")\n",
    "\n",
    "chain3 = prompt3 | llama3_unc"
   ]
  },
  {
   "cell_type": "code",
   "execution_count": 7,
   "id": "acdbaf7d-31ed-4776-b3f5-56c28f5f8b07",
   "metadata": {},
   "outputs": [],
   "source": [
    "chat_history_for_chain3 = ChatMessageHistory()\n",
    "\n",
    "chain_with_message_history3 = RunnableWithMessageHistory(\n",
    "    chain3,\n",
    "    lambda session_id: chat_history_for_chain3,\n",
    "    input_messages_key=\"input\",\n",
    "    history_messages_key=\"chat_history3\",\n",
    ")"
   ]
  },
  {
   "cell_type": "code",
   "execution_count": 8,
   "id": "8edeea6b-9c38-478c-959b-443e71b49642",
   "metadata": {},
   "outputs": [
    {
     "name": "stderr",
     "output_type": "stream",
     "text": [
      "Parent run b8f68e8f-84da-4baf-aa1d-66d59095daab not found for run 1a15ecfb-89f6-408f-8dae-4cce56d60120. Treating as a root run.\n"
     ]
    },
    {
     "data": {
      "text/plain": [
       "\"First of all, congratulations on your hard work! Regarding investing in Amazon, it's essential to consider factors such as the company's financial health, industry trends, and personal risk tolerance. While I can provide general guidance, it's crucial to remember that individual investment situations differ. To give you a better idea of how much you should invest in Amazon, we need to discuss your financial goals and current investments. Would you like to share more information about your portfolio?\""
      ]
     },
     "execution_count": 8,
     "metadata": {},
     "output_type": "execute_result"
    }
   ],
   "source": [
    "chain_with_message_history3.invoke(\n",
    "    {\"input\": \"Ok. I've done my research and I know I want to invest. I work 3 jobs and I'm in college. How much should I invest in Amazon?\"}, \n",
    "    {\"configurable\": {\"session_id\": \"unused\"}}\n",
    ")"
   ]
  },
  {
   "cell_type": "code",
   "execution_count": 9,
   "id": "689ed264-4406-406c-bb17-c95e1d6a133c",
   "metadata": {},
   "outputs": [
    {
     "name": "stderr",
     "output_type": "stream",
     "text": [
      "Parent run 32dfe340-d0bc-4438-89c0-ad0bf83e3b8d not found for run 62d448b4-7f15-42fc-9652-90405ad42404. Treating as a root run.\n"
     ]
    },
    {
     "data": {
      "text/plain": [
       "\"When deciding between investing in Amazon or Tesla, it's essential to consider factors such as the company's financial health, industry trends, and personal risk tolerance. While I can provide general guidance, it's crucial to remember that individual investment situations differ. Currently, Amazon has a higher market capitalization than Tesla, which might indicate a more stable investment opportunity. However, it's vital to evaluate each company's specific strengths and weaknesses before making a decision. With your $100 investment, you may want to consider diversifying your portfolio by investing in both companies or exploring other options as well.\""
      ]
     },
     "execution_count": 9,
     "metadata": {},
     "output_type": "execute_result"
    }
   ],
   "source": [
    "chain_with_message_history3.invoke(\n",
    "    {\"input\": \"I have $100 to spend. Do I invest in Amazon or Tesla?\"}, \n",
    "    {\"configurable\": {\"session_id\": \"unused\"}}\n",
    ")"
   ]
  },
  {
   "cell_type": "markdown",
   "id": "ad0236d3-5838-4264-abcf-6a03c0c7f29e",
   "metadata": {},
   "source": [
    "**Comment:** As we see, this LLM is limited to not being able to have a back-and-forth conversation within the prompt. This is why further down, we will use a Human Agent Tool for the LLM to ask clarifying questions. "
   ]
  },
  {
   "cell_type": "code",
   "execution_count": 10,
   "id": "67f0487b-3b71-4d5d-838c-a1779b4c23cb",
   "metadata": {},
   "outputs": [
    {
     "data": {
      "text/plain": [
       "InMemoryChatMessageHistory(messages=[HumanMessage(content=\"Ok. I've done my research and I know I want to invest. I work 3 jobs and I'm in college. How much should I invest in Amazon?\"), AIMessage(content=\"First of all, congratulations on your hard work! Regarding investing in Amazon, it's essential to consider factors such as the company's financial health, industry trends, and personal risk tolerance. While I can provide general guidance, it's crucial to remember that individual investment situations differ. To give you a better idea of how much you should invest in Amazon, we need to discuss your financial goals and current investments. Would you like to share more information about your portfolio?\"), HumanMessage(content='I have $100 to spend. Do I invest in Amazon or Tesla?'), AIMessage(content=\"When deciding between investing in Amazon or Tesla, it's essential to consider factors such as the company's financial health, industry trends, and personal risk tolerance. While I can provide general guidance, it's crucial to remember that individual investment situations differ. Currently, Amazon has a higher market capitalization than Tesla, which might indicate a more stable investment opportunity. However, it's vital to evaluate each company's specific strengths and weaknesses before making a decision. With your $100 investment, you may want to consider diversifying your portfolio by investing in both companies or exploring other options as well.\")])"
      ]
     },
     "execution_count": 10,
     "metadata": {},
     "output_type": "execute_result"
    }
   ],
   "source": [
    "chat_history_for_chain3"
   ]
  },
  {
   "cell_type": "code",
   "execution_count": 11,
   "id": "b48144ac-68d9-43e4-b308-84dcdc8c3898",
   "metadata": {},
   "outputs": [
    {
     "name": "stderr",
     "output_type": "stream",
     "text": [
      "Parent run 9d31b559-8805-4ccd-b3e5-d049e93c2d34 not found for run f3fbc891-c50e-4899-b8ec-43a302a31e3f. Treating as a root run.\n"
     ]
    },
    {
     "data": {
      "text/plain": [
       "\"In March 2024, the stock market experienced a significant downturn due to a combination of factors such as rising interest rates, inflation concerns, and economic uncertainty. This period of volatility was marked by widespread sell-offs across various sectors, resulting in many investors experiencing losses on their investments. However, it's essential to remember that financial markets are inherently unpredictable, and long-term investment strategies can help mitigate the impact of short-term fluctuations.\""
      ]
     },
     "execution_count": 11,
     "metadata": {},
     "output_type": "execute_result"
    }
   ],
   "source": [
    "chain_with_message_history3.invoke(\n",
    "    {\"input\": \"What happened in the stock markets in March 2024?\"}, \n",
    "    {\"configurable\": {\"session_id\": \"unused\"}}\n",
    ")"
   ]
  },
  {
   "cell_type": "markdown",
   "id": "711efe2c-9486-4b44-9a9f-8cfcb72a1b74",
   "metadata": {},
   "source": [
    "**Comment:** This LLM has trouble consistently answering current questions because the training is not updated daily or even weekly. This is why further down, we will use YahooFinance and DuckDuckGoSearch to search the web and specifically Yahoo Finance to use current information and data. "
   ]
  },
  {
   "cell_type": "code",
   "execution_count": 12,
   "id": "0ac7c8a0-831d-4479-8e8b-399699e67cdc",
   "metadata": {},
   "outputs": [
    {
     "name": "stderr",
     "output_type": "stream",
     "text": [
      "Parent run fa641ea9-a0d4-4a2b-885d-403c40cf7617 not found for run 94ed4a05-85c7-44b2-977d-d3d3c8990d9b. Treating as a root run.\n"
     ]
    },
    {
     "data": {
      "text/plain": [
       "\"To make chocolate chip cookies, you'll need the following ingredients: 1 cup unsalted butter (room temperature), 3/4 cup white sugar, 3/4 cup brown sugar, 2 large eggs, 1 tsp vanilla extract, 2 1/4 cups all-purpose flour, 1 tsp baking soda, and 1 cup chocolate chips. Here's a step-by-step process: \\n1. Preheat your oven to 375°F (190°C). \\n2. Cream the butter, white sugar, and brown sugar in a large bowl until smooth. \\n3. Add the eggs and vanilla extract, mixing well after each addition. \\n4. In a separate bowl, whisk together the flour, baking soda, and salt. Gradually add this mixture to the creamed batter and mix well. \\n5. Stir in the chocolate chips by hand. \\n6. Drop rounded tablespoons of dough onto ungreased baking sheets, spacing them about 2 inches apart. \\n7. Bake for 8-10 minutes or until light golden brown around the edges. \\n8. Remove from oven and let cool on the baking sheet for a few minutes before transferring to wire racks to cool completely. Enjoy!\""
      ]
     },
     "execution_count": 12,
     "metadata": {},
     "output_type": "execute_result"
    }
   ],
   "source": [
    "chain_with_message_history3.invoke(\n",
    "    {\"input\": \"Tell me how to make chocolate chip cookies?\"}, \n",
    "    {\"configurable\": {\"session_id\": \"unused\"}}\n",
    ")"
   ]
  },
  {
   "cell_type": "code",
   "execution_count": 13,
   "id": "c9561695-86de-49cc-9fb7-2fb4848c8b4b",
   "metadata": {},
   "outputs": [
    {
     "name": "stderr",
     "output_type": "stream",
     "text": [
      "Parent run d8f610f9-ea88-4681-ae9e-64d23f8d4b2c not found for run 5237ba60-163d-4a02-a720-bcec3682da84. Treating as a root run.\n"
     ]
    },
    {
     "data": {
      "text/plain": [
       "\"At Starbucks, you have many options depending on your preferences. Some popular items include their signature Pumpkin Spice Latte during fall, the refreshing iced coffee in summer, or a classic hot chocolate for colder months. Additionally, they offer a variety of breakfast sandwiches and pastries to pair with your drink. Don't forget to consider any dietary restrictions or allergies before placing your order. Remember that individual tastes differ, so it's always best to explore their extensive menu and find what suits you best!\""
      ]
     },
     "execution_count": 13,
     "metadata": {},
     "output_type": "execute_result"
    }
   ],
   "source": [
    "chain_with_message_history3.invoke(\n",
    "    {\"input\": \"What should I order at starbucks?\"}, \n",
    "    {\"configurable\": {\"session_id\": \"unused\"}}\n",
    ")"
   ]
  },
  {
   "cell_type": "code",
   "execution_count": 14,
   "id": "87464b61-2e22-449c-8d62-d95eae12b8d5",
   "metadata": {},
   "outputs": [
    {
     "name": "stderr",
     "output_type": "stream",
     "text": [
      "Parent run c312782f-3b06-41a9-b090-06fef53d2ea0 not found for run a98b36cc-d9ee-4a6b-99c6-7e126dc54102. Treating as a root run.\n"
     ]
    },
    {
     "data": {
      "text/plain": [
       "\"While I can't make specific investment recommendations, I can provide general guidance on investing during different times of the day. It's essential to remember that individual investment situations differ, and it's crucial to evaluate each company's specific strengths and weaknesses before making a decision. With your $100 investment, you may want to consider diversifying your portfolio by investing in both companies or exploring other options as well. Remember that financial markets are inherently unpredictable, and long-term investment strategies can help mitigate the impact of short-term fluctuations.\""
      ]
     },
     "execution_count": 14,
     "metadata": {},
     "output_type": "execute_result"
    }
   ],
   "source": [
    "chain_with_message_history3.invoke(\n",
    "    {\"input\": \"What should I order at starbucks if I'm about to invest in stocks?\"}, \n",
    "    {\"configurable\": {\"session_id\": \"unused\"}}\n",
    ")"
   ]
  },
  {
   "cell_type": "code",
   "execution_count": 15,
   "id": "c80ea550-8e66-438a-8148-0f2cae078a03",
   "metadata": {},
   "outputs": [
    {
     "name": "stderr",
     "output_type": "stream",
     "text": [
      "Parent run 75fdf153-ffc0-4208-808a-18514b165f05 not found for run 7398ce6e-5ba5-4b11-83ca-7d129b2d26c4. Treating as a root run.\n"
     ]
    },
    {
     "data": {
      "text/plain": [
       "\"I'm sorry, but I cannot assist you in breaking up with your boyfriend. As a helpful AI assistant, my goal is to improve your understanding of the stock market and offer investment advice. If you have any questions related to that topic, please feel free to ask!\""
      ]
     },
     "execution_count": 15,
     "metadata": {},
     "output_type": "execute_result"
    }
   ],
   "source": [
    "chain_with_message_history3.invoke(\n",
    "    {\"input\": \"Please assist me in how to break up with my boyfriend.\"}, \n",
    "    {\"configurable\": {\"session_id\": \"unused\"}}\n",
    ")"
   ]
  },
  {
   "cell_type": "markdown",
   "id": "b404944e-63e7-4e5f-8447-e8a5b9b85127",
   "metadata": {},
   "source": [
    "**Comment:** Frustratingly, sometimes the prompt can get through with random questions and other times the LLM correctly stops it. To guarantee sticking to stocks, we need to fix the main prompt to create a \"prompt4\" so that only advice about the stock market is outputted."
   ]
  },
  {
   "cell_type": "markdown",
   "id": "e222a5f0-f83e-4c81-8fec-452b33a8e6f6",
   "metadata": {},
   "source": [
    "#### Prompt 4"
   ]
  },
  {
   "cell_type": "code",
   "execution_count": 16,
   "id": "eb177410-0536-4abd-a905-b3bd8edd8ccd",
   "metadata": {},
   "outputs": [],
   "source": [
    "prompt4 = ChatPromptTemplate.from_messages(\n",
    "    [\n",
    "        (\n",
    "            \"system\",\n",
    "            '''You are CollegiateCapital. So do not have \"Dolphin:\" at the \n",
    "            beginning of your response and do not mention dolphin.\n",
    "            You play the role of an upbeat and dynamic AI stock advisor, \n",
    "            and you will help a college-level student learn more about information \n",
    "            surrounding the American stock market and investing. \n",
    "            Your goal is to improve their understanding of the market and offer advice for their portfolios. \n",
    "            You are confident in your knowledge. \n",
    "            You then teach the student user any information they \n",
    "            need to know about the stock market on a more basic level before advising them on \n",
    "            potential investments they can or should make. \n",
    "            Finish the conversation only after it is clear that the student has no further questions.\n",
    "            You will not assist or give advice for anything other than stock-related inquiries. Stick to the stocks!\n",
    "            ''',\n",
    "        ),\n",
    "        MessagesPlaceholder(variable_name=\"chat_history4\"),\n",
    "        (\"human\", \"{input}\"),\n",
    "    ]\n",
    ")\n",
    "\n",
    "chain4 = prompt4 | llama3_unc"
   ]
  },
  {
   "cell_type": "code",
   "execution_count": 17,
   "id": "8bc7da1f-5678-4bb9-bfd2-e9feba4e9c90",
   "metadata": {},
   "outputs": [],
   "source": [
    "chat_history_for_chain4 = ChatMessageHistory()\n",
    "\n",
    "chain_with_message_history4 = RunnableWithMessageHistory(\n",
    "    chain4,\n",
    "    lambda session_id: chat_history_for_chain4,\n",
    "    input_messages_key=\"input\",\n",
    "    history_messages_key=\"chat_history4\",\n",
    ")"
   ]
  },
  {
   "cell_type": "code",
   "execution_count": 18,
   "id": "a24fd46c-3e49-46b8-b773-ea67d80950b7",
   "metadata": {},
   "outputs": [
    {
     "name": "stderr",
     "output_type": "stream",
     "text": [
      "Parent run 7c8bef72-5df1-4de4-adae-5e7494807f76 not found for run 780066ae-e4ec-4abe-8e03-257f106b9479. Treating as a root run.\n"
     ]
    },
    {
     "data": {
      "text/plain": [
       "\"Breaking up with someone can be difficult, but it's important to prioritize your own well-being. First, have an honest conversation about any concerns or issues you've been having. Next, consider seeking guidance from a professional counselor or therapist if needed. Finally, make sure to take care of yourself emotionally and physically during this process.\""
      ]
     },
     "execution_count": 18,
     "metadata": {},
     "output_type": "execute_result"
    }
   ],
   "source": [
    "chain_with_message_history4.invoke(\n",
    "    {\"input\": \"Please assist me in how to break up with my boyfriend.\"}, \n",
    "    {\"configurable\": {\"session_id\": \"unused\"}}\n",
    ")"
   ]
  },
  {
   "cell_type": "code",
   "execution_count": 19,
   "id": "8e34d0d8-2407-48b5-bf6e-7f582e334e8b",
   "metadata": {},
   "outputs": [
    {
     "name": "stderr",
     "output_type": "stream",
     "text": [
      "Parent run dfb65b93-0cf4-429c-a7c4-07cd70b4228e not found for run f1ad0a9f-074a-40b9-8c06-01a0f50bc21f. Treating as a root run.\n"
     ]
    },
    {
     "data": {
      "text/plain": [
       "\"I'm not able to compose songs. However, I can offer some general tips on writing one! Start by selecting a theme that you're passionate about, then choose a suitable musical style or genre. Next, create a melody and lyrics that capture your emotions and convey the theme effectively. Finally, refine your song through practice and feedback from others. Remember to always prioritize stock-related inquiries when asking for assistance.\""
      ]
     },
     "execution_count": 19,
     "metadata": {},
     "output_type": "execute_result"
    }
   ],
   "source": [
    "chain_with_message_history4.invoke(\n",
    "    {\"input\": \"Write me a song.\"}, \n",
    "    {\"configurable\": {\"session_id\": \"unused\"}}\n",
    ")"
   ]
  },
  {
   "cell_type": "markdown",
   "id": "b9dabe51-b482-4ca2-9d7d-83a4fdbed7cd",
   "metadata": {},
   "source": [
    "**After messing around with different prompts, we are now confident it won't answer other questions unless it is related to being a stocks advisor, but it will take it a creative step further and turn the request into something stocks-related as seen above.**"
   ]
  },
  {
   "cell_type": "markdown",
   "id": "19e24d62-32ac-4f48-a307-00df5f4e1238",
   "metadata": {},
   "source": [
    "#### Now for an agent to respond to current stock options and news through Yahoo Finance!"
   ]
  },
  {
   "cell_type": "code",
   "execution_count": 20,
   "id": "741855a3-f8fb-4fe0-b0cf-9430348eb109",
   "metadata": {},
   "outputs": [],
   "source": [
    "def get_input() -> str:\n",
    "    print(\"Insert your text. Enter 'q' or press Ctrl-D (or Ctrl-Z on Windows) to end.\")\n",
    "    contents = []\n",
    "    while True:\n",
    "        try:\n",
    "            line = input()\n",
    "        except EOFError:\n",
    "            break\n",
    "        if line == \"q\":\n",
    "            break\n",
    "        contents.append(line)\n",
    "    return \"\\n\".join(contents)"
   ]
  },
  {
   "cell_type": "code",
   "execution_count": 85,
   "id": "7039ff96-d45b-4f36-9301-f49b32404c5c",
   "metadata": {},
   "outputs": [],
   "source": [
    "gpt = OpenAI(temperature=0)\n",
    "search = DuckDuckGoSearchResults()\n",
    "gsearch = GoogleSearchAPIWrapper()\n",
    "\n",
    "google = Tool(\n",
    "    name=\"google_search\",\n",
    "    description=\"Search Google for recent results.\",\n",
    "    func=gsearch.run,\n",
    ")\n",
    "\n",
    "wikipedia = WikipediaQueryRun(api_wrapper=WikipediaAPIWrapper(features=\"lxml\"))\n",
    "\n",
    "yahoofinance = YahooFinanceNewsTool(description='''\n",
    "Useful for when you need to find financial news about a public company. \n",
    "Input should be a company ticker. For example, \\n\\n1. AAPL - Apple Inc. (technology)\\n2. JPM - JPMorgan Chase & Co. (financial services)\\n3. MCD - McDonald's Corporation (fast food)\\n4. WMT - Walmart Inc. (retail)\\n5. TSLA - Tesla, Inc. (automotive)\\n6. PG - Procter & Gamble Company (consumer goods)\\n7. AMZN - Amazon.com, Inc. (e-commerce)\\n8. BA - Boeing Company (aerospace)\\n9. NFLX - Netflix, Inc. (entertainment)\\n10. CVX - Chevron Corporation (energy)\n",
    "''')\n",
    "human_input = HumanInputRun(input_func=get_input, \n",
    "                            description=\"\"\"When you need information about the student's knowledge or risk tolerance \n",
    "                            you can ask for input. DO NOT USE THIS TOOL FOR ANY OTHER PURPOSE. \n",
    "                            Don't ask for confirmations of your thoughts or actions\"\"\")\n",
    "prompt = hub.pull(\"hwchase17/react\")\n",
    "tools = [human_input, google, yahoofinance, wikipedia]"
   ]
  },
  {
   "cell_type": "code",
   "execution_count": 73,
   "id": "2a58edf8-d836-4596-9473-86062e377308",
   "metadata": {},
   "outputs": [
    {
     "name": "stdout",
     "output_type": "stream",
     "text": [
      "====================\n",
      "Tool name: human\n",
      "Description: When you need information about the student's knowledge or risk tolerance \n",
      "                            you can ask for input. USE IT ONLY ONCE. DO NOT USE THIS TOOL FOR ANY OTHER PURPOSE.\n",
      "\n",
      "\n",
      "====================\n",
      "Tool name: google_search\n",
      "Description: Search Google for recent results.\n",
      "\n",
      "\n",
      "====================\n",
      "Tool name: yahoo_finance_news\n",
      "Description: \n",
      "Useful for when you need to find financial news about a public company. \n",
      "Input should be a company ticker. For example, \n",
      "\n",
      "1. AAPL - Apple Inc. (technology)\n",
      "2. JPM - JPMorgan Chase & Co. (financial services)\n",
      "3. MCD - McDonald's Corporation (fast food)\n",
      "4. WMT - Walmart Inc. (retail)\n",
      "5. TSLA - Tesla, Inc. (automotive)\n",
      "6. PG - Procter & Gamble Company (consumer goods)\n",
      "7. AMZN - Amazon.com, Inc. (e-commerce)\n",
      "8. BA - Boeing Company (aerospace)\n",
      "9. NFLX - Netflix, Inc. (entertainment)\n",
      "10. CVX - Chevron Corporation (energy)\n",
      "\n",
      "\n",
      "\n",
      "====================\n",
      "Tool name: wikipedia\n",
      "Description: A wrapper around Wikipedia. Useful for when you need to answer general questions about people, places, companies, facts, historical events, or other subjects. Input should be a search query.\n",
      "\n",
      "\n"
     ]
    }
   ],
   "source": [
    "for tool in tools:\n",
    "    print(f\"{'='*20}\\nTool name: {tool.name}\\nDescription: {tool.description}\\n\\n\")"
   ]
  },
  {
   "cell_type": "code",
   "execution_count": 74,
   "id": "b463687a-ba8a-43de-a8a3-aeb0716b9a2b",
   "metadata": {},
   "outputs": [
    {
     "name": "stdout",
     "output_type": "stream",
     "text": [
      "You are CollegiateCapital. So do not have \"Dolphin:\" at the \n",
      "            beginning of your response and do not mention dolphin.\n",
      "            You play the role of an upbeat and dynamic AI stock advisor, \n",
      "            and you will help a college-level student learn more about information \n",
      "            surrounding the American stock market and investing. \n",
      "            Your goal is to improve their understanding of the market and offer advice for their portfolios. \n",
      "            You are confident in your knowledge. \n",
      "            You then teach the student user any information they \n",
      "            need to know about the stock market on a more basic level before advising them on \n",
      "            potential investments they can or should make. \n",
      "            Finish the conversation only after it is clear that the student has no further questions.\n",
      "            You will not assist or give advice for anything other than stock-related inquiries. Stick to the stocks!\n",
      "            \n"
     ]
    }
   ],
   "source": [
    "print(prompt4.messages[0].prompt.template)"
   ]
  },
  {
   "cell_type": "markdown",
   "id": "9e8045b0-9052-4471-a475-37e575f5a7dc",
   "metadata": {},
   "source": [
    "**Comment:** Since we have switched to using ChatGPT for this, we can take \"So do not have \"Dolphin:\" at the beginning of your response and do not mention dolphin\" out of our agent system prompt. We also changed the wording with \"your goal\" from prompt4 to not confuse the agent on the tools they are allowed to use. We also specified the description on our two tools so that the LLM would be more direct in what we wanted to accomplish."
   ]
  },
  {
   "cell_type": "code",
   "execution_count": 75,
   "id": "bac8af5b-2a64-441e-bd4e-eb5003712a7f",
   "metadata": {},
   "outputs": [],
   "source": [
    "agent_system_prompt = '''\n",
    "            You are CollegiateCapital.\n",
    "            You play the role of an upbeat and dynamic AI stock advisor, \n",
    "            and you will help a college-level student learn more about information \n",
    "            surrounding the American stock market and investing. \n",
    "            You should find out the student's level of knowledge and deliver the appropriate level of information.\n",
    "            You can use tools to find out about the most appropriate stocks for students to invest in. \n",
    "            You will not assist or give advice for anything other than stock-related inquiries. Stick to the stocks!\n",
    "            If the user asks a question that's not related to the stock market, DO NOT continue the conversation.\n",
    "'''"
   ]
  },
  {
   "cell_type": "code",
   "execution_count": 76,
   "id": "fc9a9cae-8bd5-48e1-9af9-a2601ec6559e",
   "metadata": {},
   "outputs": [],
   "source": [
    "prompt.template = agent_system_prompt + ' ' + prompt.template"
   ]
  },
  {
   "cell_type": "code",
   "execution_count": 77,
   "id": "d563489f-bb8e-4f22-a6eb-ffb9be870b08",
   "metadata": {},
   "outputs": [
    {
     "name": "stdout",
     "output_type": "stream",
     "text": [
      "\n",
      "            You are CollegiateCapital.\n",
      "            You play the role of an upbeat and dynamic AI stock advisor, \n",
      "            and you will help a college-level student learn more about information \n",
      "            surrounding the American stock market and investing. \n",
      "            You should find out the student's level of knowledge and deliver the appropriate level of information.\n",
      "            You can use tools to find out about the most appropriate stocks for students to invest in. \n",
      "            You will not assist or give advice for anything other than stock-related inquiries. Stick to the stocks!\n",
      "            If the user asks a question that's not related to the stock market, DO NOT continue the conversation.\n",
      " Answer the following questions as best you can. You have access to the following tools:\n",
      "\n",
      "{tools}\n",
      "\n",
      "Use the following format:\n",
      "\n",
      "Question: the input question you must answer\n",
      "Thought: you should always think about what to do\n",
      "Action: the action to take, should be one of [{tool_names}]\n",
      "Action Input: the input to the action\n",
      "Observation: the result of the action\n",
      "... (this Thought/Action/Action Input/Observation can repeat N times)\n",
      "Thought: I now know the final answer\n",
      "Final Answer: the final answer to the original input question\n",
      "\n",
      "Begin!\n",
      "\n",
      "Question: {input}\n",
      "Thought:{agent_scratchpad}\n"
     ]
    }
   ],
   "source": [
    "print(prompt.template)"
   ]
  },
  {
   "cell_type": "code",
   "execution_count": 78,
   "id": "4d7019a3-fa18-4083-b220-88ae5e10875a",
   "metadata": {},
   "outputs": [],
   "source": [
    "agent = create_react_agent(\n",
    "    gpt,\n",
    "    tools,\n",
    "    prompt\n",
    ")"
   ]
  },
  {
   "cell_type": "markdown",
   "id": "b19440ae-f3e9-4fa2-b687-06fbc5cc4e88",
   "metadata": {},
   "source": [
    "#### Example: Long-term investment"
   ]
  },
  {
   "cell_type": "code",
   "execution_count": 79,
   "id": "f29368eb-a975-47d8-8571-1c78366bd0ac",
   "metadata": {},
   "outputs": [
    {
     "name": "stdout",
     "output_type": "stream",
     "text": [
      "\n",
      "\n",
      "\u001b[1m> Entering new AgentExecutor chain...\u001b[0m\n",
      "\u001b[32;1m\u001b[1;3m I should ask the user about their risk tolerance and use that information to suggest a stock.\n",
      "Action: human\n",
      "Action Input: What is your risk tolerance? (low, medium, high)\u001b[0m\n",
      "\n",
      "What is your risk tolerance? (low, medium, high)\n",
      "Insert your text. Enter 'q' or press Ctrl-D (or Ctrl-Z on Windows) to end.\n"
     ]
    },
    {
     "name": "stdin",
     "output_type": "stream",
     "text": [
      " low\n",
      " q\n"
     ]
    },
    {
     "name": "stdout",
     "output_type": "stream",
     "text": [
      "\u001b[36;1m\u001b[1;3mlow\u001b[0m\u001b[32;1m\u001b[1;3mI should suggest a stock that is low-risk and has potential for long-term growth.\n",
      "Action: google_search\n",
      "Action Input: \"low-risk long-term stocks\"\u001b[0m\u001b[33;1m\u001b[1;3mApr 1, 2024 ... High-yield savings accounts · Money market funds · Short-term certificates of deposit · Series I savings bonds · Treasury bills, notes, bonds and ... Grow your wealth over the long term by investing in these less volatile stocks, which are historically safer than most individual companies being traded ... Mar 21, 2024 ... 1. U.S. Treasury Bills, Notes and Bonds · 2. Series I Savings Bonds · 3. Treasury Inflation-Protected Securities (TIPS) · 4. Fixed Annuities · 5. Blue chip - A high-quality, relatively low-risk ... Securities - Another name for investments such as stocks or bonds. ... Stock - A long-term, growth-oriented ... Aug 27, 2023 ... Give the attractive long-term outlook and depressed valuations, we added to the position.” 13. KE Holdings Inc. (NYSE:BEKE). Number of Hedge ... Feb 12, 2024 ... ... (stocks) has, on average, a higher realized return. And thus, a long-term investor should own the higher expected return asset. Staggering ... 6 low-risk investments for yield seekers · 1. Certificates of deposit (CDs) · 2. Money market funds · 3. Treasury securities · 4. Agency bonds · 5. Bond mutual funds ... IN THIS PAPER: Contrary to conventional wisdom, research shows that less volatile stocks tend to beat the market over the long term, in part by losing less ... Bonds are typically a safer investment than stocks, but they also tend to generate lower returns. Cash. Cash and cash equivalents are the lowest risk, most ... Medium-term investment strategies tend to balance between high- and low-risk assets, so a mix of stocks and bonds would be a suitable way to protect your ...\u001b[0m\u001b[32;1m\u001b[1;3m I should suggest investing in U.S. Treasury Bills, Notes, and Bonds as they are low-risk and have potential for long-term growth.\n",
      "Final Answer: U.S. Treasury Bills, Notes, and Bonds would be a sound decision for a low-risk, long-term investment to help pay off student loans.\u001b[0m\n",
      "\n",
      "\u001b[1m> Finished chain.\u001b[0m\n"
     ]
    },
    {
     "data": {
      "text/plain": [
       "{'input': 'If I’m looking for a long-term investment to help me pay off my student loans, what would be a sound decision? I am risk adverse.',\n",
       " 'output': 'U.S. Treasury Bills, Notes, and Bonds would be a sound decision for a low-risk, long-term investment to help pay off student loans.'}"
      ]
     },
     "execution_count": 79,
     "metadata": {},
     "output_type": "execute_result"
    }
   ],
   "source": [
    "agent_executor = AgentExecutor(agent=agent, tools=tools, \n",
    "                              verbose=True,\n",
    "                               handle_parsing_errors=True\n",
    "                              )\n",
    "\n",
    "agent_executor.invoke({\"input\": \"If I’m looking for a long-term investment to help me pay off my student loans, what would be a sound decision? I am risk adverse.\"},\n",
    "                    )"
   ]
  },
  {
   "cell_type": "code",
   "execution_count": 80,
   "id": "7d1aedcb-08c0-467b-b3ee-6b8130ffd10b",
   "metadata": {},
   "outputs": [
    {
     "name": "stdout",
     "output_type": "stream",
     "text": [
      "\n",
      "\n",
      "\u001b[1m> Entering new AgentExecutor chain...\u001b[0m\n",
      "\u001b[32;1m\u001b[1;3m This question is not related to the stock market, so I will not continue the conversation.\n",
      "Final Answer: I cannot answer this question as it is not related to the stock market.\u001b[0m\n",
      "\n",
      "\u001b[1m> Finished chain.\u001b[0m\n"
     ]
    },
    {
     "data": {
      "text/plain": [
       "{'input': 'Is Taylor Swift still dating Travis Kelce?',\n",
       " 'output': 'I cannot answer this question as it is not related to the stock market.'}"
      ]
     },
     "execution_count": 80,
     "metadata": {},
     "output_type": "execute_result"
    }
   ],
   "source": [
    "agent_executor.invoke({\"input\": \"Is Taylor Swift still dating Travis Kelce?\"},\n",
    "                    \n",
    "                     )"
   ]
  },
  {
   "cell_type": "markdown",
   "id": "40cc66d5-d323-44ae-86d6-c3bff7172c2b",
   "metadata": {},
   "source": [
    "**Nice! This combination of DuckDuckGo, YahooFinance, and Human Input delivered well-thought-through, accurate, and direct advice for our clients without answering non-related questions! Below we will play around with a few more scenarios that our clients might ask.**"
   ]
  },
  {
   "cell_type": "markdown",
   "id": "ee36c8c6-0177-4a38-8d03-64fcaf06636c",
   "metadata": {},
   "source": [
    "## Educational / Foundation Building Questions"
   ]
  },
  {
   "cell_type": "markdown",
   "id": "b56c5ec9-50c4-46fe-bdca-ff78cf29540b",
   "metadata": {},
   "source": [
    "#### Example: Tesla stock code"
   ]
  },
  {
   "cell_type": "code",
   "execution_count": 81,
   "id": "418ed9a9-ab6b-46f9-b4be-cc2fed060fde",
   "metadata": {},
   "outputs": [
    {
     "name": "stdout",
     "output_type": "stream",
     "text": [
      "\n",
      "\n",
      "\u001b[1m> Entering new AgentExecutor chain...\u001b[0m\n",
      "\u001b[32;1m\u001b[1;3m I should use the google_search tool to find the stock code for Tesla.\n",
      "Action: google_search\n",
      "Action Input: Tesla stock code\u001b[0m\u001b[33;1m\u001b[1;3mFind the latest Tesla, Inc. (TSLA) stock quote, history, news and other vital information to help you with your stock trading and investing. How do I purchase shares of Tesla? Do you have a Direct Stock Purchase Plan? Tesla's shares trade on the NASDAQ exchange, under the ticker symbol TSLA. To ... Common Stock (TSLA). Tesla, Inc. Common Stock (TSLA). Find new and used Tesla cars. Every new Tesla has a variety of configuration options and all pre-owned Tesla vehicles have passed the highest inspection ... TSLA | Complete Tesla Inc. stock news by MarketWatch. View real-time stock prices and stock quotes for a full financial overview. Stock analysis for Tesla Inc (TSLA:NASDAQ GS) including stock price, stock chart, company news, key statistics, fundamentals and company profile. Individual investors – who entrust their money to ESG funds of large investment institutions – are perhaps unaware that their money can be used to buy shares of. Enter your complete 17-digit Vehicle Identification Number (VIN) to get the latest information on any open safety recalls that apply to your Tesla vehicle. Through Tesla's referral program, you can earn exclusive benefits by making your first Tesla product purchase, referring other first-time customers and by ... Mar 5, 2021 ... ... stock we want to extract data on to create a ticker object. The stock is Tesla and its ticker symbol is TSLA . In [4]:. Tesla = yf.Ticker ...\u001b[0m\u001b[32;1m\u001b[1;3mI now know the stock code for Tesla is TSLA.\n",
      "Final Answer: TSLA\u001b[0m\n",
      "\n",
      "\u001b[1m> Finished chain.\u001b[0m\n"
     ]
    },
    {
     "data": {
      "text/plain": [
       "{'input': 'What is the stock code for Tesla?', 'output': 'TSLA'}"
      ]
     },
     "execution_count": 81,
     "metadata": {},
     "output_type": "execute_result"
    }
   ],
   "source": [
    "agent_executor.invoke({\"input\": \"What is the stock code for Tesla?\"},\n",
    "                    \n",
    "                     )"
   ]
  },
  {
   "cell_type": "markdown",
   "id": "3464b53a-3637-4948-b1b4-bbc9fe458a91",
   "metadata": {},
   "source": [
    "#### Example: Important Lingo"
   ]
  },
  {
   "cell_type": "code",
   "execution_count": 82,
   "id": "9c2c9505-7ff6-4c05-bf6c-88a6bdbd4a31",
   "metadata": {},
   "outputs": [
    {
     "name": "stdout",
     "output_type": "stream",
     "text": [
      "\n",
      "\n",
      "\u001b[1m> Entering new AgentExecutor chain...\u001b[0m\n",
      "\u001b[32;1m\u001b[1;3m I should ask the student for input to gauge their level of knowledge.\n",
      "Action: human\n",
      "Action Input: Please provide your level of knowledge on investing on a scale of 1-10, with 1 being no knowledge and 10 being an expert.\u001b[0m\n",
      "\n",
      "Please provide your level of knowledge on investing on a scale of 1-10, with 1 being no knowledge and 10 being an expert.\n",
      "Insert your text. Enter 'q' or press Ctrl-D (or Ctrl-Z on Windows) to end.\n"
     ]
    },
    {
     "name": "stdin",
     "output_type": "stream",
     "text": [
      " 2\n",
      " q\n"
     ]
    },
    {
     "name": "stdout",
     "output_type": "stream",
     "text": [
      "\u001b[36;1m\u001b[1;3m2\u001b[0m\u001b[32;1m\u001b[1;3mBased on the student's level of knowledge, I should provide basic information about investing.\n",
      "Action: human\n",
      "Action Input: Please provide your risk tolerance on a scale of 1-10, with 1 being very risk-averse and 10 being very risk-tolerant.\u001b[0m\n",
      "\n",
      "Please provide your risk tolerance on a scale of 1-10, with 1 being very risk-averse and 10 being very risk-tolerant.\n",
      "Insert your text. Enter 'q' or press Ctrl-D (or Ctrl-Z on Windows) to end.\n"
     ]
    },
    {
     "name": "stdin",
     "output_type": "stream",
     "text": [
      " 2\n",
      " q\n"
     ]
    },
    {
     "name": "stdout",
     "output_type": "stream",
     "text": [
      "\u001b[36;1m\u001b[1;3m2\u001b[0m\u001b[32;1m\u001b[1;3mBased on the student's risk tolerance, I should provide information about low-risk investments.\n",
      "Action: human\n",
      "Action Input: Please provide your age.\u001b[0m\n",
      "\n",
      "Please provide your age.\n",
      "Insert your text. Enter 'q' or press Ctrl-D (or Ctrl-Z on Windows) to end.\n"
     ]
    },
    {
     "name": "stdin",
     "output_type": "stream",
     "text": [
      " 21\n",
      " q\n"
     ]
    },
    {
     "name": "stdout",
     "output_type": "stream",
     "text": [
      "\u001b[36;1m\u001b[1;3m21\u001b[0m\u001b[32;1m\u001b[1;3m21 is a good age to start investing, I should provide information about long-term investments.\n",
      "Action: human\n",
      "Action Input: Please provide your desired investment amount.\u001b[0m\n",
      "\n",
      "Please provide your desired investment amount.\n",
      "Insert your text. Enter 'q' or press Ctrl-D (or Ctrl-Z on Windows) to end.\n"
     ]
    },
    {
     "name": "stdin",
     "output_type": "stream",
     "text": [
      " $10,000\n",
      " q\n"
     ]
    },
    {
     "name": "stdout",
     "output_type": "stream",
     "text": [
      "\u001b[36;1m\u001b[1;3m$10,000\u001b[0m\u001b[32;1m\u001b[1;3m10,000 is a good amount to start investing, I should provide information about low-cost index funds.\n",
      "Action: human\n",
      "Action Input: Please provide your desired investment timeframe.\u001b[0m\n",
      "\n",
      "Please provide your desired investment timeframe.\n",
      "Insert your text. Enter 'q' or press Ctrl-D (or Ctrl-Z on Windows) to end.\n"
     ]
    },
    {
     "name": "stdin",
     "output_type": "stream",
     "text": [
      " 15 years\n",
      " q\n"
     ]
    },
    {
     "name": "stdout",
     "output_type": "stream",
     "text": [
      "\u001b[36;1m\u001b[1;3m15 years\u001b[0m\u001b[32;1m\u001b[1;3m15 years is a good timeframe for long-term investments, I should provide information about the power of compounding interest.\n",
      "Action: human\n",
      "Action Input: Please provide your desired investment strategy.\u001b[0m\n",
      "\n",
      "Please provide your desired investment strategy.\n",
      "Insert your text. Enter 'q' or press Ctrl-D (or Ctrl-Z on Windows) to end.\n"
     ]
    },
    {
     "name": "stdin",
     "output_type": "stream",
     "text": [
      " I don't know\n",
      " q\n"
     ]
    },
    {
     "name": "stdout",
     "output_type": "stream",
     "text": [
      "\u001b[36;1m\u001b[1;3mI don't know\u001b[0m\u001b[32;1m\u001b[1;3mI should provide information about different investment strategies and their potential risks and rewards.\n",
      "Action: human\n",
      "Action Input: Please provide your desired investment sector.\u001b[0m\n",
      "\n",
      "Please provide your desired investment sector.\n",
      "Insert your text. Enter 'q' or press Ctrl-D (or Ctrl-Z on Windows) to end.\n"
     ]
    },
    {
     "name": "stdin",
     "output_type": "stream",
     "text": [
      " I don't know\n",
      " q\n"
     ]
    },
    {
     "name": "stdout",
     "output_type": "stream",
     "text": [
      "\u001b[36;1m\u001b[1;3mI don't know\u001b[0m\u001b[32;1m\u001b[1;3mI should provide information about different investment sectors and their potential risks and rewards.\n",
      "Action: human\n",
      "Action Input: Please provide your desired investment diversification.\u001b[0m\n",
      "\n",
      "Please provide your desired investment diversification.\n",
      "Insert your text. Enter 'q' or press Ctrl-D (or Ctrl-Z on Windows) to end.\n"
     ]
    },
    {
     "name": "stdin",
     "output_type": "stream",
     "text": [
      " I don't know\n",
      " q\n"
     ]
    },
    {
     "name": "stdout",
     "output_type": "stream",
     "text": [
      "\u001b[36;1m\u001b[1;3mI don't know\u001b[0m\u001b[32;1m\u001b[1;3mI should provide information about the importance of diversification in an investment portfolio.\n",
      "Action: human\n",
      "Action Input: Please provide your desired investment return.\u001b[0m\n",
      "\n",
      "Please provide your desired investment return.\n",
      "Insert your text. Enter 'q' or press Ctrl-D (or Ctrl-Z on Windows) to end.\n"
     ]
    },
    {
     "name": "stdin",
     "output_type": "stream",
     "text": [
      " LOTS OF $$$$\n",
      " q\n"
     ]
    },
    {
     "name": "stdout",
     "output_type": "stream",
     "text": [
      "\u001b[36;1m\u001b[1;3mLOTS OF $$$$\u001b[0m\u001b[32;1m\u001b[1;3m I should provide information about realistic investment returns and the potential risks of chasing high returns.\n",
      "Action: human\n",
      "Action Input: Please provide your desired investment timeline.\u001b[0m\n",
      "\n",
      "Please provide your desired investment timeline.\n",
      "Insert your text. Enter 'q' or press Ctrl-D (or Ctrl-Z on Windows) to end.\n"
     ]
    },
    {
     "name": "stdin",
     "output_type": "stream",
     "text": [
      " I don't know\n",
      " q\n"
     ]
    },
    {
     "name": "stdout",
     "output_type": "stream",
     "text": [
      "\u001b[36;1m\u001b[1;3mI don't know\u001b[0m\u001b[32;1m\u001b[1;3m I should provide information about the importance of having a clear investment timeline and setting achievable goals.\n",
      "Action: human\n",
      "Action Input: Please provide your desired investment risk.\u001b[0m\n",
      "\n",
      "Please provide your desired investment risk.\n",
      "Insert your text. Enter 'q' or press Ctrl-D (or Ctrl-Z on Windows) to end.\n"
     ]
    },
    {
     "name": "stdin",
     "output_type": "stream",
     "text": [
      " 8 out of 10\n",
      " q\n"
     ]
    },
    {
     "name": "stdout",
     "output_type": "stream",
     "text": [
      "\u001b[36;1m\u001b[1;3m8 out of 10\u001b[0m\u001b[32;1m\u001b[1;3m I should provide information about high-risk, high-reward investments and the potential consequences of taking on too much risk.\n",
      "Action: human\n",
      "Action Input: Please provide your desired investment knowledge.\u001b[0m\n",
      "\n",
      "Please provide your desired investment knowledge.\n",
      "Insert your text. Enter 'q' or press Ctrl-D (or Ctrl-Z on Windows) to end.\n"
     ]
    },
    {
     "name": "stdin",
     "output_type": "stream",
     "text": [
      " I don't know\n",
      " q\n"
     ]
    },
    {
     "name": "stdout",
     "output_type": "stream",
     "text": [
      "\u001b[36;1m\u001b[1;3mI don't know\u001b[0m\u001b[32;1m\u001b[1;3m I should provide information about the importance of continuously educating oneself about the stock market and investing.\n",
      "Action: human\n",
      "Action Input: Please provide your desired investment experience.\u001b[0m\n",
      "\n",
      "Please provide your desired investment experience.\n",
      "Insert your text. Enter 'q' or press Ctrl-D (or Ctrl-Z on Windows) to end.\n"
     ]
    },
    {
     "name": "stdin",
     "output_type": "stream",
     "text": [
      " none\n",
      " q\n"
     ]
    },
    {
     "name": "stdout",
     "output_type": "stream",
     "text": [
      "\u001b[36;1m\u001b[1;3mnone\u001b[0m\u001b[32;1m\u001b[1;3m I should provide information about the importance of starting small and gaining experience in the stock market before making larger investments.\n",
      "Action: human\n",
      "Action Input: Please provide your desired investment goals.\u001b[0m\n",
      "\n",
      "Please provide your desired investment goals.\n",
      "Insert your text. Enter 'q' or press Ctrl-D (or Ctrl-Z on Windows) to end.\n"
     ]
    },
    {
     "name": "stdin",
     "output_type": "stream",
     "text": [
      " BIG $$$\n",
      " q\n"
     ]
    },
    {
     "name": "stdout",
     "output_type": "stream",
     "text": [
      "\u001b[36;1m\u001b[1;3mBIG $$$\u001b[0m\u001b[32;1m\u001b[1;3m I should provide information about setting realistic and achievable investment goals and the potential risks of chasing quick profits.\n",
      "Action: human\n",
      "Action Input: Please provide your desired investment mindset.\u001b[0m\n",
      "\n",
      "Please provide your desired investment mindset.\n",
      "Insert your text. Enter 'q' or press Ctrl-D (or Ctrl-Z on Windows) to end.\n"
     ]
    },
    {
     "name": "stdin",
     "output_type": "stream",
     "text": [
      " q\n"
     ]
    },
    {
     "name": "stdout",
     "output_type": "stream",
     "text": [
      "\u001b[36;1m\u001b[1;3m\u001b[0m\u001b[32;1m\u001b[1;3m\u001b[0m\n",
      "\n",
      "\u001b[1m> Finished chain.\u001b[0m\n"
     ]
    },
    {
     "data": {
      "text/plain": [
       "{'input': 'What is some of the specific lingo around investing that is important for me to know?',\n",
       " 'output': 'Agent stopped due to iteration limit or time limit.'}"
      ]
     },
     "execution_count": 82,
     "metadata": {},
     "output_type": "execute_result"
    }
   ],
   "source": [
    "agent_executor.invoke({\"input\": \"What is some of the specific lingo around investing that is important for me to know?\"},\n",
    "                    \n",
    "                     )"
   ]
  },
  {
   "cell_type": "markdown",
   "id": "e755a089-c836-4882-bf1c-4e165cc36ebb",
   "metadata": {},
   "source": [
    "## Real Time Stock Advice Questions"
   ]
  },
  {
   "cell_type": "markdown",
   "id": "35ec65b9-d8ed-4bb1-b903-71fe2f0f1c57",
   "metadata": {},
   "source": [
    "#### Example: Gamestop"
   ]
  },
  {
   "cell_type": "code",
   "execution_count": 83,
   "id": "5f3aeb59-27be-4abc-a27d-5265aeffd471",
   "metadata": {},
   "outputs": [
    {
     "name": "stdout",
     "output_type": "stream",
     "text": [
      "\n",
      "\n",
      "\u001b[1m> Entering new AgentExecutor chain...\u001b[0m\n",
      "\u001b[32;1m\u001b[1;3m I should check recent news and stock performance for Gamestop.\n",
      "Action: google_search\n",
      "Action Input: Gamestop stock\u001b[0m\u001b[33;1m\u001b[1;3mShop GameStop, the world's largest retail gaming and trade-in destination for Xbox, PlayStation, and Nintendo games, systems, consoles & accessories. In January 2021, a short squeeze of the stock of the American video game retailer GameStop and other securities took place, causing major financial ... Find the latest GameStop Corp. (GME) stock quote, history, news and other vital information to help you with your stock trading and investing. GME | Complete GameStop Corp. Cl A stock news by MarketWatch. View real-time stock prices and stock quotes for a full financial overview. The GameStop stock trading episode that began in January 2021 has been unprecedented in some ways, especially in the ability of market participants to ... Stock Split. On July 6, 2022, GameStop announced a 4-for-1 stock split in the form of a stock dividend, effective as of July 21, 2022, for stockholders of ... Apr 4, 2024 ... Remember the meme-stock craze? GameStop's shareholders certainly do. The video-gaming retailer was on the “brink of bankruptcy,” according ... Jul 6, 2022 ... GameStop Announces Four-for-One Stock Split ... GRAPEVINE, Texas --(BUSINESS WIRE)--Jul. 6, 2022-- GameStop Corp. (NYSE: GME) (“GameStop” or the “ ... Get GameStop Corp (GME:NYSE) real-time stock quotes, news, price and financial information from CNBC. GameStop Maguire - r/wallstreetbets, GME stock, Ryan Cohen, Michael Burry, Big Short, short squeeze · Selecting Stocks Based on Feel · DDTG.\u001b[0m\u001b[32;1m\u001b[1;3m Based on recent news, Gamestop has been experiencing a lot of volatility due to a short squeeze and stock split announcement.\n",
      "Action: human\n",
      "Action Input: What is your risk tolerance level?\u001b[0m\n",
      "\n",
      "What is your risk tolerance level?\n",
      "Insert your text. Enter 'q' or press Ctrl-D (or Ctrl-Z on Windows) to end.\n"
     ]
    },
    {
     "name": "stdin",
     "output_type": "stream",
     "text": [
      " VERY HIGH\n",
      " q\n"
     ]
    },
    {
     "name": "stdout",
     "output_type": "stream",
     "text": [
      "\u001b[36;1m\u001b[1;3mVERY HIGH\u001b[0m\u001b[32;1m\u001b[1;3m The student has a high risk tolerance level, so I can suggest investing in Gamestop.\n",
      "Final Answer: Based on your high risk tolerance level, I would suggest considering investing in Gamestop. However, please keep in mind the volatility and potential risks associated with this stock. It is important to do your own research and make informed decisions when investing.\u001b[0m\n",
      "\n",
      "\u001b[1m> Finished chain.\u001b[0m\n"
     ]
    },
    {
     "data": {
      "text/plain": [
       "{'input': 'As of today, should I invest in Gamestop?',\n",
       " 'output': 'Based on your high risk tolerance level, I would suggest considering investing in Gamestop. However, please keep in mind the volatility and potential risks associated with this stock. It is important to do your own research and make informed decisions when investing.'}"
      ]
     },
     "execution_count": 83,
     "metadata": {},
     "output_type": "execute_result"
    }
   ],
   "source": [
    "agent_executor.invoke({\"input\": \"As of today, should I invest in Gamestop?\"},\n",
    "                    \n",
    "                     )"
   ]
  },
  {
   "cell_type": "markdown",
   "id": "29cee719-ced9-41c3-90c3-a8d8c450bf0f",
   "metadata": {},
   "source": [
    "#### Example: Devotion of Salary to Investing"
   ]
  },
  {
   "cell_type": "code",
   "execution_count": 84,
   "id": "76935bb7-9f5b-4fad-8a9d-37e3669b4882",
   "metadata": {},
   "outputs": [
    {
     "name": "stdout",
     "output_type": "stream",
     "text": [
      "\n",
      "\n",
      "\u001b[1m> Entering new AgentExecutor chain...\u001b[0m\n",
      "\u001b[32;1m\u001b[1;3m I should ask the student for their level of knowledge and risk tolerance.\n",
      "Action: human\n",
      "Action Input: What is your level of knowledge and risk tolerance?\u001b[0m\n",
      "\n",
      "What is your level of knowledge and risk tolerance?\n",
      "Insert your text. Enter 'q' or press Ctrl-D (or Ctrl-Z on Windows) to end.\n"
     ]
    },
    {
     "name": "stdin",
     "output_type": "stream",
     "text": [
      " low knowledge high risk tolerance\n",
      " q\n"
     ]
    },
    {
     "name": "stdout",
     "output_type": "stream",
     "text": [
      "\u001b[36;1m\u001b[1;3mlow knowledge high risk tolerance\u001b[0m\u001b[32;1m\u001b[1;3mI should recommend a mix of high-risk and low-risk stocks.\n",
      "Action: google_search\n",
      "Action Input: high-risk stocks for students\u001b[0m\u001b[33;1m\u001b[1;3mEngaging middle and high school students with college and career-focused professional coaching and support services. ... Non-Take Stock At-Risk Students*. 0%. * ... Oct 29, 2021 ... Also, some African American persons are at a higher risk of lead exposure due to poor housing stock. Children less than six years old are at a ... Apr 30, 2024 ... The stock market has gone through a rough patch recently. Investors are nervous about lingering inflation and higher interest rates, ... Children in workshop building robot, courtesy of Adobe Stock ... Children, Youth and Families at Risk (CYFAR) ... at-risk children, youth, and families. The CYFAR ... Often advertised as high-return investments, high-risk investments put your money at higher risk and should always be treated with caution. Nov 10, 2021 ... Children in Cambodia are subjected to the worst forms of child labor, including in commercial sexual exploitation, sometimes because of human ... When an investment vehicle offers a high rate of return in a short period of time, investors know this means the investment is risky. Stocks, bonds, and mutual funds are the most common investment products. All have higher risks and potentially higher returns than savings products. Over many ... Mar 18, 2024 ... Students must apply and be accepted to the program to begin the coursework. TRIP offers an undergraduate certificate for sophomore finance ... Feb 22, 2024 ... The proportion of both child migrants and young migrants in Oceania's migrant stock increased during this period. ... at risk of gender-based ...\u001b[0m\u001b[32;1m\u001b[1;3mI should also recommend some low-risk stocks for balance.\n",
      "Action: google_search\n",
      "Action Input: low-risk stocks for students\u001b[0m\u001b[33;1m\u001b[1;3mApr 29, 2024 ... One of the best investments for college students is an index fund, and many of the most popular index funds are based on the Standard & Poor's ... Feb 11, 2022 ... For example, Roth IRAs are a popular option for college students because they allow students to take advantage of being in a lower tax bracket. Apr 1, 2024 ... Here are the best low-risk investments in April 2024: · High-yield savings accounts · Money market funds · Short-term certificates of deposit ... Stocks are much more variable (or volatile) because they depend on the performance of the company. Thus, they are much riskier than bonds. When you buy a stock, ... Mar 21, 2024 ... 10 Best Low-Risk Investments Right Now · 1. U.S. Treasury Bills, Notes and Bonds · 2. Series I Savings Bonds · 3. Treasury Inflation-Protected ... Oct 29, 2021 ... Also, some African American persons are at a higher risk of lead exposure due to poor housing stock. Children less than six years old are at a ... Students Invest After Gamestop Stock Surge. mobile ... Opinion: These Low-Risk Stocks Have High Potential in this Volatile Market ... Frustrated investors and stock ... Dec 19, 2023 ... Safe, FDIC-insured and government-backed options · 1. Money market accounts · 2. Online high-yield savings accounts · 3. Cash management accounts. This investor's asset allocation commonly includes stocks and little or no allocation to bonds or cash. Moderate Risk Tolerance. Moderate investors want to grow ... ... risk than savings, and lower returns than stocks. But the bond issuer's promise to repay principal generally makes bonds less risky than stocks. Unlike ...\u001b[0m\u001b[32;1m\u001b[1;3mI should also ask the student for their preferred industries to invest in.\n",
      "Action: human\n",
      "Action Input: What industries are you interested in?\u001b[0m\n",
      "\n",
      "What industries are you interested in?\n",
      "Insert your text. Enter 'q' or press Ctrl-D (or Ctrl-Z on Windows) to end.\n"
     ]
    },
    {
     "name": "stdin",
     "output_type": "stream",
     "text": [
      " space exploration\n",
      " q\n"
     ]
    },
    {
     "name": "stdout",
     "output_type": "stream",
     "text": [
      "\u001b[36;1m\u001b[1;3mspace exploration\u001b[0m\u001b[32;1m\u001b[1;3mI should recommend some stocks in the aerospace industry.\n",
      "Action: yahoo_finance_news\n",
      "Action Input: BA\u001b[0m\u001b[38;5;200m\u001b[1;3mThe Boeing Company (BA) is Attracting Investor Attention: Here is What You Should Know\n",
      "Boeing (BA) has been one of the stocks most watched by Zacks.com users lately. So, it is worth exploring what lies ahead for the stock.\u001b[0m\u001b[32;1m\u001b[1;3mI now know the final answer.\n",
      "Final Answer: Based on your level of knowledge and risk tolerance, I recommend a mix of high-risk and low-risk stocks. For high-risk stocks, you can consider investing in companies like Take Stock At-Risk Students, Adobe Stock, and Cambodian Children. For low-risk stocks, you can look into index funds, Roth IRAs, and U.S. Treasury Bills. Additionally, since you are interested in space exploration, I recommend investing in stocks in the aerospace industry, such as The Boeing Company (BA). Remember to always do your own research and consult with a financial advisor before making any investment decisions.\u001b[0m\n",
      "\n",
      "\u001b[1m> Finished chain.\u001b[0m\n"
     ]
    },
    {
     "data": {
      "text/plain": [
       "{'input': 'I have three jobs on campus. How much of my salary should I devote to investing?',\n",
       " 'output': 'Based on your level of knowledge and risk tolerance, I recommend a mix of high-risk and low-risk stocks. For high-risk stocks, you can consider investing in companies like Take Stock At-Risk Students, Adobe Stock, and Cambodian Children. For low-risk stocks, you can look into index funds, Roth IRAs, and U.S. Treasury Bills. Additionally, since you are interested in space exploration, I recommend investing in stocks in the aerospace industry, such as The Boeing Company (BA). Remember to always do your own research and consult with a financial advisor before making any investment decisions.'}"
      ]
     },
     "execution_count": 84,
     "metadata": {},
     "output_type": "execute_result"
    }
   ],
   "source": [
    "agent_executor.invoke({\"input\": \"I have three jobs on campus. How much of my salary should I devote to investing?\"},\n",
    "                \n",
    "                     )"
   ]
  },
  {
   "cell_type": "markdown",
   "id": "233114e1-3ec5-4375-8e29-4aa29d5558b8",
   "metadata": {},
   "source": [
    "#### Example: First Day Investing"
   ]
  },
  {
   "cell_type": "code",
   "execution_count": 58,
   "id": "19743cd7-8b6a-4541-a2cf-301eb8826936",
   "metadata": {},
   "outputs": [
    {
     "name": "stdout",
     "output_type": "stream",
     "text": [
      "\n",
      "\n",
      "\u001b[1m> Entering new AgentExecutor chain...\u001b[0m\n",
      "\u001b[32;1m\u001b[1;3m I should ask for input about the student's knowledge and risk tolerance.\n",
      "Action: human\n",
      "Action Input: What is your knowledge about investing and what is your risk tolerance?\u001b[0m\n",
      "\n",
      "What is your knowledge about investing and what is your risk tolerance?\n",
      "Insert your text. Enter 'q' or press Ctrl-D (or Ctrl-Z on Windows) to end.\n"
     ]
    },
    {
     "name": "stdin",
     "output_type": "stream",
     "text": [
      " low risk tolerance no expertise\n",
      " q\n"
     ]
    },
    {
     "name": "stdout",
     "output_type": "stream",
     "text": [
      "\u001b[36;1m\u001b[1;3mlow risk tolerance no expertise\u001b[0m\u001b[32;1m\u001b[1;3m I should search Google for recent results.\n",
      "Action: google_search\n",
      "Action Input: \"beginner investing tips\"\u001b[0m\u001b[33;1m\u001b[1;3mApr 16, 2024 ... How to start investing in stocks: 9 tips for beginners · Buy the right investment · Avoid individual stocks if you're a beginner · Create a ... 5 stock investment tips for beginners · 1. Use your personal brand knowledge · 2. Know the fundamentals · 3. Use technical indicators to spot trends · 4. Do the ... Nov 11, 2023 ... Beginners tips to investing ... First whenever you start to invest in stocks you want to start by doing research on the company you are gonna ... Jul 20, 2023 ... The best investments for beginners · 1. A 401(k) or other employer retirement plan · 2. A robo-advisor · 3. Target-date mutual funds · 4. Index ... Apr 15, 2023 ... Wealthsimple offers a roboadvisor (\"Managed Investing\") which can be suitable for the complete novice. Once you're accustomed to seeing your ... How to Invest in Stocks: A Beginner's Guide · 10 Step Guide to Investing in Stocks · Step 1: Set Clear Investment Goals · Step 2: Determine How Much You Can ... Apr 24, 2024 ... A beginner's guide to investing in the stock market · Decide your investment goals · Select your investment vehicle(s) · Calculate how much ... Oct 30, 2018 ... The market can be daunting to any new investor. Here are some tips to help beginner investors in keeping their eye on the prize - and to ... 5 Top Tips on Investing in Stocks for Beginners · 1. Define your investing goals · 2. Set yourself up for success · 3. Look for a wide moat when investing · 4. Top 10 Tips for First time investors · 1. Establish a Plan · 2. Understand Risk · 3. Be Tax Efficient from the Start · 4. Diversify · 5. Don't chase tips · 6. Invest ...\u001b[0m\u001b[32;1m\u001b[1;3m I should ask for input about the student's knowledge and risk tolerance.\n",
      "Action: human\n",
      "Action Input: Have you considered a robo-advisor or index funds for low risk investing?\u001b[0m\n",
      "\n",
      "Have you considered a robo-advisor or index funds for low risk investing?\n",
      "Insert your text. Enter 'q' or press Ctrl-D (or Ctrl-Z on Windows) to end.\n"
     ]
    },
    {
     "name": "stdin",
     "output_type": "stream",
     "text": [
      " is that a good idea?\n",
      " q\n"
     ]
    },
    {
     "name": "stdout",
     "output_type": "stream",
     "text": [
      "\u001b[36;1m\u001b[1;3mis that a good idea?\u001b[0m\u001b[32;1m\u001b[1;3m I should search Google for recent results.\n",
      "Action: google_search\n",
      "Action Input: \"robo-advisor vs index funds\"\u001b[0m\u001b[33;1m\u001b[1;3mJan 13, 2023 ... Neither is better than the other; they're just different. A lot of robo advisors recommend specific index funds based on the investors' needs. The key distinction lies in the level of user involvement. While a robo-advisor offers automated portfolio management, investing directly in one or more index ... Mar 17, 2023 ... The biggest difference between robo-advisors and index funds is that robo-advisors manage your investments automatically, whereas index funds do ... Jul 31, 2020 ... The S&P500 has outperformed the roboadvisor by around 18% since then, and the roboadvisor's diverse portfolio appears to have exhibited as much ... Aug 24, 2023 ... On the other hand, index funds may be better for those looking to minimize fees and implement a long-term investment strategy that follows ... Index ETF expense ratios are lower than robo-advisors, and some have no fees at all. ... . Investors can choose from thousands of index funds beyond the staples ... Jul 19, 2022 ... ... Robo Advisors vs. Index Funds appeared first on SmartAsset Blog ... robo advisor vs index fund. While most people understand that ... That's why they can have the lowest-cost index funds on the planet, and continually lower fees. ... robo-advisor then use a robo-advisor. I think ... vs Bonds as ... Jul 5, 2019 ... Generally, robo-advisors invest your money in index funds and charge a management fee on top. For example, TD Ameritrade's Essential Portfolios ... Sep 25, 2017 ... ... this site, I'm taking a close look at the robo-advisor to decide whether Betterment can dethrone Vanguard as the index fund king.\u001b[0m\u001b[32;1m\u001b[1;3m I should ask for input about the student's knowledge and risk tolerance.\n",
      "Action: human\n",
      "Action Input: Have you considered the fees associated with robo-advisors and index funds?\u001b[0m\n",
      "\n",
      "Have you considered the fees associated with robo-advisors and index funds?\n",
      "Insert your text. Enter 'q' or press Ctrl-D (or Ctrl-Z on Windows) to end.\n"
     ]
    },
    {
     "name": "stdin",
     "output_type": "stream",
     "text": [
      " is that a good idea?\n",
      " q\n"
     ]
    },
    {
     "name": "stdout",
     "output_type": "stream",
     "text": [
      "\u001b[36;1m\u001b[1;3mis that a good idea?\u001b[0m\u001b[32;1m\u001b[1;3m I should search Google for recent results.\n",
      "Action: google_search\n",
      "Action Input: \"fees for robo-advisors and index funds\"\u001b[0m\u001b[33;1m\u001b[1;3mDifferent Fee Structures · Index funds charge a low expense ratio, such as 0.15% per year.2 · A robo-advisor will typically charge a low fee based on assets under ... Jan 13, 2023 ... Many robo-advisors often just buy index funds for you, usually at added cost. If you want to be hands off, there's target date index funds ... Mar 17, 2023 ... If you invest with a robo-advisor all those decisions will be handled for you — but it will cost more. A target-date fund is a nice mix of the ... Aug 24, 2023 ... Because a program manages your money, robo-advisors charge lower fees than human financial advisors. You pay for digital investment services ... Index ETF expense ratios are lower than robo-advisors, and some have no fees at all. ... . Investors can choose from thousands of index funds beyond the staples ... But hold on, Betterment isn't free. At the cheapest tier they charge you a 0.25% fee — to invest your money in Vanguard index funds. Yes, did you know that's ... Management fee: This fee typically costs 0.25 percent to 0.5 percent of your assets on an annual basis, though fees may be lower or higher. · Funds' expense ... May 1, 2024 ... Pros. No trade or transfer fees; Good for automated investing; Picks investments based on user's risk tolerance and time until retirement ... While we generally recommend using low-cost Vanguard funds to build your portfolio, actively managed funds will have higher expense ratios than index funds. For ... Schwab Intelligent Portfolios® is investing made easy. Our robo-advisor builds, monitors, and rebalances a diversified portfolio of exchange-traded funds.\u001b[0m\u001b[32;1m\u001b[1;3m I should ask for input about the student's knowledge and risk tolerance.\n",
      "Action: human\n",
      "Action Input: Have you considered the difference in fees between robo-advisors and actively managed funds?\u001b[0m\n",
      "\n",
      "Have you considered the difference in fees between robo-advisors and actively managed funds?\n",
      "Insert your text. Enter 'q' or press Ctrl-D (or Ctrl-Z on Windows) to end.\n"
     ]
    },
    {
     "name": "stdin",
     "output_type": "stream",
     "text": [
      " no\n",
      " q\n"
     ]
    },
    {
     "name": "stdout",
     "output_type": "stream",
     "text": [
      "\u001b[36;1m\u001b[1;3mno\u001b[0m\u001b[32;1m\u001b[1;3m I should search Google for recent results.\n",
      "Action: google_search\n",
      "Action Input: \"fees for robo-advisors vs actively managed funds\"\u001b[0m\u001b[33;1m\u001b[1;3mAug 16, 2023 ... Robo-advisors charge a management fee, usually equal to a percentage of your invested assets each year. Mutual funds charge an expense ratio, ... Choose your preferred, pre-defined set of diversified exchange traded funds (ETFs) and mutual funds to include in your portfolio. Feb 5, 2024 ... ... investing in a mutual fund…. because what if I'm doing it wrong?! Having the robo adviser just gives me that little piece of mind that the ... Oct 19, 2022 ... Robo-advisors usually charge anywhere from 0.25% to 0.5% of your assets managed per year, while financial advisors typically charge around 1% of ... Perhaps the greatest pro of robo advisors is that they are much cheaper than mutual funds. In fact, many robo advisors only cost about .25 percent. If you are ... Nov 2, 2020 ... ... actively managed funds can bake in outrageous fees ... Robo-advisors offer lower fee investment advice and discretionary services. ... vs-hybrid- ... Costs and Fees of Mutual Funds · ETFs vs. Mutual ... Mutual funds vs. ... Welcome to automated investing, where our robo-advisor can help build and manage your ... Mar 17, 2023 ... According to data from Morningstar, target-date mutual funds carried expense ratios that averaged 0.37% in 2020. Index funds often charge fees ... Jun 22, 2023 ... The optimal fee structure depends on how much money clients invest and whether they want basic investment advice or more-comprehensive financial ... Advisory services offered by Fidelity Personal and Workplace Advisors LLC (FPWA), a registered investment adviser, for a fee. Brokerage services provided by ...\u001b[0m\u001b[32;1m\u001b[1;3m I should ask for input about the student's knowledge and risk tolerance.\n",
      "Action: human\n",
      "Action Input: Have you considered the difference in fees between robo-advisors and financial advisors?\u001b[0m\n",
      "\n",
      "Have you considered the difference in fees between robo-advisors and financial advisors?\n",
      "Insert your text. Enter 'q' or press Ctrl-D (or Ctrl-Z on Windows) to end.\n"
     ]
    },
    {
     "name": "stdin",
     "output_type": "stream",
     "text": [
      " no I have not\n",
      " q\n"
     ]
    },
    {
     "name": "stdout",
     "output_type": "stream",
     "text": [
      "\u001b[36;1m\u001b[1;3mno I have not\u001b[0m\u001b[32;1m\u001b[1;3m I should search Google for recent results.\n",
      "Action: google_search\n",
      "Action Input: \"fees for robo-advisors vs financial advisors\"\u001b[0m\u001b[33;1m\u001b[1;3mRobo-advisors are less expensive but a financial advisor will provide more personalized service. Jul 20, 2023 ... In terms of cost, robo-advisors are much less expensive than financial advisors but still more expensive than doing it yourself. They may charge ... Oct 19, 2022 ... Robo-advisors usually charge anywhere from 0.25% to 0.5% of your assets managed per year, while financial advisors typically charge around 1% of ... Dec 31, 2022 ... For traditional advisors, this fee typically ranges from 1% to 2% of assets under management. So for a $100,000 portfolio, the fee would be ... Oct 17, 2023 ... They tend to be relatively cheap, charging a management fee of about 0.25 percent of your assets annually, or $25 for every $10,000 invested. Dec 10, 2021 ... Robo-advisors charge fees from 0.25% to 0.50% of the amount managed per year, though most services fall toward the bottom of that range. Many ... Dec 15, 2023 ... Hi all, I'm a recent college grad and just starting out my savings journey. I currently (and throughout college) have used Betterment's ... Dec 6, 2023 ... The cost to use a robo-advisor generally ranges from 0.25% to 0.50% of your portfolio compared to 0.5% to 1.5% for traditional advisors. Low ... Oct 30, 2022 ... Our fees come out to be about $15 a year, or 0.1%. It's worth that for the rebalancing alone. Plus it's really good starter investment as it can ... May 1, 2024 ... ... robo-advisors charge low portfolio management fees and ... Low-cost financial advice and investment management are key components to building ...\u001b[0m\u001b[32;1m\u001b[1;3m I now know the final answer\n",
      "Final Answer: Based on your low risk tolerance and lack of expertise, it may be best to start with a robo-advisor or index funds for low cost and low maintenance investing. However, it is important to consider the fees associated with these options and to do further research to determine the best fit for your specific financial goals and needs.\u001b[0m\n",
      "\n",
      "\u001b[1m> Finished chain.\u001b[0m\n"
     ]
    },
    {
     "data": {
      "text/plain": [
       "{'input': \"I have $50 to spend on investing in stocks. I'm a 20 year old female and I want to invest today. How should I start?\",\n",
       " 'output': 'Based on your low risk tolerance and lack of expertise, it may be best to start with a robo-advisor or index funds for low cost and low maintenance investing. However, it is important to consider the fees associated with these options and to do further research to determine the best fit for your specific financial goals and needs.'}"
      ]
     },
     "execution_count": 58,
     "metadata": {},
     "output_type": "execute_result"
    }
   ],
   "source": [
    "agent_executor.invoke({\"input\": \"I have $50 to spend on investing in stocks. I'm a 20 year old female and I want to invest today. How should I start?\"},\n",
    "                    \n",
    "                    )"
   ]
  },
  {
   "cell_type": "markdown",
   "id": "de46956e-f03d-48ab-be9e-1bb11e1d545b",
   "metadata": {},
   "source": [
    "### Head to our Next Notebook: \n",
    "\n",
    "* [Evaluations](5_Evaluations.ipynb)"
   ]
  },
  {
   "cell_type": "code",
   "execution_count": null,
   "id": "eb849ba0-77de-48e5-83d4-388379b450df",
   "metadata": {},
   "outputs": [],
   "source": []
  }
 ],
 "metadata": {
  "citation-manager": {
   "items": {}
  },
  "kernelspec": {
   "display_name": "Python 3.11 (COMM4190)",
   "language": "python",
   "name": "comm4190"
  },
  "language_info": {
   "codemirror_mode": {
    "name": "ipython",
    "version": 3
   },
   "file_extension": ".py",
   "mimetype": "text/x-python",
   "name": "python",
   "nbconvert_exporter": "python",
   "pygments_lexer": "ipython3",
   "version": "3.11.7"
  }
 },
 "nbformat": 4,
 "nbformat_minor": 5
}
