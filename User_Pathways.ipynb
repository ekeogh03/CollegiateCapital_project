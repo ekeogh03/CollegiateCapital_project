{
 "cells": [
  {
   "cell_type": "markdown",
   "id": "6ca42f91-8973-4945-bb6e-881273252f2f",
   "metadata": {},
   "source": [
    "## Diagrams to explain the system\n",
    "\n",
    "In order to map out some of our use cases, we created several flowcharts using mermaid! They should offer insights into the manner in which our platform will work and examples of potential students experiences.\n",
    "\n",
    "Here, the User represents our student, the Agent is CollegiateCapital, Tool1 is a DuckDuckGo search, and Tool2 is a YahooFinance search."
   ]
  },
  {
   "cell_type": "code",
   "execution_count": 27,
   "id": "b5c4f12f-cb4c-459a-97e4-b73e1435c2e3",
   "metadata": {},
   "outputs": [],
   "source": [
    "from mermaid import Mermaid"
   ]
  },
  {
   "cell_type": "code",
   "execution_count": 30,
   "id": "42b07f49-405a-4595-bd1d-323ffa2f0cde",
   "metadata": {},
   "outputs": [],
   "source": [
    "dia1 = '''\n",
    "sequenceDiagram\n",
    "    User->>Agent: What stocks should I invest in?\n",
    "    Agent-->>User: What is your risk tolerance for investing?\n",
    "    User->>Agent: Medium to High\n",
    "    Agent-->>User: What are your investing goals?\n",
    "    User->>Agent: Pay off my loans and retire at 42\n",
    "    Agent->>Tool1: What stocks give high returns?\n",
    "    Tool1->>Agent: APPL\n",
    "    Agent->>Tool2: What is the recent behavior of APPL?\n",
    "    Tool2-->>Agent: Consistent growth\n",
    "    Agent-->>User: I suggest investing in Apple and looking for an tropical island to buy in 20 years time!\n",
    "    '''"
   ]
  },
  {
   "cell_type": "code",
   "execution_count": 31,
   "id": "5ece9397-f88c-4a32-b4fd-85730d2bab76",
   "metadata": {},
   "outputs": [
    {
     "data": {
      "text/html": [
       "\n",
       "        <div class=\"mermaid-6c623eb9-86b9-4492-8b64-86d0eb3ca410\"></div>\n",
       "        <script type=\"module\">\n",
       "            import mermaid from 'https://cdn.jsdelivr.net/npm/mermaid@10.1.0/+esm'\n",
       "            const graphDefinition = 'sequenceDiagram\\n    User->>Agent: What stocks should I invest in?\\n    Agent-->>User: What is your risk tolerance for investing?\\n    User->>Agent: Medium to High\\n    Agent-->>User: What are your investing goals?\\n    User->>Agent: Pay off my loans and retire at 42\\n    Agent->>Tool1: What stocks give high returns?\\n    Tool1->>Agent: APPL\\n    Agent->>Tool2: What is the recent behavior of APPL?\\n    Tool2-->>Agent: Consistent growth\\n    Agent-->>User: I suggest investing in Apple and looking for an tropical island to buy in 20 years time!\\n    ';\n",
       "            const element = document.querySelector('.mermaid-6c623eb9-86b9-4492-8b64-86d0eb3ca410');\n",
       "            const { svg } = await mermaid.render('graphDiv-6c623eb9-86b9-4492-8b64-86d0eb3ca410', graphDefinition);\n",
       "            element.innerHTML = svg;\n",
       "        </script>\n",
       "        "
      ],
      "text/plain": [
       "<mermaid.mermaid.Mermaid at 0x7f1ee2780310>"
      ]
     },
     "execution_count": 31,
     "metadata": {},
     "output_type": "execute_result"
    }
   ],
   "source": [
    "Mermaid(dia1)"
   ]
  },
  {
   "cell_type": "code",
   "execution_count": 33,
   "id": "7c6df782-17f9-4d37-b5a8-11016c98d761",
   "metadata": {},
   "outputs": [
    {
     "data": {
      "text/html": [
       "\n",
       "        <div class=\"mermaid-e1969ff7-9998-4fba-845e-d0e93c8ecd77\"></div>\n",
       "        <script type=\"module\">\n",
       "            import mermaid from 'https://cdn.jsdelivr.net/npm/mermaid@10.1.0/+esm'\n",
       "            const graphDefinition = 'sequenceDiagram;\\n    User->>Agent: What platforms should I use to execute my buy/sells?\\n    Agent->>Tool1: Best college-level investing apps?\\n    Tool1->>Agent: Acorn, Robinhood, Vanguard. \\n    Agent-->>User: Here are three platforms that are great for college students to buy and sell stock in the stock market. 1) Acorn. Acorn takes the change you accure during transactions and automatically invests it for you. [cont.]\\n    ';\n",
       "            const element = document.querySelector('.mermaid-e1969ff7-9998-4fba-845e-d0e93c8ecd77');\n",
       "            const { svg } = await mermaid.render('graphDiv-e1969ff7-9998-4fba-845e-d0e93c8ecd77', graphDefinition);\n",
       "            element.innerHTML = svg;\n",
       "        </script>\n",
       "        "
      ],
      "text/plain": [
       "<mermaid.mermaid.Mermaid at 0x7f1ee27814d0>"
      ]
     },
     "execution_count": 33,
     "metadata": {},
     "output_type": "execute_result"
    }
   ],
   "source": [
    "dia2 = '''\n",
    "sequenceDiagram;\n",
    "    User->>Agent: What platforms should I use to execute my buy/sells?\n",
    "    Agent->>Tool1: Best college-level investing apps?\n",
    "    Tool1->>Agent: Acorn, Robinhood, Vanguard. \n",
    "    Agent-->>User: Here are three platforms that are great for college students to buy and sell stock in the stock market. 1) Acorn. Acorn takes the change you accure during transactions and automatically invests it for you. [cont.]\n",
    "    '''\n",
    "\n",
    "Mermaid(dia2)"
   ]
  },
  {
   "cell_type": "code",
   "execution_count": 34,
   "id": "4cd4b30c-0960-46dc-9367-7c31021bec28",
   "metadata": {},
   "outputs": [
    {
     "data": {
      "text/html": [
       "\n",
       "        <div class=\"mermaid-4ca86109-9b8a-4022-b81c-07826aba8c78\"></div>\n",
       "        <script type=\"module\">\n",
       "            import mermaid from 'https://cdn.jsdelivr.net/npm/mermaid@10.1.0/+esm'\n",
       "            const graphDefinition = 'sequenceDiagram\\n    User->>Agent: How has Amazon stock been doing?\\n    Agent->>Tool1: What are the recent trends in Amazon stock?\\n    Tool1->>Agent: Amazon (AMZN) has been facing some fluctuation given new leadership. \\n    Agent->>Tool2: How has AMZN been performing recently?\\n    Tool2-->>Agent: Shaky growth recently, but positive trends overall.\\n    Agent-->>User: Amazon stock has been experiecing slight fluctuations in performance recently due to changing leadership. Overall, the stock remains a strong and consistent performer.\\n';\n",
       "            const element = document.querySelector('.mermaid-4ca86109-9b8a-4022-b81c-07826aba8c78');\n",
       "            const { svg } = await mermaid.render('graphDiv-4ca86109-9b8a-4022-b81c-07826aba8c78', graphDefinition);\n",
       "            element.innerHTML = svg;\n",
       "        </script>\n",
       "        "
      ],
      "text/plain": [
       "<mermaid.mermaid.Mermaid at 0x7f1ee27825d0>"
      ]
     },
     "execution_count": 34,
     "metadata": {},
     "output_type": "execute_result"
    }
   ],
   "source": [
    "dia3 = '''\n",
    "\n",
    "sequenceDiagram\n",
    "    User->>Agent: How has Amazon stock been doing?\n",
    "    Agent->>Tool1: What are the recent trends in Amazon stock?\n",
    "    Tool1->>Agent: Amazon (AMZN) has been facing some fluctuation given new leadership. \n",
    "    Agent->>Tool2: How has AMZN been performing recently?\n",
    "    Tool2-->>Agent: Shaky growth recently, but positive trends overall.\n",
    "    Agent-->>User: Amazon stock has been experiecing slight fluctuations in performance recently due to changing leadership. Overall, the stock remains a strong and consistent performer.\n",
    "'''\n",
    "\n",
    "Mermaid(dia3)"
   ]
  },
  {
   "cell_type": "code",
   "execution_count": 35,
   "id": "ed9719a5-b216-4ce5-be94-85b504a3f7ae",
   "metadata": {},
   "outputs": [
    {
     "data": {
      "text/html": [
       "\n",
       "        <div class=\"mermaid-2e279e9a-6de0-4555-926b-af06b5bd908f\"></div>\n",
       "        <script type=\"module\">\n",
       "            import mermaid from 'https://cdn.jsdelivr.net/npm/mermaid@10.1.0/+esm'\n",
       "            const graphDefinition = 'sequenceDiagram;\\n    User->>Agent: What platforms should I use to execute my buy/sells?\\n    Agent->>Tool1: Best college-level investing apps?\\n    Tool1->>Agent: Acorn, Robinhood, Vanguard. \\n    Agent-->>User: Here are three platforms that are great for college students to buy and sell stock in the stock market. 1) Acorn. Acorn takes the change you accure during transactions and automatically invests it for you. [cont.]\\n';\n",
       "            const element = document.querySelector('.mermaid-2e279e9a-6de0-4555-926b-af06b5bd908f');\n",
       "            const { svg } = await mermaid.render('graphDiv-2e279e9a-6de0-4555-926b-af06b5bd908f', graphDefinition);\n",
       "            element.innerHTML = svg;\n",
       "        </script>\n",
       "        "
      ],
      "text/plain": [
       "<mermaid.mermaid.Mermaid at 0x7f1ee2783210>"
      ]
     },
     "execution_count": 35,
     "metadata": {},
     "output_type": "execute_result"
    }
   ],
   "source": [
    "dia4 = '''\n",
    "\n",
    "sequenceDiagram;\n",
    "    User->>Agent: What platforms should I use to execute my buy/sells?\n",
    "    Agent->>Tool1: Best college-level investing apps?\n",
    "    Tool1->>Agent: Acorn, Robinhood, Vanguard. \n",
    "    Agent-->>User: Here are three platforms that are great for college students to buy and sell stock in the stock market. 1) Acorn. Acorn takes the change you accure during transactions and automatically invests it for you. [cont.]\n",
    "'''\n",
    "\n",
    "Mermaid(dia4)"
   ]
  },
  {
   "cell_type": "markdown",
   "id": "f6645f1b-d17f-4cb9-bb6b-e2feb0672521",
   "metadata": {},
   "source": [
    "## Head to our Next Notebook:\n",
    "\n",
    "* [Evaluating existing LLMs](Exploration.ipynb)"
   ]
  },
  {
   "cell_type": "code",
   "execution_count": 1,
   "id": "8db9e656-1828-4ff4-95c4-720b8ab66b15",
   "metadata": {},
   "outputs": [
    {
     "data": {
      "text/html": [
       "<svg id=\"mermaid-svg\" width=\"100%\" xmlns=\"http://www.w3.org/2000/svg\" style=\"max-width: 302.8125px;\" viewBox=\"-8 -8 302.8125 446.28125\" role=\"graphics-document document\" aria-roledescription=\"flowchart-v2\" xmlns:xlink=\"http://www.w3.org/1999/xlink\"><style xmlns=\"http://www.w3.org/1999/xhtml\">@import url(\"https://cdnjs.cloudflare.com/ajax/libs/font-awesome/6.5.2/css/all.min.css\");</style><style>#mermaid-svg{font-family:\"trebuchet ms\",verdana,arial,sans-serif;font-size:16px;fill:#333;}#mermaid-svg .error-icon{fill:#552222;}#mermaid-svg .error-text{fill:#552222;stroke:#552222;}#mermaid-svg .edge-thickness-normal{stroke-width:2px;}#mermaid-svg .edge-thickness-thick{stroke-width:3.5px;}#mermaid-svg .edge-pattern-solid{stroke-dasharray:0;}#mermaid-svg .edge-pattern-dashed{stroke-dasharray:3;}#mermaid-svg .edge-pattern-dotted{stroke-dasharray:2;}#mermaid-svg .marker{fill:#333333;stroke:#333333;}#mermaid-svg .marker.cross{stroke:#333333;}#mermaid-svg svg{font-family:\"trebuchet ms\",verdana,arial,sans-serif;font-size:16px;}#mermaid-svg .label{font-family:\"trebuchet ms\",verdana,arial,sans-serif;color:#333;}#mermaid-svg .cluster-label text{fill:#333;}#mermaid-svg .cluster-label span,#mermaid-svg p{color:#333;}#mermaid-svg .label text,#mermaid-svg span,#mermaid-svg p{fill:#333;color:#333;}#mermaid-svg .node rect,#mermaid-svg .node circle,#mermaid-svg .node ellipse,#mermaid-svg .node polygon,#mermaid-svg .node path{fill:#ECECFF;stroke:#9370DB;stroke-width:1px;}#mermaid-svg .flowchart-label text{text-anchor:middle;}#mermaid-svg .node .katex path{fill:#000;stroke:#000;stroke-width:1px;}#mermaid-svg .node .label{text-align:center;}#mermaid-svg .node.clickable{cursor:pointer;}#mermaid-svg .arrowheadPath{fill:#333333;}#mermaid-svg .edgePath .path{stroke:#333333;stroke-width:2.0px;}#mermaid-svg .flowchart-link{stroke:#333333;fill:none;}#mermaid-svg .edgeLabel{background-color:#e8e8e8;text-align:center;}#mermaid-svg .edgeLabel rect{opacity:0.5;background-color:#e8e8e8;fill:#e8e8e8;}#mermaid-svg .labelBkg{background-color:rgba(232, 232, 232, 0.5);}#mermaid-svg .cluster rect{fill:#ffffde;stroke:#aaaa33;stroke-width:1px;}#mermaid-svg .cluster text{fill:#333;}#mermaid-svg .cluster span,#mermaid-svg p{color:#333;}#mermaid-svg div.mermaidTooltip{position:absolute;text-align:center;max-width:200px;padding:2px;font-family:\"trebuchet ms\",verdana,arial,sans-serif;font-size:12px;background:hsl(80, 100%, 96.2745098039%);border:1px solid #aaaa33;border-radius:2px;pointer-events:none;z-index:100;}#mermaid-svg .flowchartTitleText{text-anchor:middle;font-size:18px;fill:#333;}#mermaid-svg :root{--mermaid-font-family:\"trebuchet ms\",verdana,arial,sans-serif;}</style><g><marker id=\"mermaid-svg_flowchart-pointEnd\" class=\"marker flowchart\" viewBox=\"0 0 10 10\" refX=\"6\" refY=\"5\" markerUnits=\"userSpaceOnUse\" markerWidth=\"12\" markerHeight=\"12\" orient=\"auto\"><path d=\"M 0 0 L 10 5 L 0 10 z\" class=\"arrowMarkerPath\" style=\"stroke-width: 1; stroke-dasharray: 1, 0;\"/></marker><marker id=\"mermaid-svg_flowchart-pointStart\" class=\"marker flowchart\" viewBox=\"0 0 10 10\" refX=\"4.5\" refY=\"5\" markerUnits=\"userSpaceOnUse\" markerWidth=\"12\" markerHeight=\"12\" orient=\"auto\"><path d=\"M 0 5 L 10 10 L 10 0 z\" class=\"arrowMarkerPath\" style=\"stroke-width: 1; stroke-dasharray: 1, 0;\"/></marker><marker id=\"mermaid-svg_flowchart-circleEnd\" class=\"marker flowchart\" viewBox=\"0 0 10 10\" refX=\"11\" refY=\"5\" markerUnits=\"userSpaceOnUse\" markerWidth=\"11\" markerHeight=\"11\" orient=\"auto\"><circle cx=\"5\" cy=\"5\" r=\"5\" class=\"arrowMarkerPath\" style=\"stroke-width: 1; stroke-dasharray: 1, 0;\"/></marker><marker id=\"mermaid-svg_flowchart-circleStart\" class=\"marker flowchart\" viewBox=\"0 0 10 10\" refX=\"-1\" refY=\"5\" markerUnits=\"userSpaceOnUse\" markerWidth=\"11\" markerHeight=\"11\" orient=\"auto\"><circle cx=\"5\" cy=\"5\" r=\"5\" class=\"arrowMarkerPath\" style=\"stroke-width: 1; stroke-dasharray: 1, 0;\"/></marker><marker id=\"mermaid-svg_flowchart-crossEnd\" class=\"marker cross flowchart\" viewBox=\"0 0 11 11\" refX=\"12\" refY=\"5.2\" markerUnits=\"userSpaceOnUse\" markerWidth=\"11\" markerHeight=\"11\" orient=\"auto\"><path d=\"M 1,1 l 9,9 M 10,1 l -9,9\" class=\"arrowMarkerPath\" style=\"stroke-width: 2; stroke-dasharray: 1, 0;\"/></marker><marker id=\"mermaid-svg_flowchart-crossStart\" class=\"marker cross flowchart\" viewBox=\"0 0 11 11\" refX=\"-1\" refY=\"5.2\" markerUnits=\"userSpaceOnUse\" markerWidth=\"11\" markerHeight=\"11\" orient=\"auto\"><path d=\"M 1,1 l 9,9 M 10,1 l -9,9\" class=\"arrowMarkerPath\" style=\"stroke-width: 2; stroke-dasharray: 1, 0;\"/></marker><g class=\"root\"><g class=\"clusters\"/><g class=\"edgePaths\"><path d=\"M145.531,34L145.531,39.75C145.531,45.5,145.531,57,145.531,67.617C145.531,78.233,145.531,87.967,145.531,92.833L145.531,97.7\" id=\"L-A-B-0\" class=\" edge-thickness-normal edge-pattern-solid flowchart-link LS-A LE-B\" style=\"fill:none;\" marker-end=\"url(#mermaid-svg_flowchart-pointEnd)\"/><path d=\"M145.531,137L145.531,141.167C145.531,145.333,145.531,153.667,145.597,161.2C145.663,168.734,145.795,175.467,145.861,178.834L145.927,182.201\" id=\"L-B-C-0\" class=\" edge-thickness-normal edge-pattern-solid flowchart-link LS-B LE-C\" style=\"fill:none;\" marker-end=\"url(#mermaid-svg_flowchart-pointEnd)\"/><path d=\"M109.552,291.302L96.649,303.049C83.746,314.795,57.939,338.288,45.036,354.901C32.133,371.515,32.133,381.248,32.133,386.115L32.133,390.981\" id=\"L-C-D-0\" class=\" edge-thickness-normal edge-pattern-solid flowchart-link LS-C LE-D\" style=\"fill:none;\" marker-end=\"url(#mermaid-svg_flowchart-pointEnd)\"/><path d=\"M146.031,327.781L145.948,333.448C145.865,339.115,145.698,350.448,145.615,360.981C145.531,371.515,145.531,381.248,145.531,386.115L145.531,390.981\" id=\"L-C-E-0\" class=\" edge-thickness-normal edge-pattern-solid flowchart-link LS-C LE-E\" style=\"fill:none;\" marker-end=\"url(#mermaid-svg_flowchart-pointEnd)\"/><path d=\"M182.179,291.634L194.617,303.325C207.054,315.016,231.929,338.399,244.367,354.957C256.805,371.515,256.805,381.248,256.805,386.115L256.805,390.981\" id=\"L-C-F-0\" class=\" edge-thickness-normal edge-pattern-solid flowchart-link LS-C LE-F\" style=\"fill:none;\" marker-end=\"url(#mermaid-svg_flowchart-pointEnd)\"/></g><g class=\"edgeLabels\"><g class=\"edgeLabel\" transform=\"translate(145.53125, 68.5)\"><g class=\"label\" transform=\"translate(-38.96875, -9.5)\"><foreignObject width=\"77.9375\" height=\"19\"><div xmlns=\"http://www.w3.org/1999/xhtml\" style=\"display: inline-block; white-space: nowrap;\"><span class=\"edgeLabel\">Get money</span></div></foreignObject></g></g><g class=\"edgeLabel\"><g class=\"label\" transform=\"translate(0, 0)\"><foreignObject width=\"0\" height=\"0\"><div xmlns=\"http://www.w3.org/1999/xhtml\" style=\"display: inline-block; white-space: nowrap;\"><span class=\"edgeLabel\"></span></div></foreignObject></g></g><g class=\"edgeLabel\" transform=\"translate(32.1328125, 361.78125)\"><g class=\"label\" transform=\"translate(-14.125, -9.5)\"><foreignObject width=\"28.25\" height=\"19\"><div xmlns=\"http://www.w3.org/1999/xhtml\" style=\"display: inline-block; white-space: nowrap;\"><span class=\"edgeLabel\">One</span></div></foreignObject></g></g><g class=\"edgeLabel\" transform=\"translate(145.53125, 361.78125)\"><g class=\"label\" transform=\"translate(-13.7890625, -9.5)\"><foreignObject width=\"27.578125\" height=\"19\"><div xmlns=\"http://www.w3.org/1999/xhtml\" style=\"display: inline-block; white-space: nowrap;\"><span class=\"edgeLabel\">Two</span></div></foreignObject></g></g><g class=\"edgeLabel\" transform=\"translate(256.8046875, 361.78125)\"><g class=\"label\" transform=\"translate(-20.8515625, -9.5)\"><foreignObject width=\"41.703125\" height=\"19\"><div xmlns=\"http://www.w3.org/1999/xhtml\" style=\"display: inline-block; white-space: nowrap;\"><span class=\"edgeLabel\">Three</span></div></foreignObject></g></g></g><g class=\"nodes\"><g class=\"node default default flowchart-label\" id=\"flowchart-A-0\" data-node=\"true\" data-id=\"A\" transform=\"translate(145.53125, 17)\"><rect class=\"basic label-container\" style=\"\" rx=\"0\" ry=\"0\" x=\"-42.5390625\" y=\"-17\" width=\"85.078125\" height=\"34\"/><g class=\"label\" style=\"\" transform=\"translate(-35.0390625, -9.5)\"><rect/><foreignObject width=\"70.078125\" height=\"19\"><div xmlns=\"http://www.w3.org/1999/xhtml\" style=\"display: inline-block; white-space: nowrap;\"><span class=\"nodeLabel\">Christmas</span></div></foreignObject></g></g><g class=\"node default default flowchart-label\" id=\"flowchart-B-1\" data-node=\"true\" data-id=\"B\" transform=\"translate(145.53125, 120)\"><rect class=\"basic label-container\" style=\"\" rx=\"5\" ry=\"5\" x=\"-51.1015625\" y=\"-17\" width=\"102.203125\" height=\"34\"/><g class=\"label\" style=\"\" transform=\"translate(-43.6015625, -9.5)\"><rect/><foreignObject width=\"87.203125\" height=\"19\"><div xmlns=\"http://www.w3.org/1999/xhtml\" style=\"display: inline-block; white-space: nowrap;\"><span class=\"nodeLabel\">Go shopping</span></div></foreignObject></g></g><g class=\"node default default flowchart-label\" id=\"flowchart-C-3\" data-node=\"true\" data-id=\"C\" transform=\"translate(145.53125, 257.140625)\"><polygon points=\"70.140625,0 140.28125,-70.140625 70.140625,-140.28125 0,-70.140625\" class=\"label-container\" transform=\"translate(-70.140625,70.140625)\" style=\"\"/><g class=\"label\" style=\"\" transform=\"translate(-45.640625, -9.5)\"><rect/><foreignObject width=\"91.28125\" height=\"19\"><div xmlns=\"http://www.w3.org/1999/xhtml\" style=\"display: inline-block; white-space: nowrap;\"><span class=\"nodeLabel\">Let me think</span></div></foreignObject></g></g><g class=\"node default default flowchart-label\" id=\"flowchart-D-5\" data-node=\"true\" data-id=\"D\" transform=\"translate(32.1328125, 413.28125)\"><rect class=\"basic label-container\" style=\"\" rx=\"0\" ry=\"0\" x=\"-32.1328125\" y=\"-17\" width=\"64.265625\" height=\"34\"/><g class=\"label\" style=\"\" transform=\"translate(-24.6328125, -9.5)\"><rect/><foreignObject width=\"49.265625\" height=\"19\"><div xmlns=\"http://www.w3.org/1999/xhtml\" style=\"display: inline-block; white-space: nowrap;\"><span class=\"nodeLabel\">Laptop</span></div></foreignObject></g></g><g class=\"node default default flowchart-label\" id=\"flowchart-E-7\" data-node=\"true\" data-id=\"E\" transform=\"translate(145.53125, 413.28125)\"><rect class=\"basic label-container\" style=\"\" rx=\"0\" ry=\"0\" x=\"-31.265625\" y=\"-17\" width=\"62.53125\" height=\"34\"/><g class=\"label\" style=\"\" transform=\"translate(-23.765625, -9.5)\"><rect/><foreignObject width=\"47.53125\" height=\"19\"><div xmlns=\"http://www.w3.org/1999/xhtml\" style=\"display: inline-block; white-space: nowrap;\"><span class=\"nodeLabel\">iPhone</span></div></foreignObject></g></g><g class=\"node default default flowchart-label\" id=\"flowchart-F-9\" data-node=\"true\" data-id=\"F\" transform=\"translate(256.8046875, 413.28125)\"><rect class=\"basic label-container\" style=\"\" rx=\"0\" ry=\"0\" x=\"-30.0078125\" y=\"-17\" width=\"60.015625\" height=\"34\"/><g class=\"label\" style=\"\" transform=\"translate(-22.5078125, -9.5)\"><rect/><foreignObject width=\"45.015625\" height=\"19\"><div xmlns=\"http://www.w3.org/1999/xhtml\" style=\"display: inline-block; white-space: nowrap;\"><span class=\"nodeLabel\"><i class=\"fa fa-car\"></i> Car</span></div></foreignObject></g></g></g></g></g></svg>"
      ],
      "text/plain": [
       "<mermaid._main.Mermaid at 0x7fd532d23450>"
      ]
     },
     "execution_count": 1,
     "metadata": {},
     "output_type": "execute_result"
    }
   ],
   "source": [
    "import mermaid as md\n",
    "from mermaid.graph import Graph\n",
    "\n",
    "graph: Graph = Graph('example-flowchart',\"\"\"\n",
    "flowchart TD\n",
    "    A[Christmas] -->|Get money| B(Go shopping)\n",
    "    B --> C{Let me think}\n",
    "    C -->|One| D[Laptop]\n",
    "    C -->|Two| E[iPhone]\n",
    "    C -->|Three| F[fa:fa-car Car]\n",
    "\"\"\")\n",
    "graphe: md.Mermaid = md.Mermaid(graph)\n",
    "graphe # !! note this work just in notbooke that render html."
   ]
  },
  {
   "cell_type": "code",
   "execution_count": null,
   "id": "a9a9585f-f6bc-45e0-bfc0-7bebf2f50c1a",
   "metadata": {},
   "outputs": [],
   "source": []
  }
 ],
 "metadata": {
  "citation-manager": {
   "items": {}
  },
  "kernelspec": {
   "display_name": "Python 3.11 (COMM4190)",
   "language": "python",
   "name": "comm4190"
  },
  "language_info": {
   "codemirror_mode": {
    "name": "ipython",
    "version": 3
   },
   "file_extension": ".py",
   "mimetype": "text/x-python",
   "name": "python",
   "nbconvert_exporter": "python",
   "pygments_lexer": "ipython3",
   "version": "3.11.7"
  }
 },
 "nbformat": 4,
 "nbformat_minor": 5
}
